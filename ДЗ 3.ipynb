{
  "cells": [
    {
      "cell_type": "markdown",
      "metadata": {
        "id": "8nUSxQBet7y5"
      },
      "source": [
        " # Занятие 3. Передача аргументов по ссылке и значению. Генераторы списков. Регулярные выражения. Работа с файлами. Модули. Обработка ошибок."
      ]
    },
    {
      "cell_type": "markdown",
      "metadata": {
        "id": "YnvNdtlit7y-"
      },
      "source": [
        "## 1. Передача аргументов по ссылке и значению."
      ]
    },
    {
      "cell_type": "markdown",
      "metadata": {
        "id": "Vw21tKtYt7y-"
      },
      "source": [
        "Как передаются переменные по ссылке или значению определяется в зависимости от передаваемого типа данных.\n",
        "\n",
        "В Python существует два типа объектов: "
      ]
    },
    {
      "cell_type": "markdown",
      "metadata": {
        "id": "UuEWGcTLt7y_"
      },
      "source": [
        "### Неизменяемые (immutable)\n",
        "\n",
        "Неизменяемые объекты передаются _по значению_. \n",
        "\n",
        "Это значит, что при изменении значения переменной будет создан новый объект. К этому типу относятся: \n",
        "- числовые данные (int, float, complex) \n",
        "- символьные строки (str) \n",
        "- кортежи (tuple) \n",
        "\n",
        "Вы не можете изменить сам объект, т.е. когда вы присвоите переменной новое значение, интерпретатор создаст новый объект (если до этого этот объект был создан, то переменная просто получит ссылку), а первоначальный объект удалится из памяти сбощиком мусора, если ссылок на него больше нет."
      ]
    },
    {
      "cell_type": "code",
      "execution_count": null,
      "metadata": {
        "scrolled": true,
        "id": "-bCQL6l5t7zA"
      },
      "outputs": [],
      "source": [
        "n1 = 2\n",
        "n2 = n1\n",
        "n2 = 4\n",
        "print(n1, n2)"
      ]
    },
    {
      "cell_type": "markdown",
      "metadata": {
        "id": "rW9Z-7fut7zB"
      },
      "source": [
        "### Изменяемые (mutable)\n",
        "\n",
        "Изменяемые объекты передаются _по ссылке_. Это значит, что при изменении значения переменной объект будет изменен. К этому типу относятся: \n",
        "- списки (list) \n",
        "- множества (set) \n",
        "- словари (dict)"
      ]
    },
    {
      "cell_type": "code",
      "execution_count": null,
      "metadata": {
        "scrolled": true,
        "id": "LZuK2TOKt7zB"
      },
      "outputs": [],
      "source": [
        "sp1 = [1,2,3]\n",
        "sp2 = sp1\n",
        "sp2.append(4)\n",
        "print(sp1)"
      ]
    },
    {
      "cell_type": "markdown",
      "metadata": {
        "id": "t2jQ8mdHt7zC"
      },
      "source": [
        "###  Подводные камни"
      ]
    },
    {
      "cell_type": "code",
      "execution_count": null,
      "metadata": {
        "id": "bZ0Kp2q2t7zD"
      },
      "outputs": [],
      "source": [
        "print(id(n1))\n",
        "print(id(n2))"
      ]
    },
    {
      "cell_type": "code",
      "execution_count": null,
      "metadata": {
        "scrolled": true,
        "id": "gGxpR908t7zE"
      },
      "outputs": [],
      "source": [
        "print(id(sp1))\n",
        "print(id(sp2))"
      ]
    },
    {
      "cell_type": "code",
      "execution_count": null,
      "metadata": {
        "id": "GzCFWhV4t7zF"
      },
      "outputs": [],
      "source": [
        "def modify(lst):\n",
        "    \"\"\"\n",
        "    Добавляет к передаваемому аргументу элемент 'new',\n",
        "    lst - список, передаваемый на вход функции\n",
        "    \"\"\"\n",
        "    lst.append('new')\n",
        "    return lst"
      ]
    },
    {
      "cell_type": "code",
      "execution_count": null,
      "metadata": {
        "id": "1n5l7J0at7zF"
      },
      "outputs": [],
      "source": [
        "?modify"
      ]
    },
    {
      "cell_type": "code",
      "execution_count": null,
      "metadata": {
        "id": "bkym_Szzt7zF"
      },
      "outputs": [],
      "source": [
        "my_list = [1,2,3]\n",
        "mod_list = modify(my_list)\n",
        "print(mod_list)\n",
        "print(my_list)"
      ]
    },
    {
      "cell_type": "code",
      "execution_count": null,
      "metadata": {
        "scrolled": false,
        "id": "mboUmoDRt7zG"
      },
      "outputs": [],
      "source": [
        "my_list = [1,2,3]\n",
        "mod_list = modify(my_list[:])\n",
        "print(mod_list)\n",
        "print(my_list)"
      ]
    },
    {
      "cell_type": "code",
      "execution_count": null,
      "metadata": {
        "id": "uq4g1H3nt7zG"
      },
      "outputs": [],
      "source": [
        "temp = [1, 3, 5]"
      ]
    },
    {
      "cell_type": "code",
      "execution_count": null,
      "metadata": {
        "id": "iwKQ1zNut7zH"
      },
      "outputs": [],
      "source": [
        "temp[:]"
      ]
    },
    {
      "cell_type": "code",
      "execution_count": null,
      "metadata": {
        "id": "C6gS5nr2t7zH"
      },
      "outputs": [],
      "source": [
        "print(id(temp[:]))\n",
        "print(id(temp))"
      ]
    },
    {
      "cell_type": "markdown",
      "metadata": {
        "id": "2gadIdRBt7zH"
      },
      "source": [
        "## 2. Генераторы списков."
      ]
    },
    {
      "cell_type": "code",
      "execution_count": 4,
      "metadata": {
        "id": "WkZC2hi1t7zI",
        "outputId": "f89cfa04-b463-44ec-e0c7-5768fd7246dd",
        "colab": {
          "base_uri": "https://localhost:8080/"
        }
      },
      "outputs": [
        {
          "output_type": "stream",
          "name": "stdout",
          "text": [
            "[2, -3, 7, 2, 8, -3, -2, 1, 1, 2]\n"
          ]
        }
      ],
      "source": [
        "import random\n",
        "lst = []\n",
        "for i in range(10):\n",
        "    lst.append(random.randint(-10,10))\n",
        "print(lst)"
      ]
    },
    {
      "cell_type": "code",
      "execution_count": 5,
      "metadata": {
        "id": "YaMqmmLAt7zI",
        "outputId": "74cd24d4-c75e-4376-a724-656ccb8b2b89",
        "colab": {
          "base_uri": "https://localhost:8080/"
        }
      },
      "outputs": [
        {
          "output_type": "execute_result",
          "data": {
            "text/plain": [
              "[-5, -3, -9, 4, -2, 9, 1, -7, -8, 5]"
            ]
          },
          "metadata": {},
          "execution_count": 5
        }
      ],
      "source": [
        "[random.randint(-10,10) for i in range(10)]"
      ]
    },
    {
      "cell_type": "code",
      "execution_count": 6,
      "metadata": {
        "id": "urecKeavt7zI",
        "outputId": "d885c5dd-aab8-451e-b0a0-3ab9283a60d0",
        "colab": {
          "base_uri": "https://localhost:8080/"
        }
      },
      "outputs": [
        {
          "output_type": "execute_result",
          "data": {
            "text/plain": [
              "[0, 1, 4, 9, 16, 25, 36, 49, 64, 81]"
            ]
          },
          "metadata": {},
          "execution_count": 6
        }
      ],
      "source": [
        "lst_g = [i**2 for i in range(10)]\n",
        "lst_g"
      ]
    },
    {
      "cell_type": "code",
      "execution_count": 7,
      "metadata": {
        "id": "JGYzAb14t7zJ",
        "outputId": "4a6b9353-d994-4490-eea0-4c9d137cf2a7",
        "colab": {
          "base_uri": "https://localhost:8080/"
        }
      },
      "outputs": [
        {
          "output_type": "execute_result",
          "data": {
            "text/plain": [
              "[2, 7, 2, 8, 1, 1, 2]"
            ]
          },
          "metadata": {},
          "execution_count": 7
        }
      ],
      "source": [
        "only_positive = [i for i in lst if i >= 0]\n",
        "only_positive"
      ]
    },
    {
      "cell_type": "markdown",
      "metadata": {
        "id": "syxwwR4Ft7zJ"
      },
      "source": [
        "<font color='blue'>**Задание 1.**</font>\n",
        "\n",
        "Создайте список четных чисел от 0 до 10, к каждому значению прибавьте 14"
      ]
    },
    {
      "cell_type": "markdown",
      "metadata": {
        "id": "uJOAqjo7t7zJ"
      },
      "source": [
        "## 3. Регулярные выражения."
      ]
    },
    {
      "cell_type": "markdown",
      "metadata": {
        "id": "vQp9Hodpt7zK"
      },
      "source": [
        "**Регулярное выражение** — это строка, задающая шаблон поиска подстрок в тексте.\n",
        "\n",
        "Чаще всего регулярные выражения используются для:\n",
        "- поиска в строке\n",
        "- разбиения строки на подстроки\n",
        "- замены части строки"
      ]
    },
    {
      "cell_type": "markdown",
      "metadata": {
        "id": "lUpzB-Fct7zK"
      },
      "source": [
        "В Python для работы с регулярными выражениями есть модуль re:"
      ]
    },
    {
      "cell_type": "code",
      "execution_count": 23,
      "metadata": {
        "id": "rgXSnDKat7zK"
      },
      "outputs": [],
      "source": [
        "import re"
      ]
    },
    {
      "cell_type": "markdown",
      "metadata": {
        "id": "TSHKOx8ut7zK"
      },
      "source": [
        "### Поиск в строке"
      ]
    },
    {
      "cell_type": "code",
      "execution_count": null,
      "metadata": {
        "id": "8Jokuz48t7zK"
      },
      "outputs": [],
      "source": [
        "# Строка, в которой будет осуществлен поиск:\n",
        "string = 'ДРП: Объем данной нефтебазы ДРП1234567 составляет 12000 тонн'"
      ]
    },
    {
      "cell_type": "markdown",
      "metadata": {
        "id": "fDOHgWGXt7zL"
      },
      "source": [
        "Метод _match()_ ищет по заданному шаблону в начале строки:"
      ]
    },
    {
      "cell_type": "code",
      "execution_count": null,
      "metadata": {
        "scrolled": true,
        "id": "WTGkKjmft7zL"
      },
      "outputs": [],
      "source": [
        "print(re.match('ДРП', string)) # Шаблон найден в строке\n",
        "print(re.match('тонн', string)) # Шаблон не найден в строке"
      ]
    },
    {
      "cell_type": "markdown",
      "metadata": {
        "id": "BNao6-Cot7zL"
      },
      "source": [
        "Метод _search()_ ищет по всей строке, но возвращает только первое найденное совпадение:"
      ]
    },
    {
      "cell_type": "code",
      "execution_count": null,
      "metadata": {
        "scrolled": true,
        "id": "KjxENa4At7zL"
      },
      "outputs": [],
      "source": [
        "print(re.search('тонн', string)) # Шаблон найден в строке\n",
        "print(re.search('тоннн', string)) # Шаблон не найден в строке"
      ]
    },
    {
      "cell_type": "code",
      "execution_count": null,
      "metadata": {
        "scrolled": true,
        "id": "ehSp3luUt7zL"
      },
      "outputs": [],
      "source": [
        "print(re.match('ДРП', string).group()) # Вывод содержимого исходной строки\n",
        "print(re.search('тонн', string).group()) # Вывод содержимого исходной строки"
      ]
    },
    {
      "cell_type": "markdown",
      "metadata": {
        "id": "l0XAQ2Lat7zM"
      },
      "source": [
        "Метод _findall()_ этот метод возвращает список всех найденных совпадений:"
      ]
    },
    {
      "cell_type": "code",
      "execution_count": null,
      "metadata": {
        "scrolled": false,
        "id": "UjEMBAgXt7zM"
      },
      "outputs": [],
      "source": [
        "print(re.findall('ДРП', string))\n",
        "print(re.findall('Привет', string))"
      ]
    },
    {
      "cell_type": "markdown",
      "metadata": {
        "id": "VXjE1Cm1t7zM"
      },
      "source": [
        "###  Разбиение строки"
      ]
    },
    {
      "cell_type": "code",
      "execution_count": null,
      "metadata": {
        "id": "ZqUdajDft7zM"
      },
      "outputs": [],
      "source": [
        "string # Вспомним какая у нас задана строка"
      ]
    },
    {
      "cell_type": "markdown",
      "metadata": {
        "id": "pgrpU1wst7zM"
      },
      "source": [
        "Метод _split()_ разделяет строку по заданному шаблону:"
      ]
    },
    {
      "cell_type": "code",
      "execution_count": null,
      "metadata": {
        "id": "Ja_-Ld4Xt7zN"
      },
      "outputs": [],
      "source": [
        "re.split(' ', string)"
      ]
    },
    {
      "cell_type": "code",
      "execution_count": null,
      "metadata": {
        "scrolled": true,
        "id": "-mjGkVkft7zN"
      },
      "outputs": [],
      "source": [
        "re.split(' ', string, maxsplit = 1)"
      ]
    },
    {
      "cell_type": "markdown",
      "metadata": {
        "id": "OqTzCBAet7zN"
      },
      "source": [
        "###  Замена части строки"
      ]
    },
    {
      "cell_type": "markdown",
      "metadata": {
        "id": "GaJiBJaFt7zN"
      },
      "source": [
        "Метод _sub()_ ищет шаблон в строке и заменяет его на указанную подстроку, если шаблон не найден, строка остается неизменной:"
      ]
    },
    {
      "cell_type": "code",
      "execution_count": null,
      "metadata": {
        "scrolled": true,
        "id": "KUwe6vnot7zN"
      },
      "outputs": [],
      "source": [
        "re.sub('ДРП', 'DRP', string)"
      ]
    },
    {
      "cell_type": "markdown",
      "metadata": {
        "id": "HmKdFp2jt7zO"
      },
      "source": [
        "### Операторы"
      ]
    },
    {
      "cell_type": "markdown",
      "metadata": {
        "id": "7CHMDnyzt7zO"
      },
      "source": [
        "Мы рассмотрели поиск определенной последовательности символов. Но часто случается так, что нет определенного шаблона, и нам надо вернуть набор символов из строки, отвечающий определенным правилам. Такая задача часто стоит при извлечении информации из строк. Это можно сделать, написав выражение с использованием специальных символов. Вот наиболее часто используемые из них:"
      ]
    },
    {
      "cell_type": "markdown",
      "metadata": {
        "id": "I_ANwXP9t7zO"
      },
      "source": [
        "Оператор | Значение\n",
        "------|----------\n",
        ".     | Один любой символ, кроме новой строки \\n.\n",
        "?     | 0 или 1 вхождение шаблона слева (указывает число повторений)\n",
        "+     | 1 и более вхождений шаблона слева (указывает число повторений)\n",
        "*     | 0 и более вхождений шаблона слева (указывает число повторений)\n",
        "\\w     | Любая цифра или буква\n",
        "\\W     | Все, кроме буквы или цифры\n",
        "\\d     | Любая цифра\n",
        "\\D     | Все, кроме цифры\n",
        "\\s     | Любой пробельный символ\n",
        "\\S     | Любой непробельный символ\n",
        "\\b     | Граница слова\n",
        "[..]     | Один из символов в скобках\n",
        "[^..]     | Любой символ, кроме тех, что в скобках\n",
        "\\     | Экранирование специальных символов (\\\\. означает точку или \\\\+ — знак «плюс»)\n",
        "^ и $     | Начало и конец строки соответственно\n",
        "{n,m} | От n до m вхождений ({,m} — от 0 до m)\n",
        "a\\|b | Соответствует a или b\n",
        "() | Группирует выражение и возвращает найденный текст\n",
        "\\t, \\n, \\r | Символ табуляции, новой строки и возврата каретки соответственно"
      ]
    },
    {
      "cell_type": "code",
      "execution_count": 24,
      "metadata": {
        "id": "PG_yDlZ9t7zO",
        "outputId": "f1d6cce6-3281-431a-90e6-b1cad6efd1bb",
        "colab": {
          "base_uri": "https://localhost:8080/"
        }
      },
      "outputs": [
        {
          "output_type": "stream",
          "name": "stdout",
          "text": [
            "['1', '2', '3', '4', '5', '5', '7', '1', '2', '0', '0', '0']\n"
          ]
        }
      ],
      "source": [
        "pattern = '[0-9]'\n",
        "string = 'Объем данной нефтебазы ДРП1234557 составляет 12000 тонн'\n",
        "print(re.findall(pattern, string))"
      ]
    },
    {
      "cell_type": "code",
      "execution_count": null,
      "metadata": {
        "id": "sVJyTJE8t7zP"
      },
      "outputs": [],
      "source": [
        "pattern = '\\d+'\n",
        "string = 'Объем данной нефтебазы ДРП1234557 составляет 12000 тонн'\n",
        "print(re.findall(pattern, string))"
      ]
    },
    {
      "cell_type": "code",
      "execution_count": 27,
      "metadata": {
        "scrolled": true,
        "id": "bFqJu-3At7zP",
        "outputId": "9520b8d6-e948-4f9b-c76a-70f97a429175",
        "colab": {
          "base_uri": "https://localhost:8080/"
        }
      },
      "outputs": [
        {
          "output_type": "stream",
          "name": "stdout",
          "text": [
            "['12000']\n"
          ]
        }
      ],
      "source": [
        "pattern = ' ([0-9]+)'\n",
        "string = 'Объем данной нефтебазы ДРП1234557 составляет 12000 тонн'\n",
        "print(re.findall(pattern, string))"
      ]
    },
    {
      "cell_type": "code",
      "execution_count": 26,
      "metadata": {
        "id": "Stn2EgLbt7zP",
        "outputId": "3cdc669a-3feb-4dba-d656-2df5ef042c78",
        "colab": {
          "base_uri": "https://localhost:8080/"
        }
      },
      "outputs": [
        {
          "output_type": "stream",
          "name": "stdout",
          "text": [
            "['тонн']\n"
          ]
        }
      ],
      "source": [
        "pattern = 'тонн$'\n",
        "string = 'Объем данной нефтебазы ДРП1234557 составляет 12000 тонн'\n",
        "print(re.findall(pattern, string))"
      ]
    },
    {
      "cell_type": "code",
      "execution_count": 25,
      "metadata": {
        "scrolled": false,
        "id": "WwXvb0jot7zP",
        "outputId": "173dad42-0949-469c-a7a8-db26d7d3d9ac",
        "colab": {
          "base_uri": "https://localhost:8080/"
        }
      },
      "outputs": [
        {
          "output_type": "stream",
          "name": "stdout",
          "text": [
            "[]\n"
          ]
        }
      ],
      "source": [
        "pattern = '^тонн'\n",
        "string = 'Объем данной нефтебазы ДРП1234557 составляет 12000 тонн'\n",
        "print(re.findall(pattern, string))"
      ]
    },
    {
      "cell_type": "markdown",
      "metadata": {
        "id": "wsDMfp60t7zP"
      },
      "source": [
        "Методом compile() можно собрать регулярное выражение в отдельный объект, который может быть использован для поиска. Это также избавляет от переписывания одного и того же выражения."
      ]
    },
    {
      "cell_type": "code",
      "execution_count": 28,
      "metadata": {
        "scrolled": true,
        "id": "jKj6mnxut7zP",
        "outputId": "da43460c-1a60-491e-a06f-4ae346f577ef",
        "colab": {
          "base_uri": "https://localhost:8080/"
        }
      },
      "outputs": [
        {
          "output_type": "stream",
          "name": "stdout",
          "text": [
            "[('АЗС=1', 'Время простоя=3 чaca'), ('АЗС=2', 'Время простоя=24 чaca'), ('АЗС=3', 'Время простоя=56 часов'), ('АЗС=4', 'Время простоя=13 часов')]\n"
          ]
        }
      ],
      "source": [
        "log = [\n",
        "    'Данные собраны в [DATAMARTS.dbo.FULL_CENTER_REALIZACIYA]'\n",
        "    'АЗС=1 Площадь=120 Время простоя=3 чaca',\n",
        "    'Данные собраны в [DATAMARTS.dbo.FULL_CENTER_REALIZACIYA]'\n",
        "    'АЗС=2 Площадь=64 Время простоя=24 чaca',\n",
        "    'Данные собраны в [DATAMARTS.dbo.FULL_CENTER_REALIZACIYA]'\n",
        "    'АЗС=3 Площадь=130 Время простоя=56 часов',\n",
        "    'Данные собраны в [DATAMARTS.dbo.FULL_CENTER_REALIZACIYA]'\n",
        "    'АЗС=4 Площадь=84 Время простоя=13 часов']\n",
        "pattern = re.compile('(АЗС=\\d).*(Время простоя=\\d+ [час]\\w+)')\n",
        "result = []\n",
        "for line in log:\n",
        "    result.append(pattern.search(line).groups())\n",
        "print(result)"
      ]
    },
    {
      "cell_type": "code",
      "execution_count": null,
      "metadata": {
        "id": "H5C3o7vvt7zQ"
      },
      "outputs": [],
      "source": [
        "#'(АЗС=[\\d]).*(Время простоя=[\\d]+ [час]\\w+)'\n",
        "# () - извлекаем то, что в скобках\n",
        "# [] - один из символов\n",
        "# \\d - любая цифра\n",
        "# \\w - любая цифра или буква\n",
        "# \\S - любой не пробельный символ\n",
        "# . - любой символ\n",
        "# * - любая последовательность символов начиная с 0\n",
        "# + - любая последовательность символов начиная с 1"
      ]
    },
    {
      "cell_type": "markdown",
      "metadata": {
        "id": "BM-9tyjFt7zQ"
      },
      "source": [
        "<font color='blue'>**Задание 2.**</font>\n",
        "\n",
        "Вывести кортеж с текстом (\"Реализовано клиенту = ...\", \"в объеме = ... тонн\")"
      ]
    },
    {
      "cell_type": "code",
      "execution_count": null,
      "metadata": {
        "id": "bDTeJrXMt7zQ"
      },
      "outputs": [],
      "source": [
        "Data_fuel = [\n",
        "    'Реализовано клиенту = Лукойл, топлива типа = АИ-92, по ж/д, в объеме = 3200 тонн',\n",
        "    'Реализовано клиенту = Роснефть, топлива типа = АИ-95, по ж/д, в объеме = 2200 тонн',\n",
        "    'Реализовано клиенту = Транснефть, топлива типа = АИ-95, по ж/д, в объеме = 1200 тонн',\n",
        "    'Реализовано клиенту = ИП_Кудряшов, топлива типа = ДТ Летнее, автотранспортом, в объеме = 800 тонн',\n",
        "    ]"
      ]
    },
    {
      "cell_type": "markdown",
      "metadata": {
        "id": "4K_MZ9WKt7zQ"
      },
      "source": [
        "### Отключение экранирования"
      ]
    },
    {
      "cell_type": "markdown",
      "metadata": {
        "id": "QCbKap5yt7zR"
      },
      "source": [
        "Символ 'r' (в любом регистре), отключает механизм экранирования. <br>\n",
        "Экранированные последовательности - служебные символы. <br>\n",
        "Экранированные последовательности позволяют вставить символы, которые сложно ввести с клавиатуры, например перевод строки (аналог Enter в текстовых редакторах, это /n)<br>\n",
        "<br>\n",
        "**Пример:**"
      ]
    },
    {
      "cell_type": "code",
      "execution_count": null,
      "metadata": {
        "id": "QDvKxKqmt7zR"
      },
      "outputs": [],
      "source": [
        "print('Привет,\\nКак дела?')"
      ]
    },
    {
      "cell_type": "code",
      "execution_count": null,
      "metadata": {
        "scrolled": true,
        "id": "fdQDR6L1t7zR"
      },
      "outputs": [],
      "source": [
        "print(r'Привет,\\nКак дела?')"
      ]
    },
    {
      "cell_type": "markdown",
      "metadata": {
        "id": "Pdqp4KRWt7zR"
      },
      "source": [
        "Про экранированные последовательности можно почитать, например, здесь: https://pyprog.pro/python/py/str/esqape_sec.html"
      ]
    },
    {
      "cell_type": "markdown",
      "metadata": {
        "id": "pq6O6j6zt7zR"
      },
      "source": [
        "<font color='blue'>**Задание 3.**</font>\n",
        "\n",
        "Придумайте шаблон для решения следущих задач:\n",
        "1. Вернуть первое слово из строки:"
      ]
    },
    {
      "cell_type": "code",
      "execution_count": null,
      "metadata": {
        "id": "SkBpx-Cut7zR"
      },
      "outputs": [],
      "source": [
        "string = 'ДРП: Объем данной нефтебазы ДРП1234567 составляет 12000 тонн'"
      ]
    },
    {
      "cell_type": "code",
      "execution_count": null,
      "metadata": {
        "id": "SpKaD3W5t7zS"
      },
      "outputs": [],
      "source": [
        "# pattern = ?\n",
        "# re.findall(pattern, string)"
      ]
    },
    {
      "cell_type": "markdown",
      "metadata": {
        "id": "OECEVNXnt7zS"
      },
      "source": [
        "2. Вернуть первые два символа каждого слова:"
      ]
    },
    {
      "cell_type": "code",
      "execution_count": null,
      "metadata": {
        "id": "DJNuyTnEt7zS"
      },
      "outputs": [],
      "source": [
        "# pattern = ?\n",
        "# re.findall(pattern, string)"
      ]
    },
    {
      "cell_type": "markdown",
      "metadata": {
        "id": "0ddA7WDDt7zS"
      },
      "source": [
        "3. Вернуть список доменов из списка адресов электронной почты:\n",
        "    * только @gmail и пр.\n",
        "    * только gmail и пр.\n",
        "    * только @gmail.com и пр.\n",
        "    * только com и пр."
      ]
    },
    {
      "cell_type": "code",
      "execution_count": null,
      "metadata": {
        "id": "BXA-bx9tt7zS"
      },
      "outputs": [],
      "source": [
        "string = 'abc.test@gmail.com, xyz@test.ru, test.first@analyticsvidhya.com, qwerty.test@rest.ru'"
      ]
    },
    {
      "cell_type": "code",
      "execution_count": null,
      "metadata": {
        "id": "nAKxouWkt7zS"
      },
      "outputs": [],
      "source": [
        "# pattern = ?\n",
        "# re.findall(pattern, string)"
      ]
    },
    {
      "cell_type": "markdown",
      "metadata": {
        "id": "Otg_xYnYt7zT"
      },
      "source": [
        "4. Извлечь из строки:\n",
        "    * Дату\n",
        "    * Год"
      ]
    },
    {
      "cell_type": "code",
      "execution_count": null,
      "metadata": {
        "id": "JLkb-_m4t7zT"
      },
      "outputs": [],
      "source": [
        "string = 'Amit 34-3456 12-05-2007, XYZ 56-4532 11-11-2011, ABC 67-8945 12-01-2009'"
      ]
    },
    {
      "cell_type": "code",
      "execution_count": null,
      "metadata": {
        "id": "xTgLvkuBt7zT"
      },
      "outputs": [],
      "source": [
        "# pattern = ?\n",
        "# re.findall(pattern, string)"
      ]
    },
    {
      "cell_type": "markdown",
      "metadata": {
        "id": "iReVL_xGt7zT"
      },
      "source": [
        "5. Проверить телефонный номер (длина 10 знаков и начинается на 8 или 9):"
      ]
    },
    {
      "cell_type": "code",
      "execution_count": null,
      "metadata": {
        "id": "xqzsR_dTt7zT"
      },
      "outputs": [],
      "source": [
        "string = ['9999999999', '999999-999', '9887t9999', '898765453']"
      ]
    },
    {
      "cell_type": "code",
      "execution_count": null,
      "metadata": {
        "id": "GYmnvyvGt7zT"
      },
      "outputs": [],
      "source": [
        "# pattern = ?\n",
        "\n",
        "# for number in string:\n",
        "#     if re.findall(pattern, number):\n",
        "#         print('Yes')\n",
        "#     else:\n",
        "#         print ('No')"
      ]
    },
    {
      "cell_type": "markdown",
      "metadata": {
        "id": "yqNPQ5T0t7zU"
      },
      "source": [
        "## 4. Работа с файлами."
      ]
    },
    {
      "cell_type": "markdown",
      "metadata": {
        "id": "n-6MxIout7zU"
      },
      "source": [
        "Прежде, чем работать с файлом, его надо открыть. С этим справится встроенная функция open():"
      ]
    },
    {
      "cell_type": "code",
      "execution_count": null,
      "metadata": {
        "id": "JddANmwbt7zU"
      },
      "outputs": [],
      "source": [
        "f = open('requirements.txt', 'r', encoding = 'UTF-8') # Cодержит 3 аргумента"
      ]
    },
    {
      "cell_type": "markdown",
      "metadata": {
        "id": "CohqIKIqt7zU"
      },
      "source": [
        "Обозначения режимов открытия файла:\n",
        "- 'r'\tоткрытие на чтение (является значением по умолчанию).\n",
        "- 'w'\tоткрытие на запись, содержимое файла удаляется, если файла не существует, создается новый.\n",
        "- 'x'\tоткрытие на запись, если файла не существует, иначе исключение.\n",
        "- 'a'\tоткрытие на дозапись, информация добавляется в конец файла.\n",
        "- 'b'\tоткрытие в двоичном режиме.\n",
        "- 't'\tоткрытие в текстовом режиме (является значением по умолчанию).\n",
        "- '+'\tоткрытие на чтение и запись"
      ]
    },
    {
      "cell_type": "markdown",
      "metadata": {
        "id": "hysD8lfct7zU"
      },
      "source": [
        "Когда мы открыли файл,мы хотим прочитать из него информацию. Для этого есть два основных способа:\n",
        "\n",
        "- Первый - метод read, читающий весь файл целиком, если был вызван без аргументов, и n символов, если был вызван с аргументом (целым числом n)."
      ]
    },
    {
      "cell_type": "code",
      "execution_count": null,
      "metadata": {
        "scrolled": false,
        "id": "VfSr3kUdt7zV"
      },
      "outputs": [],
      "source": [
        "f = open('requirements.txt', 'r', encoding = 'UTF-8')\n",
        "f.read() # Читаем все, что есть в файле"
      ]
    },
    {
      "cell_type": "code",
      "execution_count": null,
      "metadata": {
        "id": "LNGad4Z7t7zV"
      },
      "outputs": [],
      "source": [
        "f = open('requirements.txt', 'r', encoding = 'UTF-8')\n",
        "f.read(13) #Читаем первые 13 символов"
      ]
    },
    {
      "cell_type": "markdown",
      "metadata": {
        "id": "BSGq8oZOt7zV"
      },
      "source": [
        "- Второй способ - прочитать файл построчно, воспользовавшись циклом for:"
      ]
    },
    {
      "cell_type": "code",
      "execution_count": null,
      "metadata": {
        "scrolled": false,
        "id": "a1F8KMdDt7zV"
      },
      "outputs": [],
      "source": [
        "f = open('requirements.txt', 'r', encoding = 'UTF-8')\n",
        "for line in f:\n",
        "    print(line, end = '')"
      ]
    },
    {
      "cell_type": "markdown",
      "metadata": {
        "id": "KFL8ownvt7zV"
      },
      "source": [
        "Модуль os предоставляет множество функций для работы с операционной системой, причём их поведение, как правило, не зависит от ОС, поэтому программы остаются переносимыми."
      ]
    },
    {
      "cell_type": "code",
      "execution_count": 90,
      "metadata": {
        "id": "faeMCSBOt7zV"
      },
      "outputs": [],
      "source": [
        "import os"
      ]
    },
    {
      "cell_type": "code",
      "execution_count": 91,
      "metadata": {
        "id": "yrUqmf3Bt7zW",
        "outputId": "04a2b94d-359c-41fd-d3b0-1aa5b8e20d41",
        "colab": {
          "base_uri": "https://localhost:8080/",
          "height": 35
        }
      },
      "outputs": [
        {
          "output_type": "execute_result",
          "data": {
            "application/vnd.google.colaboratory.intrinsic+json": {
              "type": "string"
            },
            "text/plain": [
              "'posix'"
            ]
          },
          "metadata": {},
          "execution_count": 91
        }
      ],
      "source": [
        "os.name # Имя операционной системы, доступные варианты: 'posix', 'nt', 'java'"
      ]
    },
    {
      "cell_type": "code",
      "execution_count": null,
      "metadata": {
        "id": "FdTXgQNct7zW"
      },
      "outputs": [],
      "source": [
        "os.getcwd() # Текущая рабочая директория"
      ]
    },
    {
      "cell_type": "code",
      "execution_count": null,
      "metadata": {
        "id": "WSCvg5zat7zW"
      },
      "outputs": [],
      "source": [
        "# os.chdir(path) - Смена текущей директории"
      ]
    },
    {
      "cell_type": "code",
      "execution_count": null,
      "metadata": {
        "id": "0ELIeGFKt7zW"
      },
      "outputs": [],
      "source": [
        "# os.path - Позволяет работать с путями к файлам и папкам"
      ]
    },
    {
      "cell_type": "code",
      "execution_count": null,
      "metadata": {
        "scrolled": true,
        "id": "-ApZixMSt7zX"
      },
      "outputs": [],
      "source": [
        "# Не самый хороший способ задания пути:\n",
        "path = 'requirements.txt'\n",
        "# Хороший кроссплатформенный метод указания пути:\n",
        "path = os.path.join('requirements.txt')"
      ]
    },
    {
      "cell_type": "code",
      "execution_count": null,
      "metadata": {
        "id": "nxsk5Goet7zX"
      },
      "outputs": [],
      "source": [
        "dir_path = os.path.join(os.getcwd(), 'NewDir')\n",
        "os.mkdir(dir_path) # Создаёт директорию"
      ]
    },
    {
      "cell_type": "code",
      "execution_count": null,
      "metadata": {
        "id": "qeVA9-Yzt7zY"
      },
      "outputs": [],
      "source": [
        "f = open(path, 'r', encoding = 'UTF-8')\n",
        "for line in f:\n",
        "    print(line)"
      ]
    },
    {
      "cell_type": "code",
      "execution_count": 43,
      "metadata": {
        "scrolled": true,
        "id": "GfEmhzaOt7zY",
        "outputId": "70bbb7a6-9639-4ff7-dda7-e869af8a551b",
        "colab": {
          "base_uri": "https://localhost:8080/",
          "height": 245
        }
      },
      "outputs": [
        {
          "output_type": "error",
          "ename": "NameError",
          "evalue": "ignored",
          "traceback": [
            "\u001b[0;31m---------------------------------------------------------------------------\u001b[0m",
            "\u001b[0;31mNameError\u001b[0m                                 Traceback (most recent call last)",
            "\u001b[0;32m<ipython-input-43-156f45e82751>\u001b[0m in \u001b[0;36m<module>\u001b[0;34m()\u001b[0m\n\u001b[0;32m----> 1\u001b[0;31m \u001b[0mpath\u001b[0m \u001b[0;34m=\u001b[0m \u001b[0mos\u001b[0m\u001b[0;34m.\u001b[0m\u001b[0mpath\u001b[0m\u001b[0;34m.\u001b[0m\u001b[0mjoin\u001b[0m\u001b[0;34m(\u001b[0m\u001b[0;34m'requirements.txt'\u001b[0m\u001b[0;34m)\u001b[0m\u001b[0;34m\u001b[0m\u001b[0;34m\u001b[0m\u001b[0m\n\u001b[0m\u001b[1;32m      2\u001b[0m \u001b[0mf\u001b[0m \u001b[0;34m=\u001b[0m \u001b[0mopen\u001b[0m\u001b[0;34m(\u001b[0m\u001b[0mpath\u001b[0m\u001b[0;34m,\u001b[0m \u001b[0;34m'r'\u001b[0m\u001b[0;34m,\u001b[0m \u001b[0mencoding\u001b[0m \u001b[0;34m=\u001b[0m \u001b[0;34m'UTF-8'\u001b[0m\u001b[0;34m)\u001b[0m\u001b[0;34m\u001b[0m\u001b[0;34m\u001b[0m\u001b[0m\n\u001b[1;32m      3\u001b[0m \u001b[0msymbol\u001b[0m \u001b[0;34m=\u001b[0m \u001b[0;34m'numpy'\u001b[0m\u001b[0;34m\u001b[0m\u001b[0;34m\u001b[0m\u001b[0m\n\u001b[1;32m      4\u001b[0m \u001b[0;32mfor\u001b[0m \u001b[0mline\u001b[0m \u001b[0;32min\u001b[0m \u001b[0mf\u001b[0m\u001b[0;34m:\u001b[0m\u001b[0;34m\u001b[0m\u001b[0;34m\u001b[0m\u001b[0m\n\u001b[1;32m      5\u001b[0m \u001b[0;31m# Считываем файл построчно\u001b[0m\u001b[0;34m\u001b[0m\u001b[0;34m\u001b[0m\u001b[0;34m\u001b[0m\u001b[0m\n",
            "\u001b[0;31mNameError\u001b[0m: name 'os' is not defined"
          ]
        }
      ],
      "source": [
        "path = os.path.join('requirements.txt')\n",
        "f = open(path, 'r', encoding = 'UTF-8')\n",
        "symbol = 'numpy'\n",
        "for line in f:\n",
        "# Считываем файл построчно\n",
        "    if symbol in line: # Пока не найдем нужную информацию\n",
        "        print(line)\n",
        "        break"
      ]
    },
    {
      "cell_type": "markdown",
      "metadata": {
        "id": "Si0JiPq_t7zY"
      },
      "source": [
        "Запись в файл осуществляется с помощью метода write:"
      ]
    },
    {
      "cell_type": "code",
      "execution_count": null,
      "metadata": {
        "id": "-3f3VuJxt7zY"
      },
      "outputs": [],
      "source": [
        "my_file = open('some.txt', 'a')\n",
        "my_file.write('Python is a very interesting programming language! \\nI like it!\\n')\n",
        "my_file.close()"
      ]
    },
    {
      "cell_type": "code",
      "execution_count": null,
      "metadata": {
        "id": "kvXDH5qvt7zZ"
      },
      "outputs": [],
      "source": [
        "with open('requirements.txt') as file_in:\n",
        "    text = file_in.read()\n",
        "\n",
        "text = text.replace('tensorflow_gpu', 'Unknown package')\n",
        "\n",
        "with open('test.txt', 'w') as file_out:\n",
        "    file_out.write(text)"
      ]
    },
    {
      "cell_type": "markdown",
      "metadata": {
        "id": "lgCIGy_rt7zZ"
      },
      "source": [
        "<font color='blue'>**Задание 4.**</font>\n",
        "\n",
        "1. Прочитайте построчно и выведите информацию из файла \"test.txt\"\n",
        "2. Убедитесь, что замена из предыдущей ячейки была произведена корректно"
      ]
    },
    {
      "cell_type": "markdown",
      "metadata": {
        "id": "V--SORzYt7zZ"
      },
      "source": [
        "## 5. Модули."
      ]
    },
    {
      "cell_type": "markdown",
      "metadata": {
        "id": "EbDl_rQHt7zZ"
      },
      "source": [
        "### Подключение модуля"
      ]
    },
    {
      "cell_type": "code",
      "execution_count": null,
      "metadata": {
        "id": "22_fdAd-t7zZ"
      },
      "outputs": [],
      "source": [
        "16 ** 0.5"
      ]
    },
    {
      "cell_type": "code",
      "execution_count": null,
      "metadata": {
        "scrolled": true,
        "id": "7cs8fSxHt7zZ"
      },
      "outputs": [],
      "source": [
        "sqrt(16)"
      ]
    },
    {
      "cell_type": "code",
      "execution_count": null,
      "metadata": {
        "id": "SOd1SA8mt7za"
      },
      "outputs": [],
      "source": [
        "import math\n",
        "math.sqrt(16)"
      ]
    },
    {
      "cell_type": "code",
      "execution_count": null,
      "metadata": {
        "id": "PobjZ_Utt7za"
      },
      "outputs": [],
      "source": [
        "sqrt(16)"
      ]
    },
    {
      "cell_type": "code",
      "execution_count": null,
      "metadata": {
        "id": "rmzoWwKxt7za"
      },
      "outputs": [],
      "source": [
        "from math import sqrt\n",
        "sqrt(37)"
      ]
    },
    {
      "cell_type": "code",
      "execution_count": null,
      "metadata": {
        "id": "FGiJpGEIt7za"
      },
      "outputs": [],
      "source": [
        "from math import sqrt, sin, cos\n",
        "print(sin(0.4))\n",
        "print(cos(0.4))"
      ]
    },
    {
      "cell_type": "markdown",
      "metadata": {
        "id": "rlK2cImht7za"
      },
      "source": [
        "### Разделение пространства имен"
      ]
    },
    {
      "cell_type": "code",
      "execution_count": null,
      "metadata": {
        "id": "a2ajpzRst7za"
      },
      "outputs": [],
      "source": [
        "from math import * # Импортируем все имена из данного модуля"
      ]
    },
    {
      "cell_type": "markdown",
      "metadata": {
        "id": "6n_0M9J-t7zb"
      },
      "source": [
        "Возможно, у вас возникнет соблазн использовать этот метод, поскольку он позволяет вам напрямую использовать функцию без добавления имени модуля в качестве префикса. Тем не менее, он очень подвержен ошибкам, и вы также теряете возможность сказать, какой модуль фактически импортировал функцию"
      ]
    },
    {
      "cell_type": "code",
      "execution_count": null,
      "metadata": {
        "scrolled": false,
        "id": "MHWVaM7ut7zb"
      },
      "outputs": [],
      "source": [
        "from math import *\n",
        "log10(125)"
      ]
    },
    {
      "cell_type": "code",
      "execution_count": null,
      "metadata": {
        "id": "zYveLY85t7zb"
      },
      "outputs": [],
      "source": [
        "from cmath import *\n",
        "log10(125)"
      ]
    },
    {
      "cell_type": "code",
      "execution_count": null,
      "metadata": {
        "id": "y-HvMUvHt7zb"
      },
      "outputs": [],
      "source": [
        "log10(125)"
      ]
    },
    {
      "cell_type": "code",
      "execution_count": null,
      "metadata": {
        "id": "gKLiDNv0t7zb"
      },
      "outputs": [],
      "source": [
        "math.log10(125)"
      ]
    },
    {
      "cell_type": "markdown",
      "metadata": {
        "id": "C1X3Ip05t7zc"
      },
      "source": [
        "### Создание собственных модулей"
      ]
    },
    {
      "cell_type": "code",
      "execution_count": null,
      "metadata": {
        "id": "0WhB5OApt7zc"
      },
      "outputs": [],
      "source": [
        "import lib.lib1 as lib1\n",
        "print(lib1.do_something())\n",
        "print(lib1.more(8))"
      ]
    },
    {
      "cell_type": "code",
      "execution_count": null,
      "metadata": {
        "id": "Pe-F0c1ot7zc"
      },
      "outputs": [],
      "source": [
        "# def do_something():\n",
        "#     return 'Hello'\n",
        "# def more(num):\n",
        "#     return num > 1"
      ]
    },
    {
      "cell_type": "markdown",
      "metadata": {
        "id": "xHUWN55bt7zc"
      },
      "source": [
        "<font color='blue'>**Задание 5.**</font>\n",
        "\n",
        "1. Создайте папку moduls\n",
        "2. В папке moduls создать модуль на вход которому подается любая строка, а алгоритм возвращает список, в котором будут все большие буквы из входящей строки. Вызвать модуль.\n",
        "3. В папке moduls создать модуль, в котором должен быть следующий алгоритм: на вход модуля подается число, на выходе получаем список со случайно сгенерированными положительными числами от 1 до 10, длина которого равна входящему числу. Вызвать модуль.\n",
        "4. В папке moduls создать модуль на вход которому подается любая строка, а алгоритм возвращает словарь, в котором ключами являются буквы, а значениями количество этих букв в строке. Вызвать модуль."
      ]
    },
    {
      "cell_type": "code",
      "execution_count": null,
      "metadata": {
        "id": "HR_aEO__t7zc"
      },
      "outputs": [],
      "source": [
        "# Подсказка к пункту 3, можно использовать метод .count()\n",
        "'abfdvdwedaa'.count('a')"
      ]
    },
    {
      "cell_type": "markdown",
      "metadata": {
        "id": "OQCuKPvht7zd"
      },
      "source": [
        "## 6. Обработка ошибок."
      ]
    },
    {
      "cell_type": "code",
      "execution_count": 1,
      "metadata": {
        "scrolled": true,
        "id": "8OwbUPxDt7zd",
        "outputId": "d95ebb4c-2425-42fb-87b3-589c9065476e",
        "colab": {
          "base_uri": "https://localhost:8080/",
          "height": 190
        }
      },
      "outputs": [
        {
          "output_type": "error",
          "ename": "ZeroDivisionError",
          "evalue": "ignored",
          "traceback": [
            "\u001b[0;31m---------------------------------------------------------------------------\u001b[0m",
            "\u001b[0;31mZeroDivisionError\u001b[0m                         Traceback (most recent call last)",
            "\u001b[0;32m<ipython-input-1-ad338eee01c4>\u001b[0m in \u001b[0;36m<module>\u001b[0;34m()\u001b[0m\n\u001b[0;32m----> 1\u001b[0;31m \u001b[0;36m100\u001b[0m\u001b[0;34m/\u001b[0m\u001b[0;36m0\u001b[0m\u001b[0;34m\u001b[0m\u001b[0;34m\u001b[0m\u001b[0m\n\u001b[0m\u001b[1;32m      2\u001b[0m \u001b[0;36m2\u001b[0m \u001b[0;34m+\u001b[0m \u001b[0;36m2\u001b[0m\u001b[0;34m\u001b[0m\u001b[0;34m\u001b[0m\u001b[0m\n",
            "\u001b[0;31mZeroDivisionError\u001b[0m: division by zero"
          ]
        }
      ],
      "source": [
        "100/0\n",
        "2 + 2"
      ]
    },
    {
      "cell_type": "code",
      "execution_count": null,
      "metadata": {
        "id": "4el2MG7ut7zd"
      },
      "outputs": [],
      "source": [
        "int('Hello')"
      ]
    },
    {
      "cell_type": "code",
      "execution_count": null,
      "metadata": {
        "id": "W8r5riKft7zd"
      },
      "outputs": [],
      "source": [
        "n = '10'\n",
        "# n = 'Hello'\n",
        "try:\n",
        "    n = int(n)\n",
        "    print('n успешно преобразована к типу Int')\n",
        "except ValueError: # Тип ошибки\n",
        "    print('значение n невозможно преобразовать к типу int')"
      ]
    },
    {
      "cell_type": "code",
      "execution_count": null,
      "metadata": {
        "scrolled": true,
        "id": "juu1Y_Qlt7zd"
      },
      "outputs": [],
      "source": [
        "f = 'asdf'\n",
        "# f = 2\n",
        "try:\n",
        "    f + 1\n",
        "except Exception:\n",
        "    print('Это что ещё такое?')\n",
        "else:\n",
        "    print('Всё хорошо.')\n",
        "finally:\n",
        "    print('Я закрыл файл.')\n",
        "# Именно в таком порядке: try, except, затем else, и только потом finally."
      ]
    },
    {
      "cell_type": "code",
      "execution_count": 3,
      "metadata": {
        "id": "RyyC5x6Gt7zd"
      },
      "outputs": [],
      "source": [
        "%load hw03.py"
      ]
    },
    {
      "cell_type": "markdown",
      "source": [
        "**ДЗ №3**"
      ],
      "metadata": {
        "id": "498H142Cueg4"
      }
    },
    {
      "cell_type": "markdown",
      "source": [
        "Задача №1"
      ],
      "metadata": {
        "id": "oo3eo_ULwL4s"
      }
    },
    {
      "cell_type": "code",
      "source": [
        "import random\n",
        "lst = []\n",
        "for i in range(10):\n",
        "    lst.append(random.randint(-10,20))\n",
        "print(lst)\n",
        "\n",
        "lst2 = [i**2 for i in lst]\n",
        "print(lst2)"
      ],
      "metadata": {
        "id": "qYcSnu-awmsz",
        "outputId": "f84af5d3-b381-4b98-f480-7974166d5820",
        "colab": {
          "base_uri": "https://localhost:8080/"
        }
      },
      "execution_count": 15,
      "outputs": [
        {
          "output_type": "stream",
          "name": "stdout",
          "text": [
            "[2, 17, 2, 3, 18, 17, 9, 17, 18, 11]\n",
            "[4, 289, 4, 9, 324, 289, 81, 289, 324, 121]\n"
          ]
        }
      ]
    },
    {
      "cell_type": "markdown",
      "source": [
        "Задача №2"
      ],
      "metadata": {
        "id": "Iadox_UawSg6"
      }
    },
    {
      "cell_type": "code",
      "source": [
        "frukt1 = ['яблоко','банан','мандарин','','персик','киви', 'хурма']\n",
        "frukt2 = ['банан','ананас','киви','лимон','персик', 'гранат']\n",
        "frukt3 = [i for i in frukt1 if i in frukt2]\n",
        "print(frukt3)"
      ],
      "metadata": {
        "id": "y19-2ekCwoyC",
        "outputId": "a1a4ac4b-024c-42de-ce74-a0521b3ce40c",
        "colab": {
          "base_uri": "https://localhost:8080/"
        }
      },
      "execution_count": 17,
      "outputs": [
        {
          "output_type": "stream",
          "name": "stdout",
          "text": [
            "['банан', 'персик', 'киви']\n"
          ]
        }
      ]
    },
    {
      "cell_type": "markdown",
      "source": [
        "*Задача* №3"
      ],
      "metadata": {
        "id": "91F73f0RwS3i"
      }
    },
    {
      "cell_type": "code",
      "source": [
        "import random\n",
        "lst = []\n",
        "for i in range(100):\n",
        "    lst.append(random.randint(-10,150))\n",
        "print('изначальный список - ',lst)\n",
        "lst2 = [i for i in lst if i>0 and i%3 == 0 == i%4]\n",
        "print('список по условиям - ',lst2)"
      ],
      "metadata": {
        "id": "FTN5xKqSymHW",
        "outputId": "84262d8e-f4e2-4a86-a625-d53f0556f586",
        "colab": {
          "base_uri": "https://localhost:8080/"
        }
      },
      "execution_count": 21,
      "outputs": [
        {
          "output_type": "stream",
          "name": "stdout",
          "text": [
            "изначальный список -  [146, 23, 124, 4, 134, 68, 74, 101, 137, 106, 68, 147, 150, 126, 72, 37, 25, 77, 67, -9, 90, -3, -10, 1, 9, 39, 13, 27, 84, 140, 34, 13, 82, 37, 143, 98, 7, 124, 91, 13, 57, 94, 9, 134, 146, 1, 113, 82, 113, 96, 41, 100, 91, 126, 5, 36, 95, 139, 146, 88, 55, 95, 38, 126, -9, 147, 101, 70, 108, 147, 105, 72, 40, 51, 32, 96, 103, 54, 73, 89, -3, 2, 124, 22, 111, 15, 150, 29, 43, 112, 27, 1, 6, 48, 140, 28, 3, 88, 21, 54]\n",
            "список по условиям -  [72, 84, 96, 36, 108, 72, 96, 48]\n"
          ]
        }
      ]
    },
    {
      "cell_type": "markdown",
      "source": [
        "Задача №4"
      ],
      "metadata": {
        "id": "_RG93155wTCg"
      }
    },
    {
      "cell_type": "markdown",
      "source": [
        "Задача №5"
      ],
      "metadata": {
        "id": "TXTmLogtwTI6"
      }
    },
    {
      "cell_type": "markdown",
      "source": [
        "Задача №6"
      ],
      "metadata": {
        "id": "Jif6odrmwTOa"
      }
    },
    {
      "cell_type": "code",
      "source": [
        "import os\n",
        "import random\n",
        "import re\n",
        "\n",
        "file = open(\"file.py\", \"w+\")\n",
        "i = 0\n",
        "a = ''\n",
        "while i < 2500:\n",
        "    i = i + 1\n",
        "    a = a + str(random.randint(0,10))\n",
        "file.write(a)\n",
        "file.close()\n",
        "\n",
        "file = open(\"file.py\", \"r\")\n",
        "f = file.read()\n",
        "\n",
        "print(f)"
      ],
      "metadata": {
        "id": "aG234IwSdnzW",
        "outputId": "35b4c6e0-b953-4860-f55a-bd94dac98139",
        "colab": {
          "base_uri": "https://localhost:8080/"
        }
      },
      "execution_count": 46,
      "outputs": [
        {
          "output_type": "stream",
          "name": "stdout",
          "text": [
            "103042832325537956423659506226107058902730173810723811005521086101269312992212240002415920255946715940053510686605100076399241040255385605829664710303101886171010001012599310997028521028188437457712801009853010700104059711071410710181084106170705166105373231069977744218001066011753247694630113453883220501003633948820266885891893986101791010979990286835953609641069100502502010859170361010959803638571058900103024451310107601596664410732211924901079207010069992101049151028985110310856310103568991542605631006105421077546600237066107210711095282310410591452253921903090103629291045877175010987573101070810820031010101691704103711034975598146206002892949637078647651038661099595677039561610610310831052984735517374881610010456960181973404447631102479109641035158490710912801038250910151101432271414751035910488991015162810110120712261087251371876156476437320745081004572533949074510388894057438387238214352607878271067601138483184555557844018174982286110011794593361032018108268758358228881211372833510595288101587364321019898886755180591091488991073614610571031028224531035567410910399339431010510520763110422300497285182336267410101080804103409070925293104800499184107095918108910441321064844410670546817839281979201013907101061310318762027751008401871775716981910561063895015681075105341022303921063390466793406296187056229729339750684012541454357618771511079943766191010249309556113779483881036318740266981808141022370710481010108711021086736081943853007909979290805904764170076381610754196650334210644104851068733799102099631788395161051010310452660186733106101025410888510616080154969090718608457440615351684805631070154371533310780782107801494510910772947042498100210937049965330724428106914710335338109478510105964217595439388755861373738131946655832510410107356667158323846251971071688650874210377814525844842487107103428270901004661534950960126341352195509235789871617632027674316888110709538101094751058731073916261087710911055102908337320107474955405375753083699044441710117611103515692828547847753351081095383144695955105919650344526918742031120625078310110237312400790078100101047002409931089064967573380624749837452712976422931094953783222690836417088710968860106227352880393844101775859260988367986102963074851720156407536549086466506908042937109826194603759562484219032020101948010342711987719467812281010147684850110592374691090801114966093110670503256834910080311410722623101224614410492635148684642466816156205104750810101614910017818282994476031625909036916698752921051091031585109736381621506035710765886510431101091102887722461071097870146791035549748469107635648291034155709791495207681448193474410610602982106055210777123334426549161078121091282105981210790102106396594612710869598682199723784125\n"
          ]
        }
      ]
    },
    {
      "cell_type": "markdown",
      "source": [
        "Задача №7"
      ],
      "metadata": {
        "id": "BTcM8I3rwTSU"
      }
    },
    {
      "cell_type": "markdown",
      "source": [
        "Задача №8"
      ],
      "metadata": {
        "id": "O9EV13X8wTVj"
      }
    },
    {
      "cell_type": "markdown",
      "source": [
        "Задача №9"
      ],
      "metadata": {
        "id": "DXcovPhmwTY0"
      }
    },
    {
      "cell_type": "code",
      "source": [
        ""
      ],
      "metadata": {
        "id": "z7Ja-rxZudm4",
        "outputId": "455e8e5a-1a87-4f67-fa2d-abea02fbb4b9",
        "colab": {
          "base_uri": "https://localhost:8080/"
        }
      },
      "execution_count": 13,
      "outputs": [
        {
          "output_type": "stream",
          "name": "stdout",
          "text": [
            "[19, 10, 4, 0, 18, 11, 12, 11, 17, 1]\n",
            "[361, 100, 16, 0, 324, 121, 144, 121, 289, 1]\n"
          ]
        }
      ]
    }
  ],
  "metadata": {
    "kernelspec": {
      "display_name": "Python 3",
      "language": "python",
      "name": "python3"
    },
    "language_info": {
      "codemirror_mode": {
        "name": "ipython",
        "version": 3
      },
      "file_extension": ".py",
      "mimetype": "text/x-python",
      "name": "python",
      "nbconvert_exporter": "python",
      "pygments_lexer": "ipython3",
      "version": "3.7.6"
    },
    "colab": {
      "name": "03_Передача_аргументов_по_ссылке_и_значению._И_другое.ipynb",
      "provenance": []
    }
  },
  "nbformat": 4,
  "nbformat_minor": 0
}