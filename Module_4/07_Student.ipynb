{
 "cells": [
  {
   "cell_type": "markdown",
   "metadata": {},
   "source": [
    "##### Выбираем распределение Стьюдента\n",
    "##### Получаем выборку из 1000 элементов\n",
    "##### и строим гистограмму и функцию плотности распределение"
   ]
  },
  {
   "cell_type": "code",
   "execution_count": 1,
   "metadata": {},
   "outputs": [],
   "source": [
    "%matplotlib inline\n",
    "import numpy as np\n",
    "import matplotlib.pyplot as plt\n",
    "from scipy.stats import t\n",
    "import scipy.stats as sts\n",
    "import math"
   ]
  },
  {
   "cell_type": "markdown",
   "metadata": {},
   "source": [
    "##### Создадим функции для генерации выборочных средних и нахождения математического ожидания, дисперсии и стандартного отклонения"
   ]
  },
  {
   "cell_type": "code",
   "execution_count": 2,
   "metadata": {},
   "outputs": [],
   "source": [
    "# Функция генерации 1000 выборок объема n\n",
    "# и нахождения их выборочных средних из распределения Стьюдента\n",
    "\n",
    "def get_random_samples(number_of_samples, volume):\n",
    "    a=np.arange(number_of_samples, dtype=np.float)\n",
    "    for i in range(number_of_samples):\n",
    "        sample = t.rvs(df, size=volume)\n",
    "        a[i]= sum(sample)/volume\n",
    "    return a\n",
    "\n",
    "# Функция нахождения математического ожидания, дисперсии\n",
    "# и стандартного отклонения\n",
    "def get_stat(my_array):\n",
    "    expectation=sum(my_array)/len(my_array)\n",
    "    sum_sqr=0.0\n",
    "    for i in range(len(my_array)):\n",
    "        sum_sqr += (my_array[i]-expectation)**2\n",
    "    variance=sum_sqr/(len(my_array)-1)\n",
    "    sigma=math.sqrt(variance)\n",
    "    my_list=[expectation, variance, sigma]\n",
    "    return my_list\n",
    "\n",
    "# Количество выборок\n",
    "number_of_samples=1000"
   ]
  },
  {
   "cell_type": "markdown",
   "metadata": {},
   "source": [
    "#### Построим гистограмму и график плотности вероятности одной выборки из распределения Стьюдента объемом 1000 элементов"
   ]
  },
  {
   "cell_type": "code",
   "execution_count": 3,
   "metadata": {},
   "outputs": [
    {
     "name": "stdout",
     "output_type": "stream",
     "text": [
      "Количество выборок =  1\n",
      "Объем выборки =  1000\n",
      "Математическое ожидание =  -0.032942660969677955\n",
      "Дисперсия =  3.521784373822065\n",
      "Стандартное отклонение =  1.8766417809006772\n"
     ]
    },
    {
     "data": {
      "image/png": "[encoded data removed]",
      "text/plain": [
       "<Figure size 432x288 with 1 Axes>"
      ]
     },
     "metadata": {
      "needs_background": "light"
     },
     "output_type": "display_data"
    }
   ],
   "source": [
    "fig, ax = plt.subplots(1, 1)\n",
    "\n",
    "# Calculate a few first moments:\n",
    "df = 2.74335149908\n",
    "mean, var, skew, kurt = t.stats(df, moments='mvsk')\n",
    "\n",
    "# n - Объем выборки\n",
    "n=1000\n",
    "\n",
    "# sample_number\n",
    "sample_number=1\n",
    "\n",
    "#Сгенерируем 1000 случайных величин из распределения Стьюдента\n",
    "random_values = t.rvs(df, size=n)\n",
    "\n",
    "#Построим гистограмму\n",
    "plt.hist(random_values)\n",
    "#plt.hist(random_values, normed=True)\n",
    "plt.ylabel('f(x)')\n",
    "plt.xlabel('$x$')\n",
    "\n",
    "# Нарисуем поверх гистограммы теоретическую плотность распределения \n",
    "# случайной величины из распределения Стьюдента\n",
    "x = np.linspace(t.ppf(0.01, df), t.ppf(0.99, df), n)\n",
    "ax.plot(x, t.pdf(x, df), 'r-', lw=5, alpha=0.6, label='t pdf')\n",
    "\n",
    "statistics=get_stat(random_values)\n",
    "expectation=statistics[0]\n",
    "variance=statistics[1]\n",
    "sigma=statistics[2]\n",
    "\n",
    "print(\"Количество выборок = \", sample_number)\n",
    "print(\"Объем выборки = \", n)\n",
    "print(\"Математическое ожидание = \", expectation)\n",
    "print(\"Дисперсия = \", variance)\n",
    "print(\"Стандартное отклонение = \", sigma)"
   ]
  },
  {
   "cell_type": "markdown",
   "metadata": {},
   "source": [
    "#### Создадим функции для генерации выборочных средних и нахождения математического ожидания и дисперсии"
   ]
  },
  {
   "cell_type": "markdown",
   "metadata": {},
   "source": [
    "#### Объем выборки n равен  5"
   ]
  },
  {
   "cell_type": "code",
   "execution_count": 4,
   "metadata": {},
   "outputs": [
    {
     "name": "stdout",
     "output_type": "stream",
     "text": [
      "Количество выборок =  1000\n",
      "Объем выборки =  5\n",
      "Математическое ожидание =  0.02398420530760876\n",
      "Дисперсия =  0.589564083266359\n",
      "Стандартное отклонение =  0.7678307647303272\n"
     ]
    },
    {
     "data": {
      "text/plain": [
       "Text(0.5, 0, '$x$')"
      ]
     },
     "execution_count": 4,
     "metadata": {},
     "output_type": "execute_result"
    },
    {
     "data": {
      "image/png": "[encoded data removed]",
      "text/plain": [
       "<Figure size 432x288 with 1 Axes>"
      ]
     },
     "metadata": {
      "needs_background": "light"
     },
     "output_type": "display_data"
    }
   ],
   "source": [
    "# Объем выборки\n",
    "n=5\n",
    "\n",
    "sample=get_random_samples(number_of_samples, n) \n",
    "    \n",
    "plt.hist(sample)\n",
    "plt.ylabel('f(x)')\n",
    "plt.xlabel('$x$')\n",
    "\n",
    "statistics=get_stat(sample)\n",
    "expectation=statistics[0]\n",
    "variance=statistics[1]\n",
    "sigma=statistics[2]\n",
    "\n",
    "print(\"Количество выборок = \", number_of_samples)\n",
    "print(\"Объем выборки = \", n)\n",
    "print(\"Математическое ожидание = \", expectation)\n",
    "print(\"Дисперсия = \", variance)\n",
    "print(\"Стандартное отклонение = \", sigma)\n",
    "\n",
    "\n",
    "norm_rv = sts.norm(expectation, sigma)\n",
    "sample = norm_rv.rvs(number_of_samples)\n",
    "\n",
    "# построим теоретическую функцию распределения:\n",
    "x = np.linspace(-4,4,number_of_samples)\n",
    "pdf = norm_rv.pdf(x)\n",
    "plt.plot(x, pdf, label='theoretical pdf', alpha=0.5)\n",
    "plt.legend()\n",
    "plt.ylabel('$f(x)$')\n",
    "plt.xlabel('$x$')"
   ]
  },
  {
   "cell_type": "markdown",
   "metadata": {},
   "source": [
    "#### Объем выборки n равен 10"
   ]
  },
  {
   "cell_type": "code",
   "execution_count": 5,
   "metadata": {},
   "outputs": [
    {
     "name": "stdout",
     "output_type": "stream",
     "text": [
      "Количество выборок =  1000\n",
      "Объем выборки =  10\n",
      "Математическое ожидание =  -0.02122677337156864\n",
      "Дисперсия =  0.3873488330775503\n",
      "Стандартное отклонение =  0.622373547861371\n"
     ]
    },
    {
     "data": {
      "text/plain": [
       "Text(0.5, 0, '$x$')"
      ]
     },
     "execution_count": 5,
     "metadata": {},
     "output_type": "execute_result"
    },
    {
     "data": {
      "image/png": "[encoded data removed]",
      "text/plain": [
       "<Figure size 432x288 with 1 Axes>"
      ]
     },
     "metadata": {
      "needs_background": "light"
     },
     "output_type": "display_data"
    }
   ],
   "source": [
    "# Объем выборки\n",
    "n=10\n",
    "\n",
    "sample=get_random_samples(number_of_samples, n) \n",
    "    \n",
    "plt.hist(sample)\n",
    "plt.ylabel('f(x)')\n",
    "plt.xlabel('$x$')\n",
    "\n",
    "statistics=get_stat(sample)\n",
    "expectation=statistics[0]\n",
    "variance=statistics[1]\n",
    "sigma=statistics[2]\n",
    "\n",
    "print(\"Количество выборок = \", number_of_samples)\n",
    "print(\"Объем выборки = \", n)\n",
    "print(\"Математическое ожидание = \", expectation)\n",
    "print(\"Дисперсия = \", variance)\n",
    "print(\"Стандартное отклонение = \", sigma)\n",
    "\n",
    "\n",
    "norm_rv = sts.norm(expectation, sigma)\n",
    "sample = norm_rv.rvs(number_of_samples)\n",
    "\n",
    "# построим теоретическую функцию распределения:\n",
    "x = np.linspace(-4,4,number_of_samples)\n",
    "pdf = norm_rv.pdf(x)\n",
    "plt.plot(x, pdf, label='theoretical pdf', alpha=0.5)\n",
    "plt.legend()\n",
    "plt.ylabel('$f(x)$')\n",
    "plt.xlabel('$x$')"
   ]
  },
  {
   "cell_type": "markdown",
   "metadata": {},
   "source": [
    "#### Объем выборки n равен 50"
   ]
  },
  {
   "cell_type": "code",
   "execution_count": 6,
   "metadata": {},
   "outputs": [
    {
     "name": "stdout",
     "output_type": "stream",
     "text": [
      "Количество выборок =  1000\n",
      "Объем выборки =  50\n",
      "Математическое ожидание =  0.00515074167952071\n",
      "Дисперсия =  0.06743900476158812\n",
      "Стандартное отклонение =  0.2596902092139558\n"
     ]
    },
    {
     "data": {
      "text/plain": [
       "Text(0.5, 0, '$x$')"
      ]
     },
     "execution_count": 6,
     "metadata": {},
     "output_type": "execute_result"
    },
    {
     "data": {
      "image/png": "[encoded data removed]",
      "text/plain": [
       "<Figure size 432x288 with 1 Axes>"
      ]
     },
     "metadata": {
      "needs_background": "light"
     },
     "output_type": "display_data"
    }
   ],
   "source": [
    "# Объем выборки\n",
    "n=50\n",
    "\n",
    "sample=get_random_samples(number_of_samples, n) \n",
    "    \n",
    "plt.hist(sample)\n",
    "plt.ylabel('f(x)')\n",
    "plt.xlabel('$x$')\n",
    "\n",
    "statistics=get_stat(sample)\n",
    "expectation=statistics[0]\n",
    "variance=statistics[1]\n",
    "sigma=statistics[2]\n",
    "\n",
    "print(\"Количество выборок = \", number_of_samples)\n",
    "print(\"Объем выборки = \", n)\n",
    "print(\"Математическое ожидание = \", expectation)\n",
    "print(\"Дисперсия = \", variance)\n",
    "print(\"Стандартное отклонение = \", sigma)\n",
    "\n",
    "\n",
    "norm_rv = sts.norm(expectation, sigma)\n",
    "sample = norm_rv.rvs(number_of_samples)\n",
    "\n",
    "# построим теоретическую функцию распределения:\n",
    "x = np.linspace(-4,4,number_of_samples)\n",
    "pdf = norm_rv.pdf(x)\n",
    "plt.plot(x, pdf, label='theoretical pdf', alpha=0.5)\n",
    "plt.legend()\n",
    "plt.ylabel('$f(x)$')\n",
    "plt.xlabel('$x$')"
   ]
  },
  {
   "cell_type": "markdown",
   "metadata": {},
   "source": [
    "### Заключение и выводы"
   ]
  },
  {
   "cell_type": "markdown",
   "metadata": {},
   "source": [
    "#### В результате проведенных исследований было показано, что при увеличении объема выборки дисперсия (стандартное отклонение) в распределении Стьюдента постепенно снижается. Так, при n=1, variance=3.27 (sigma = 1.81), при n=5, variance=0.72 (sigma = 0.85), при n=10, variance=0.3 (sigma = 0.56), при n=50, variance=0.06 (sigma = 0.24). Распределение все больше приближается к нормальному."
   ]
  },
  {
   "cell_type": "code",
   "execution_count": null,
   "metadata": {},
   "outputs": [],
   "source": []
  },
  {
   "cell_type": "code",
   "execution_count": null,
   "metadata": {},
   "outputs": [],
   "source": []
  }
 ],
 "metadata": {
  "kernelspec": {
   "display_name": "Python 3",
   "language": "python",
   "name": "python3"
  },
  "language_info": {
   "codemirror_mode": {
    "name": "ipython",
    "version": 3
   },
   "file_extension": ".py",
   "mimetype": "text/x-python",
   "name": "python",
   "nbconvert_exporter": "python",
   "pygments_lexer": "ipython3",
   "version": "3.7.4"
  }
 },
 "nbformat": 4,
 "nbformat_minor": 1
}
