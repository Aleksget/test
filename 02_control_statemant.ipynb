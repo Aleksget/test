{
 "cells": [
  {
   "cell_type": "code",
   "execution_count": 1,
   "metadata": {},
   "outputs": [
    {
     "data": {
      "text/plain": [
       "'\\nif something1:\\n    do1()\\nelif something2:\\n    do2()\\nelif something3:\\n    do3()\\n# ...\\nelif somethingN:\\n    doN()\\nelse:\\n    do_something_else()\\n'"
      ]
     },
     "execution_count": 1,
     "metadata": {},
     "output_type": "execute_result"
    }
   ],
   "source": [
    "\"\"\"\n",
    "if something1:\n",
    "    do1()\n",
    "elif something2:\n",
    "    do2()\n",
    "elif something3:\n",
    "    do3()\n",
    "# ...\n",
    "elif somethingN:\n",
    "    doN()\n",
    "else:\n",
    "    do_something_else()\n",
    "\"\"\"    "
   ]
  },
  {
   "cell_type": "code",
   "execution_count": 2,
   "metadata": {},
   "outputs": [
    {
     "name": "stdout",
     "output_type": "stream",
     "text": [
      "Максимальное значение из двух чисел =  3.5\n"
     ]
    }
   ],
   "source": [
    "### Использование конструкции if ... else\n",
    "a1=3.5\n",
    "a2=-4.6\n",
    "if a1>a2:\n",
    "  result=a1\n",
    "else:\n",
    "  result=a2\n",
    "print(\"Максимальное значение из двух чисел = \", result)"
   ]
  },
  {
   "cell_type": "code",
   "execution_count": 3,
   "metadata": {},
   "outputs": [
    {
     "name": "stdout",
     "output_type": "stream",
     "text": [
      "Максимальное значение из трех чисел =  11.2\n"
     ]
    }
   ],
   "source": [
    "### Разберем более сложный случай\n",
    "a1=11.2\n",
    "a2=-4.7\n",
    "a3=5.4\n",
    "if a1>a2 and a1>a3: result=a1\n",
    "elif a2>a1 and a2> a3: result=a2\n",
    "else: result=a3\n",
    "print(\"Максимальное значение из трех чисел = \", result)"
   ]
  },
  {
   "cell_type": "code",
   "execution_count": 4,
   "metadata": {},
   "outputs": [
    {
     "name": "stdout",
     "output_type": "stream",
     "text": [
      "('x1 = ', 1.375, ', x2 = ', -1.0)\n"
     ]
    }
   ],
   "source": [
    "import math\n",
    "a=-8.0\n",
    "b=3.0\n",
    "c=11.0\n",
    "d=b**2-4*a*c\n",
    "result=\"\"\n",
    "if d<0:\n",
    "  result=\"Действительных корней нет!\"\n",
    "else:\n",
    "  x1=(-b-math.sqrt(d))/(2*a)  \n",
    "  x2=(-b+math.sqrt(d))/(2*a)  \n",
    "  result=\"x1 = \", x1, \", x2 = \", x2\n",
    "print(result)"
   ]
  },
  {
   "cell_type": "code",
   "execution_count": 5,
   "metadata": {},
   "outputs": [
    {
     "data": {
      "text/plain": [
       "'\\nfor counter in range(start, stop, step):\\n    expression\\n'"
      ]
     },
     "execution_count": 5,
     "metadata": {},
     "output_type": "execute_result"
    }
   ],
   "source": [
    "\"\"\"\n",
    "for counter in range(start, stop, step):\n",
    "    expression\n",
    "\"\"\"    "
   ]
  },
  {
   "cell_type": "code",
   "execution_count": 6,
   "metadata": {},
   "outputs": [
    {
     "name": "stdout",
     "output_type": "stream",
     "text": [
      "1\n",
      "3\n",
      "5\n",
      "7\n",
      "9\n"
     ]
    }
   ],
   "source": [
    "for i in range(1,10,2):\n",
    "    print(i)"
   ]
  },
  {
   "cell_type": "code",
   "execution_count": 7,
   "metadata": {},
   "outputs": [
    {
     "data": {
      "text/plain": [
       "range(0, 10)"
      ]
     },
     "execution_count": 7,
     "metadata": {},
     "output_type": "execute_result"
    }
   ],
   "source": [
    "range(10) "
   ]
  },
  {
   "cell_type": "code",
   "execution_count": 8,
   "metadata": {},
   "outputs": [
    {
     "data": {
      "text/plain": [
       "range(0, 10)"
      ]
     },
     "execution_count": 8,
     "metadata": {},
     "output_type": "execute_result"
    }
   ],
   "source": [
    "(range(0,10))"
   ]
  },
  {
   "cell_type": "code",
   "execution_count": 9,
   "metadata": {},
   "outputs": [
    {
     "data": {
      "text/plain": [
       "range(4, 10)"
      ]
     },
     "execution_count": 9,
     "metadata": {},
     "output_type": "execute_result"
    }
   ],
   "source": [
    "range(4,10)"
   ]
  },
  {
   "cell_type": "code",
   "execution_count": 10,
   "metadata": {},
   "outputs": [
    {
     "data": {
      "text/plain": [
       "range(0, 10, 2)"
      ]
     },
     "execution_count": 10,
     "metadata": {},
     "output_type": "execute_result"
    }
   ],
   "source": [
    "range(0, 10, 2)"
   ]
  },
  {
   "cell_type": "code",
   "execution_count": 11,
   "metadata": {},
   "outputs": [
    {
     "name": "stdout",
     "output_type": "stream",
     "text": [
      "Scores: [56, 68, 13, 85, 79, 66, 21, 34, 8, 55]\n"
     ]
    }
   ],
   "source": [
    "import random\n",
    "scores = [random.randint(0, 100) for _ in range(10)]\n",
    "print(f'Scores: {scores}')"
   ]
  },
  {
   "cell_type": "code",
   "execution_count": 12,
   "metadata": {},
   "outputs": [
    {
     "name": "stdout",
     "output_type": "stream",
     "text": [
      "Mean score: 48.5\n"
     ]
    }
   ],
   "source": [
    "mean_score = 0\n",
    "for score in scores:\n",
    "    mean_score += score\n",
    "mean_score = mean_score / len(scores)\n",
    "print(f'Mean score: {mean_score}')"
   ]
  },
  {
   "cell_type": "code",
   "execution_count": 13,
   "metadata": {},
   "outputs": [
    {
     "name": "stdout",
     "output_type": "stream",
     "text": [
      "1: Python is cool!\n",
      "2: Python is powerful!\n",
      "3: Python is readable!\n"
     ]
    }
   ],
   "source": [
    "for index, word in enumerate(['cool', 'powerful', 'readable'], start=1):\n",
    "    print('{}: Python is {}!'.format(index, word))"
   ]
  },
  {
   "cell_type": "code",
   "execution_count": 14,
   "metadata": {},
   "outputs": [
    {
     "data": {
      "text/plain": [
       "'\\nwhile condition:\\n    loop_body\\n'"
      ]
     },
     "execution_count": 14,
     "metadata": {},
     "output_type": "execute_result"
    }
   ],
   "source": [
    "\"\"\"\n",
    "while condition:\n",
    "    loop_body\n",
    "\"\"\"    "
   ]
  },
  {
   "cell_type": "code",
   "execution_count": 15,
   "metadata": {},
   "outputs": [
    {
     "name": "stdout",
     "output_type": "stream",
     "text": [
      "1\n",
      "2\n",
      "3\n",
      "4\n",
      "5\n"
     ]
    }
   ],
   "source": [
    "i = 1\n",
    "while i < 6:\n",
    "    print(i)\n",
    "    i += 1"
   ]
  },
  {
   "cell_type": "code",
   "execution_count": null,
   "metadata": {},
   "outputs": [],
   "source": []
  }
 ],
 "metadata": {
  "kernelspec": {
   "display_name": "Python 3",
   "language": "python",
   "name": "python3"
  },
  "language_info": {
   "codemirror_mode": {
    "name": "ipython",
    "version": 3
   },
   "file_extension": ".py",
   "mimetype": "text/x-python",
   "name": "python",
   "nbconvert_exporter": "python",
   "pygments_lexer": "ipython3",
   "version": "3.7.4"
  }
 },
 "nbformat": 4,
 "nbformat_minor": 2
}
