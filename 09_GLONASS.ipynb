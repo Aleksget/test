{
 "cells": [
  {
   "cell_type": "code",
   "execution_count": 1,
   "metadata": {},
   "outputs": [],
   "source": [
    "import numpy as np"
   ]
  },
  {
   "cell_type": "markdown",
   "metadata": {},
   "source": [
    "Координаты потребителя"
   ]
  },
  {
   "cell_type": "code",
   "execution_count": 2,
   "metadata": {},
   "outputs": [],
   "source": [
    "x=-730000.0\n",
    "y=-5440000.0\n",
    "z=3230000.0"
   ]
  },
  {
   "cell_type": "markdown",
   "metadata": {},
   "source": [
    "Координаты первого спутника"
   ]
  },
  {
   "cell_type": "code",
   "execution_count": 3,
   "metadata": {},
   "outputs": [],
   "source": [
    "x1=15524471.175\n",
    "y1=-16649826.222\n",
    "z1=13512272.387"
   ]
  },
  {
   "cell_type": "markdown",
   "metadata": {},
   "source": [
    "Координаты второго спутника"
   ]
  },
  {
   "cell_type": "code",
   "execution_count": 4,
   "metadata": {},
   "outputs": [],
   "source": [
    "x2=-2304058.534\n",
    "y2=-23287906.465\n",
    "z2=11917038.105"
   ]
  },
  {
   "cell_type": "markdown",
   "metadata": {},
   "source": [
    "Координаты третьего спутника"
   ]
  },
  {
   "cell_type": "code",
   "execution_count": 5,
   "metadata": {},
   "outputs": [],
   "source": [
    "x3=16680243.357\n",
    "y3=-3069625.561\n",
    "z3=20378551.047"
   ]
  },
  {
   "cell_type": "markdown",
   "metadata": {},
   "source": [
    "Координаты четвертого спутника"
   ]
  },
  {
   "cell_type": "code",
   "execution_count": 6,
   "metadata": {},
   "outputs": [],
   "source": [
    "x4=-14799931.395\n",
    "y4=-21425358.24\n",
    "z4=6069947.224"
   ]
  },
  {
   "cell_type": "code",
   "execution_count": 7,
   "metadata": {},
   "outputs": [],
   "source": [
    "r1=np.sqrt((x1-x)**2 + (y1-y)**2 + (z1-z)**2)\n",
    "r2=np.sqrt((x2-x)**2 + (y2-y)**2 + (z2-z)**2)\n",
    "r3=np.sqrt((x3-x)**2 + (y3-y)**2 + (z3-z)**2)\n",
    "r4=np.sqrt((x4-x)**2 + (y4-y)**2 + (z4-z)**2)"
   ]
  },
  {
   "cell_type": "markdown",
   "metadata": {},
   "source": [
    "Создаем диагональную матрицу 4*4, можно единичную или нулевую матрицу"
   ]
  },
  {
   "cell_type": "code",
   "execution_count": 8,
   "metadata": {},
   "outputs": [],
   "source": [
    "A=np.eye(4)"
   ]
  },
  {
   "cell_type": "code",
   "execution_count": 9,
   "metadata": {},
   "outputs": [
    {
     "data": {
      "text/plain": [
       "array([[1., 0., 0., 0.],\n",
       "       [0., 1., 0., 0.],\n",
       "       [0., 0., 1., 0.],\n",
       "       [0., 0., 0., 1.]])"
      ]
     },
     "execution_count": 9,
     "metadata": {},
     "output_type": "execute_result"
    }
   ],
   "source": [
    "A"
   ]
  },
  {
   "cell_type": "code",
   "execution_count": 10,
   "metadata": {},
   "outputs": [],
   "source": [
    "A[0,0]=(x1-x)/r1\n",
    "A[0,1]=(y1-y)/r1\n",
    "A[0,2]=(z1-z)/r1\n",
    "A[0,3]=1\n",
    "\n",
    "A[1,0]=(x2-x)/r2\n",
    "A[1,1]=(y2-y)/r2\n",
    "A[1,2]=(z2-z)/r2\n",
    "A[1,3]=1\n",
    "\n",
    "A[2,0]=(x3-x)/r3\n",
    "A[2,1]=(y3-y)/r3\n",
    "A[2,2]=(z3-z)/r3\n",
    "A[2,3]=1\n",
    "\n",
    "A[3,0]=(x4-x)/r4\n",
    "A[3,1]=(y4-y)/r4\n",
    "A[3,2]=(z4-z)/r4\n",
    "A[3,3]=1"
   ]
  },
  {
   "cell_type": "code",
   "execution_count": 11,
   "metadata": {},
   "outputs": [
    {
     "data": {
      "text/plain": [
       "array([[ 0.73014681, -0.50354261,  0.46187712,  1.        ],\n",
       "       [-0.07905052, -0.8963366 ,  0.43627023,  1.        ],\n",
       "       [ 0.70911279,  0.09654448,  0.69845416,  1.        ],\n",
       "       [-0.65490442, -0.74406061,  0.13218927,  1.        ]])"
      ]
     },
     "execution_count": 11,
     "metadata": {},
     "output_type": "execute_result"
    }
   ],
   "source": [
    "A"
   ]
  },
  {
   "cell_type": "code",
   "execution_count": 12,
   "metadata": {},
   "outputs": [
    {
     "data": {
      "text/plain": [
       "array([[ 0.73014681, -0.07905052,  0.70911279, -0.65490442],\n",
       "       [-0.50354261, -0.8963366 ,  0.09654448, -0.74406061],\n",
       "       [ 0.46187712,  0.43627023,  0.69845416,  0.13218927],\n",
       "       [ 1.        ,  1.        ,  1.        ,  1.        ]])"
      ]
     },
     "execution_count": 12,
     "metadata": {},
     "output_type": "execute_result"
    }
   ],
   "source": [
    "A.T"
   ]
  },
  {
   "cell_type": "code",
   "execution_count": 13,
   "metadata": {},
   "outputs": [],
   "source": [
    "Q=np.linalg.inv((A.T.dot(A)))"
   ]
  },
  {
   "cell_type": "code",
   "execution_count": 14,
   "metadata": {},
   "outputs": [
    {
     "data": {
      "text/plain": [
       "array([[ 1.4711041 ,  0.25894535,  0.71146216,  0.70530466],\n",
       "       [ 0.25894535,  1.6199215 , -0.65454472, -2.04739535],\n",
       "       [ 0.71146216, -0.65454472,  0.9089744 ,  1.72879078],\n",
       "       [ 0.70530466, -2.04739535,  1.72879078,  4.        ]])"
      ]
     },
     "execution_count": 14,
     "metadata": {},
     "output_type": "execute_result"
    }
   ],
   "source": [
    "A.T.dot(A)"
   ]
  },
  {
   "cell_type": "code",
   "execution_count": 15,
   "metadata": {},
   "outputs": [
    {
     "data": {
      "text/plain": [
       "array([[  3.14598646,  -0.52936065,  -7.15303738,   2.26585391],\n",
       "       [ -0.52936065,   4.1865101 ,  -4.62958998,   4.23709858],\n",
       "       [ -7.15303738,  -4.62958998,  30.74880526, -14.39794537],\n",
       "       [  2.26585391,   4.23709858, -14.39794537,   8.24198346]])"
      ]
     },
     "execution_count": 15,
     "metadata": {},
     "output_type": "execute_result"
    }
   ],
   "source": [
    "Q"
   ]
  },
  {
   "cell_type": "code",
   "execution_count": 16,
   "metadata": {},
   "outputs": [],
   "source": [
    "VDOP=np.sqrt(Q[2,2])"
   ]
  },
  {
   "cell_type": "code",
   "execution_count": 17,
   "metadata": {},
   "outputs": [],
   "source": [
    "HDOP=np.sqrt(Q[0,0]+Q[1,1])"
   ]
  },
  {
   "cell_type": "code",
   "execution_count": 18,
   "metadata": {},
   "outputs": [],
   "source": [
    "TDOP=np.sqrt(Q[3,3])"
   ]
  },
  {
   "cell_type": "code",
   "execution_count": 19,
   "metadata": {},
   "outputs": [],
   "source": [
    "PDOP=np.sqrt(Q[0,0]+Q[1,1]+Q[2,2])"
   ]
  },
  {
   "cell_type": "code",
   "execution_count": 20,
   "metadata": {},
   "outputs": [],
   "source": [
    "GDOP=np.sqrt(TDOP**2 + PDOP**2)"
   ]
  },
  {
   "cell_type": "code",
   "execution_count": 21,
   "metadata": {},
   "outputs": [
    {
     "name": "stdout",
     "output_type": "stream",
     "text": [
      "VDOP 5.545160525841456\n",
      "HDOP 2.7078582979270984\n",
      "TDOP 2.8708854835566564\n",
      "PDOP 6.171004927805757\n",
      "GDOP 6.806121162505063\n"
     ]
    }
   ],
   "source": [
    "print(\"VDOP\", VDOP)\n",
    "print(\"HDOP\", HDOP)\n",
    "print(\"TDOP\", TDOP)\n",
    "print(\"PDOP\", PDOP)\n",
    "print(\"GDOP\", GDOP)"
   ]
  }
 ],
 "metadata": {
  "kernelspec": {
   "display_name": "Python 3",
   "language": "python",
   "name": "python3"
  },
  "language_info": {
   "codemirror_mode": {
    "name": "ipython",
    "version": 3
   },
   "file_extension": ".py",
   "mimetype": "text/x-python",
   "name": "python",
   "nbconvert_exporter": "python",
   "pygments_lexer": "ipython3",
   "version": "3.7.4"
  }
 },
 "nbformat": 4,
 "nbformat_minor": 4
}
