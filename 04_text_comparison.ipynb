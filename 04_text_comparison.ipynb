{
 "cells": [
  {
   "cell_type": "code",
   "execution_count": 1,
   "metadata": {},
   "outputs": [],
   "source": [
    "import nltk\n",
    "import nltk, re, pprint\n",
    "from nltk import word_tokenize\n",
    "import nltk.probability\n",
    "import numpy as np\n",
    "import scipy"
   ]
  },
  {
   "cell_type": "code",
   "execution_count": 2,
   "metadata": {},
   "outputs": [],
   "source": [
    "#pip install nltk"
   ]
  },
  {
   "cell_type": "code",
   "execution_count": 3,
   "metadata": {},
   "outputs": [
    {
     "data": {
      "text/plain": [
       "['In comparison to dogs, cats have not undergone major changes during the domestication process.\\n',\n",
       " 'As cat simply catenates streams of bytes, it can be also used to concatenate binary files, where it will just concatenate sequence of bytes.\\n',\n",
       " 'A common interactive use of cat for a single file is to output the content of a file to standard output.\\n']"
      ]
     },
     "execution_count": 3,
     "metadata": {},
     "output_type": "execute_result"
    }
   ],
   "source": [
    "#file_obj = open('sentences.txt')\n",
    "file_obj = open('sentences.txt')\n",
    "data_list = list(file_obj)\n",
    "data_list[0:3]"
   ]
  },
  {
   "cell_type": "code",
   "execution_count": 4,
   "metadata": {},
   "outputs": [],
   "source": [
    "n=len(data_list)\n",
    "phrase=[]\n",
    "for i in range(n):\n",
    "    phrase.append(data_list[i].lower())"
   ]
  },
  {
   "cell_type": "code",
   "execution_count": 5,
   "metadata": {},
   "outputs": [
    {
     "data": {
      "text/plain": [
       "['a',\n",
       " 'according',\n",
       " 'adjacent',\n",
       " 'allow',\n",
       " 'allows',\n",
       " 'also',\n",
       " 'an',\n",
       " 'ancestor',\n",
       " 'and',\n",
       " 'animals']"
      ]
     },
     "execution_count": 5,
     "metadata": {},
     "output_type": "execute_result"
    }
   ],
   "source": [
    "sentence=[]\n",
    "#Список слов во фразах\n",
    "list_of_phrases=[]\n",
    "for i in range(len(phrase)):\n",
    "    s=re.split('[^a-z]', phrase[i])\n",
    "    phrase_list=[]\n",
    "    for j in range(len(s)):\n",
    "        if s[j]!='': \n",
    "            sentence.append(s[j])\n",
    "            phrase_list.append(s[j])\n",
    "            \n",
    "    list_of_phrases.append(phrase_list)\n",
    "            \n",
    "#Глобальный словарь            \n",
    "vocabulary = sorted(set(sentence))\n",
    "vocabulary[0:10]"
   ]
  },
  {
   "cell_type": "code",
   "execution_count": 6,
   "metadata": {},
   "outputs": [
    {
     "data": {
      "text/plain": [
       "array([[0., 0., 0., ..., 0., 0., 0.],\n",
       "       [0., 0., 0., ..., 0., 0., 0.],\n",
       "       [3., 0., 0., ..., 0., 0., 0.],\n",
       "       ...,\n",
       "       [1., 0., 0., ..., 0., 0., 0.],\n",
       "       [1., 0., 0., ..., 0., 0., 1.],\n",
       "       [1., 0., 0., ..., 0., 0., 0.]])"
      ]
     },
     "execution_count": 6,
     "metadata": {},
     "output_type": "execute_result"
    }
   ],
   "source": [
    "matrix_of_frequences=np.zeros((len(list_of_phrases), len(vocabulary)))\n",
    "\n",
    "list_of_frequenses=[]\n",
    "freq_lst=[]\n",
    "for i in range(len(list_of_phrases)):\n",
    "    frequency_dictionary={}\n",
    "    lst_freq=[]\n",
    "    for j in range(len(vocabulary)):\n",
    "        frequency_dictionary[vocabulary[j]]=list_of_phrases[i].count(vocabulary[j])\n",
    "        matrix_of_frequences[i][j]=list_of_phrases[i].count(vocabulary[j])\n",
    "        lst_freq.append(list_of_phrases[i].count(vocabulary[j]))\n",
    "        \n",
    "    list_of_frequenses.append(frequency_dictionary)\n",
    "    freq_lst.append(lst_freq)    \n",
    "    \n",
    "matrix_of_frequences\n",
    "\n",
    "#print freq_lst[1]\n",
    "#print len(freq_lst)\n",
    "#freq_lst"
   ]
  },
  {
   "cell_type": "code",
   "execution_count": 7,
   "metadata": {},
   "outputs": [],
   "source": [
    "import urllib.request"
   ]
  },
  {
   "cell_type": "code",
   "execution_count": 8,
   "metadata": {},
   "outputs": [
    {
     "data": {
      "text/plain": [
       "[distance(score=0.0, number=0),\n",
       " distance(score=0.7327387580875756, number=6),\n",
       " distance(score=0.7770887149698589, number=4)]"
      ]
     },
     "execution_count": 8,
     "metadata": {},
     "output_type": "execute_result"
    }
   ],
   "source": [
    "import collections\n",
    "\n",
    "Player = collections.namedtuple('distance', 'score number')\n",
    "dict_freq={}\n",
    "for i in range(len(freq_lst)):\n",
    "    dict_freq[i]=scipy.spatial.distance.cosine(freq_lst[0], freq_lst[i])\n",
    "    \n",
    "best = sorted([Player(v,k) for (k,v) in dict_freq.items()], reverse=False)\n",
    "best[0:3]"
   ]
  },
  {
   "cell_type": "code",
   "execution_count": 9,
   "metadata": {},
   "outputs": [
    {
     "name": "stdout",
     "output_type": "stream",
     "text": [
      "distance(score=0.0, number=0)\n",
      "distance(score=0.7327387580875756, number=6)\n",
      "distance(score=0.7770887149698589, number=4)\n"
     ]
    }
   ],
   "source": [
    "for i in range(3):\n",
    "    print(best[i])"
   ]
  },
  {
   "cell_type": "code",
   "execution_count": 10,
   "metadata": {},
   "outputs": [
    {
     "name": "stdout",
     "output_type": "stream",
     "text": [
      "['in', 'comparison', 'to', 'dogs', 'cats', 'have', 'not', 'undergone', 'major', 'changes', 'during', 'the', 'domestication', 'process'] \n",
      "\n",
      "['domestic', 'cats', 'are', 'similar', 'in', 'size', 'to', 'the', 'other', 'members', 'of', 'the', 'genus', 'felis', 'typically', 'weighing', 'between', 'and', 'kg', 'and', 'lb'] \n",
      "\n",
      "['in', 'one', 'people', 'deliberately', 'tamed', 'cats', 'in', 'a', 'process', 'of', 'artificial', 'selection', 'as', 'they', 'were', 'useful', 'predators', 'of', 'vermin'] \n",
      "\n"
     ]
    }
   ],
   "source": [
    "print(list_of_phrases[0], \"\\n\")\n",
    "print(list_of_phrases[6], \"\\n\")\n",
    "print(list_of_phrases[4], \"\\n\")\n"
   ]
  },
  {
   "cell_type": "code",
   "execution_count": 11,
   "metadata": {},
   "outputs": [
    {
     "data": {
      "text/plain": [
       "[distance(score=0.0, number=0),\n",
       " distance(score=0.7327387580875756, number=6),\n",
       " distance(score=0.7770887149698589, number=4)]"
      ]
     },
     "execution_count": 11,
     "metadata": {},
     "output_type": "execute_result"
    }
   ],
   "source": [
    "best[0:3]"
   ]
  },
  {
   "cell_type": "code",
   "execution_count": null,
   "metadata": {},
   "outputs": [],
   "source": []
  }
 ],
 "metadata": {
  "kernelspec": {
   "display_name": "Python 3",
   "language": "python",
   "name": "python3"
  },
  "language_info": {
   "codemirror_mode": {
    "name": "ipython",
    "version": 3
   },
   "file_extension": ".py",
   "mimetype": "text/x-python",
   "name": "python",
   "nbconvert_exporter": "python",
   "pygments_lexer": "ipython3",
   "version": "3.7.4"
  }
 },
 "nbformat": 4,
 "nbformat_minor": 1
}
