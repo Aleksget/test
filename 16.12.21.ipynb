{
  "cells": [
    {
      "cell_type": "markdown",
      "metadata": {
        "id": "jxBCqX74455b"
      },
      "source": [
        " # Занятие 2. Циклы. Функции."
      ]
    },
    {
      "cell_type": "markdown",
      "metadata": {
        "id": "rsLW0Tpr455g"
      },
      "source": [
        "## 1. Циклы.\n",
        "\n",
        "При написании скриптов зачастую встаёт задача сделать однотипное действие много раз. <br>\n",
        "Для многократного повторения одного участка кода предусмотрены циклы."
      ]
    },
    {
      "cell_type": "markdown",
      "metadata": {
        "id": "swyy0v3P455h"
      },
      "source": [
        "### Цикл While \n",
        "\n",
        "Цикл While - один из самых универсальных циклов в Python, поэтому довольно медленный. <br>\n",
        "Выполняет тело цикла до тех пор, пока условие цикла истинно."
      ]
    },
    {
      "cell_type": "code",
      "execution_count": null,
      "metadata": {
        "scrolled": true,
        "id": "rcAdI_ug455i"
      },
      "outputs": [],
      "source": [
        "i = 4\n",
        "while i <= 10:\n",
        "    print(i ** 2)\n",
        "    i = i + 3 # i += 3"
      ]
    },
    {
      "cell_type": "code",
      "execution_count": null,
      "metadata": {
        "id": "7tMB8d4r455j"
      },
      "outputs": [],
      "source": [
        "zapravka = 0\n",
        "while zapravka < 5:\n",
        "    zapravka += 1 # zapravka = zapravka + 1\n",
        "    print('Заправок произведено:', zapravka)"
      ]
    },
    {
      "cell_type": "markdown",
      "metadata": {
        "id": "9ITzHDWO455k"
      },
      "source": [
        "### Цикл For\n",
        "\n",
        "Цикл For проходится по объекту (например строке или списку), и во время каждого прохода выполняет тело цикла."
      ]
    },
    {
      "cell_type": "code",
      "execution_count": null,
      "metadata": {
        "scrolled": true,
        "id": "JLfUqeqG455k"
      },
      "outputs": [],
      "source": [
        "a = 'hello'\n",
        "for i in a:\n",
        "    print(i)"
      ]
    },
    {
      "cell_type": "code",
      "execution_count": null,
      "metadata": {
        "scrolled": false,
        "id": "sWbeLCJK455l"
      },
      "outputs": [],
      "source": [
        "a = [1, 2, 3, 4, 5]\n",
        "for i in a:\n",
        "    print(i ** 2)"
      ]
    },
    {
      "cell_type": "markdown",
      "metadata": {
        "id": "__UZqtb5455m"
      },
      "source": [
        "Можно писать цикл в одну строку. Это часто используется для генерации списков:"
      ]
    },
    {
      "cell_type": "code",
      "execution_count": null,
      "metadata": {
        "id": "c613_nMO455n"
      },
      "outputs": [],
      "source": [
        "[i**2 for i in range(10)]"
      ]
    },
    {
      "cell_type": "code",
      "execution_count": null,
      "metadata": {
        "id": "R_NfNaIP455n"
      },
      "outputs": [],
      "source": [
        "range(10)"
      ]
    },
    {
      "cell_type": "code",
      "execution_count": null,
      "metadata": {
        "id": "VnHaeGwX455o"
      },
      "outputs": [],
      "source": [
        "list(range(10))"
      ]
    },
    {
      "cell_type": "markdown",
      "metadata": {
        "id": "4Sz_dwOd455o"
      },
      "source": [
        "Кстати, инструкцию ветвления тоже можно записать в одну строку:"
      ]
    },
    {
      "cell_type": "code",
      "execution_count": null,
      "metadata": {
        "id": "MbXmoaF5455o"
      },
      "outputs": [],
      "source": [
        "True if 10 == 10 else False"
      ]
    },
    {
      "cell_type": "markdown",
      "metadata": {
        "id": "oqutTMr2455p"
      },
      "source": [
        "А можно записать и цикл, и инструкцию ветвления:"
      ]
    },
    {
      "cell_type": "code",
      "execution_count": null,
      "metadata": {
        "id": "6vmn60BV455p"
      },
      "outputs": [],
      "source": [
        "[True if i < 5 else False for i in range(10)]"
      ]
    },
    {
      "cell_type": "markdown",
      "metadata": {
        "id": "0MQaF9ys455q"
      },
      "source": [
        "<font color='blue'>**Задание 1.**</font>\n",
        "\n",
        "Дан список [1, 3, 4, 5, 2, 6, 11, 56, -3], выведите количество чисел больших 5 из этого списка.\n",
        "\n",
        "<font color='blue'>**Задание 2.**</font>\n",
        "\n",
        "Для списка чисел [1, 3, 4, 5, 2], если число нечетное, то возведите его во вторую степень, если четное - разделите на 2. \n",
        "\n",
        "Должна получиться последовательность [1, 9, 2, 25, 1]."
      ]
    },
    {
      "cell_type": "markdown",
      "metadata": {
        "id": "PbL7C3s8455q"
      },
      "source": [
        "### Обход последовательностей в цикле"
      ]
    },
    {
      "cell_type": "code",
      "execution_count": null,
      "metadata": {
        "id": "VntQRM-u455q"
      },
      "outputs": [],
      "source": [
        "fuel_type = ['92', '95', 'DT'] # Дана некоторая последовательность элементов"
      ]
    },
    {
      "cell_type": "code",
      "execution_count": null,
      "metadata": {
        "id": "AdmZ6JgS455q"
      },
      "outputs": [],
      "source": [
        "len(fuel_type)"
      ]
    },
    {
      "cell_type": "code",
      "execution_count": null,
      "metadata": {
        "id": "15nDcBBK455r"
      },
      "outputs": [],
      "source": [
        "fuel_type[2]"
      ]
    },
    {
      "cell_type": "markdown",
      "metadata": {
        "id": "AIcd9Kko455r"
      },
      "source": [
        "Нам нужно обойти заданную последовательность: с каждым элементом проделать однотипное действие."
      ]
    },
    {
      "cell_type": "code",
      "execution_count": null,
      "metadata": {
        "scrolled": true,
        "id": "g7qFi-Y8455r"
      },
      "outputs": [],
      "source": [
        "# С циклом while:\n",
        "i = 0\n",
        "while len(fuel_type) > i:\n",
        "    print(fuel_type[i])\n",
        "    i += 1"
      ]
    },
    {
      "cell_type": "code",
      "execution_count": null,
      "metadata": {
        "scrolled": true,
        "id": "xyYPkwlQ455s"
      },
      "outputs": [],
      "source": [
        "# С циклом for:\n",
        "for i in fuel_type:\n",
        "    print(i)"
      ]
    },
    {
      "cell_type": "code",
      "execution_count": null,
      "metadata": {
        "id": "G6lWmN6a455s"
      },
      "outputs": [],
      "source": [
        "for j in 'Gazpromneft':\n",
        "    print(j, end = ',')"
      ]
    },
    {
      "cell_type": "markdown",
      "metadata": {
        "id": "9AWkiPtn455s"
      },
      "source": [
        "### Зацикливание"
      ]
    },
    {
      "cell_type": "code",
      "execution_count": null,
      "metadata": {
        "id": "H-ljG7y6455s"
      },
      "outputs": [],
      "source": [
        "a = 5\n",
        "while a > 0:\n",
        "    print(\"!\")\n",
        "    a += 1"
      ]
    },
    {
      "cell_type": "markdown",
      "metadata": {
        "id": "YRm6Umge455t"
      },
      "source": [
        "###  Операторы Break и Continue"
      ]
    },
    {
      "cell_type": "markdown",
      "metadata": {
        "id": "79dO4XEY455t"
      },
      "source": [
        "Оператор **continue** начинает следующий проход цикла, минуя оставшееся тело цикла:"
      ]
    },
    {
      "cell_type": "code",
      "execution_count": null,
      "metadata": {
        "scrolled": true,
        "id": "FdJDAEdS455t"
      },
      "outputs": [],
      "source": [
        "for i in 'hello':\n",
        "    if i == 'l':\n",
        "        continue\n",
        "    print(i * 2, end = ' ')"
      ]
    },
    {
      "cell_type": "markdown",
      "metadata": {
        "id": "dRIasVjX455t"
      },
      "source": [
        "Оператор **break** досрочно прерывает цикл:"
      ]
    },
    {
      "cell_type": "code",
      "execution_count": null,
      "metadata": {
        "id": "shrd9atC455u"
      },
      "outputs": [],
      "source": [
        "for i in 'hello':\n",
        "    if i == 'l':\n",
        "        break\n",
        "    print(i * 2, end = ' ')"
      ]
    },
    {
      "cell_type": "code",
      "execution_count": null,
      "metadata": {
        "scrolled": true,
        "id": "sd2J0ker455u"
      },
      "outputs": [],
      "source": [
        "i = 0\n",
        "while 1==1:\n",
        "    i += 1\n",
        "    if i >= 10:\n",
        "        break # Инструкция break при выполнении немедленно заканчивает выполнения цикла\n",
        "    if i % 2 == 0:\n",
        "        continue # Переходим к проверке условия цикла, пропуская все операторы за инструкцией\n",
        "    print(i)"
      ]
    },
    {
      "cell_type": "markdown",
      "metadata": {
        "id": "SuF1yIsM455u"
      },
      "source": [
        "<font color='blue'>**Задание 3.**</font>\n",
        "\n",
        "Заправляем полный бак бензина: \n",
        "\n",
        "- Введите переменную VOLUME, равную 50 (Это объем бака)\n",
        "- Введите вторую переменную CHECK_VOLUME, где вы просите (input) пользователя ввести количество литров, которые уже есть в баке\n",
        "- Если пользователь ошибся и объем бака превышен, то выведите сообщение \"Превышен объем бака, попробуйте еще\"\n",
        "- В противном случае \"Заправка началась\" + текущее количество литров, пока не будет заправлен полный бак\n",
        "- При полной заправке выведите \"Заправка завершена\""
      ]
    },
    {
      "cell_type": "markdown",
      "metadata": {
        "id": "mVp52MqZ455v"
      },
      "source": [
        "## 2. Функции."
      ]
    },
    {
      "cell_type": "markdown",
      "metadata": {
        "id": "hW8M7xl3455v"
      },
      "source": [
        "### Встроенные функции (часть 1)"
      ]
    },
    {
      "cell_type": "code",
      "execution_count": null,
      "metadata": {
        "id": "Rg0u8n_f455v"
      },
      "outputs": [],
      "source": [
        "type(1)"
      ]
    },
    {
      "cell_type": "code",
      "execution_count": null,
      "metadata": {
        "id": "rluDeiCL455v"
      },
      "outputs": [],
      "source": [
        "type('1')"
      ]
    },
    {
      "cell_type": "code",
      "execution_count": null,
      "metadata": {
        "id": "Ut4zsq2N455v"
      },
      "outputs": [],
      "source": [
        "type(1.0)"
      ]
    },
    {
      "cell_type": "code",
      "execution_count": null,
      "metadata": {
        "id": "kaRq_1hy455w"
      },
      "outputs": [],
      "source": [
        "?type"
      ]
    },
    {
      "cell_type": "code",
      "execution_count": null,
      "metadata": {
        "id": "PswFUwmC455w"
      },
      "outputs": [],
      "source": [
        "print(1)"
      ]
    },
    {
      "cell_type": "code",
      "execution_count": null,
      "metadata": {
        "id": "TN2ka-Td455w"
      },
      "outputs": [],
      "source": [
        "input()"
      ]
    },
    {
      "cell_type": "code",
      "execution_count": null,
      "metadata": {
        "id": "SzMD28xt455w"
      },
      "outputs": [],
      "source": [
        "int('12')"
      ]
    },
    {
      "cell_type": "code",
      "execution_count": null,
      "metadata": {
        "id": "77xN9134455x"
      },
      "outputs": [],
      "source": [
        "float('12')"
      ]
    },
    {
      "cell_type": "code",
      "execution_count": null,
      "metadata": {
        "id": "DkruMAzC455x"
      },
      "outputs": [],
      "source": [
        "str(12)"
      ]
    },
    {
      "cell_type": "code",
      "execution_count": null,
      "metadata": {
        "id": "NX4B0Ji8455x"
      },
      "outputs": [],
      "source": [
        "len([1, 2])"
      ]
    },
    {
      "cell_type": "code",
      "execution_count": null,
      "metadata": {
        "id": "YWhmOli2455x"
      },
      "outputs": [],
      "source": [
        "?len"
      ]
    },
    {
      "cell_type": "code",
      "execution_count": null,
      "metadata": {
        "id": "bu3pppUT455y"
      },
      "outputs": [],
      "source": [
        "len('12345')"
      ]
    },
    {
      "cell_type": "code",
      "execution_count": null,
      "metadata": {
        "id": "DVauSAHr455y"
      },
      "outputs": [],
      "source": [
        "range(1, 3)"
      ]
    },
    {
      "cell_type": "code",
      "execution_count": null,
      "metadata": {
        "id": "SqOmC1Ty455y"
      },
      "outputs": [],
      "source": [
        "list(range(1, 3))"
      ]
    },
    {
      "cell_type": "code",
      "execution_count": null,
      "metadata": {
        "id": "VRKwxDYj455y"
      },
      "outputs": [],
      "source": [
        "range(3, 11, 2)"
      ]
    },
    {
      "cell_type": "code",
      "execution_count": null,
      "metadata": {
        "id": "_UraXQK7455y"
      },
      "outputs": [],
      "source": [
        "list(range(3, 11, 2))"
      ]
    },
    {
      "cell_type": "code",
      "execution_count": null,
      "metadata": {
        "id": "j0Znwgao455z"
      },
      "outputs": [],
      "source": [
        "abs(-3)"
      ]
    },
    {
      "cell_type": "code",
      "execution_count": null,
      "metadata": {
        "id": "GlrNzstp455z"
      },
      "outputs": [],
      "source": [
        "max([1, 3, 5, 3, 4])"
      ]
    },
    {
      "cell_type": "code",
      "execution_count": null,
      "metadata": {
        "scrolled": true,
        "id": "gwFWQaki455z"
      },
      "outputs": [],
      "source": [
        "max('qwerty')"
      ]
    },
    {
      "cell_type": "code",
      "execution_count": null,
      "metadata": {
        "id": "Z73piii14550"
      },
      "outputs": [],
      "source": [
        "min([1, 3, 5, 3, 4])"
      ]
    },
    {
      "cell_type": "code",
      "execution_count": null,
      "metadata": {
        "id": "yJ_ITAqk4550"
      },
      "outputs": [],
      "source": [
        "min('qwerty')"
      ]
    },
    {
      "cell_type": "code",
      "execution_count": null,
      "metadata": {
        "id": "C7c8qsTd4551"
      },
      "outputs": [],
      "source": [
        "round(2.56435354, 2)"
      ]
    },
    {
      "cell_type": "code",
      "execution_count": null,
      "metadata": {
        "id": "MQeBCT-y4551"
      },
      "outputs": [],
      "source": [
        "sum([1, 2, 3])"
      ]
    },
    {
      "cell_type": "markdown",
      "metadata": {
        "id": "AWOxRqpH4551"
      },
      "source": [
        "### Пользовательские функции"
      ]
    },
    {
      "cell_type": "code",
      "execution_count": null,
      "metadata": {
        "id": "TxoLCB864552"
      },
      "outputs": [],
      "source": [
        "def summ(a, b): # Функция, которая суммирует два числа\n",
        "    c = a + b\n",
        "    return c"
      ]
    },
    {
      "cell_type": "code",
      "execution_count": null,
      "metadata": {
        "id": "FMu1V_584552"
      },
      "outputs": [],
      "source": [
        "?summ"
      ]
    },
    {
      "cell_type": "code",
      "execution_count": null,
      "metadata": {
        "id": "eyLvR-sd4552"
      },
      "outputs": [],
      "source": [
        "sum([5, 10])"
      ]
    },
    {
      "cell_type": "code",
      "execution_count": null,
      "metadata": {
        "id": "4ku1irSC4552"
      },
      "outputs": [],
      "source": [
        "summ(5, 10)"
      ]
    },
    {
      "cell_type": "markdown",
      "metadata": {
        "id": "Y2xhXdna4553"
      },
      "source": [
        "<font color='blue'>**Задание 4.**</font>\n",
        "\n",
        "Напишите функцию, которая считает среднее арифметическое четырех чисел."
      ]
    },
    {
      "cell_type": "markdown",
      "metadata": {
        "id": "fvClgPtp4553"
      },
      "source": [
        "### Документирование функций"
      ]
    },
    {
      "cell_type": "code",
      "execution_count": null,
      "metadata": {
        "id": "knLZ4k7Z4553"
      },
      "outputs": [],
      "source": [
        "def summ(a, b):\n",
        "    \"\"\" Суммирование значений \"\"\"\n",
        "    c = a + b\n",
        "    return c"
      ]
    },
    {
      "cell_type": "code",
      "execution_count": null,
      "metadata": {
        "id": "OpLxKRNg4553"
      },
      "outputs": [],
      "source": [
        "def summ(a, b):\n",
        "    \"\"\" \n",
        "    param: a, b - числа\n",
        "    result: сумму чисел\n",
        "    \n",
        "    Суммирование значений.\n",
        "    Эта функция суммирует два числа.\n",
        "    \"\"\"\n",
        "    c = a + b\n",
        "    return c"
      ]
    },
    {
      "cell_type": "code",
      "execution_count": null,
      "metadata": {
        "id": "IIOmhSFr4553"
      },
      "outputs": [],
      "source": [
        "?summ"
      ]
    },
    {
      "cell_type": "markdown",
      "metadata": {
        "id": "icA-G-ce4554"
      },
      "source": [
        "<font color='blue'>**Задание 5.**</font>\n",
        "\n",
        "Напишите функцию, на вход которой поступают литры, а она возвращает бонусы начисленные на эти литры.\n",
        "\n",
        "Алгоритм работы функции:\n",
        "1. Проверяет, чтобы число литров было не больше 300, в противном случае заменяет на 300. \n",
        "2. Умножает полученное после 1 пункта значение на 0.7 и возвращает значение\n",
        "\n",
        "Задокументируйте функцию."
      ]
    },
    {
      "cell_type": "markdown",
      "metadata": {
        "id": "UVYpBCkq4554"
      },
      "source": [
        "### Область видимости переменной"
      ]
    },
    {
      "cell_type": "markdown",
      "metadata": {
        "id": "bGoEUA-M4554"
      },
      "source": [
        "Область видимости определяет, когда и где вы можете использовать свои переменные.\n",
        "\n",
        "Иными словами, область видимости переменной (где она может использоваться) всегда определяется местом, где ей было присвоено значение.\n",
        "\n",
        "Значения переменным могут быть присвоены в разных местах, соответствующих трем разным областям видимости:\n",
        "- Если присваивание переменной выполняется внутри инструкции def, переменная является локальной для этой функции.\n",
        "- Если присваивание производится за пределами всех инструкций def, она является глобальной для всего файла."
      ]
    },
    {
      "cell_type": "markdown",
      "metadata": {
        "id": "UGNWfTF14554"
      },
      "source": [
        "**Локальная область видимости и локальные переменные**:\n",
        "\n",
        "Переменные, определяемые внутри инструкции def, видны только программному коду внутри инструкции def. К этим переменным нельзя обратиться за пределами функции."
      ]
    },
    {
      "cell_type": "code",
      "execution_count": null,
      "metadata": {
        "id": "kCQTZXtE4554"
      },
      "outputs": [],
      "source": [
        "?local"
      ]
    },
    {
      "cell_type": "code",
      "execution_count": null,
      "metadata": {
        "id": "H9hRsXcD4554"
      },
      "outputs": [],
      "source": [
        "def local(x):\n",
        "    y = 10 # Переменная y - локальная\n",
        "    print(x, y)"
      ]
    },
    {
      "cell_type": "code",
      "execution_count": null,
      "metadata": {
        "id": "20pW8lwA4555"
      },
      "outputs": [],
      "source": [
        "local(5)"
      ]
    },
    {
      "cell_type": "code",
      "execution_count": null,
      "metadata": {
        "scrolled": true,
        "id": "fNsoYAYz4555"
      },
      "outputs": [],
      "source": [
        "y # Если попытаться ее вывести за пределами функции - ничего не выйдет"
      ]
    },
    {
      "cell_type": "markdown",
      "metadata": {
        "id": "3kwz9Ez64555"
      },
      "source": [
        "Переменные, определяемые внутри инструкции def, не вступают в конфликт с переменными, находящимися за пределами инструкции def, даже если и там и там присутствуют одинаковые переменные. "
      ]
    },
    {
      "cell_type": "code",
      "execution_count": null,
      "metadata": {
        "scrolled": false,
        "id": "Qadpmlpj4555"
      },
      "outputs": [],
      "source": [
        "y = 15\n",
        "def local(x):\n",
        "    y = 10 # Переменная y - локальная\n",
        "    print(x, y)"
      ]
    },
    {
      "cell_type": "code",
      "execution_count": null,
      "metadata": {
        "id": "ud4zDr-K4555"
      },
      "outputs": [],
      "source": [
        "local(5) "
      ]
    },
    {
      "cell_type": "code",
      "execution_count": null,
      "metadata": {
        "id": "MbOml9fV4556"
      },
      "outputs": [],
      "source": [
        "y # Если попытаться ее вывести за пределами функции - выведется глобальная переменная с этим же именем"
      ]
    },
    {
      "cell_type": "markdown",
      "metadata": {
        "id": "Gt70wDkZ4556"
      },
      "source": [
        "**Глобальная область видимости и глобальные переменные**:\n",
        "\n",
        "Если переменные определяются за пределами всех инструкций def, они являются глобальными для всего файла."
      ]
    },
    {
      "cell_type": "code",
      "execution_count": null,
      "metadata": {
        "id": "eEnvVj2S4556"
      },
      "outputs": [],
      "source": [
        "z = 15\n",
        "def local(x):\n",
        "    y = 10\n",
        "    print(x, y, z)\n",
        "local(5)"
      ]
    },
    {
      "cell_type": "markdown",
      "metadata": {
        "id": "38g-nwlF4556"
      },
      "source": [
        "### Функция как объект"
      ]
    },
    {
      "cell_type": "markdown",
      "metadata": {
        "id": "BFq8T6XF4556"
      },
      "source": [
        "**Объектно-ориентированное программирование (ООП)** — парадигма программирования, в которой основными концепциями являются понятия объектов и классов.\n",
        "\n",
        "**Класс** — тип, описывающий устройство объектов. **Объект** — это экземпляр класса. Класс можно сравнить с чертежом, по которому создаются объекты.\n",
        "\n",
        "Python соответствует принципам объектно-ориентированного программирования. В python всё является объектами - и строки, и списки, и словари, и всё остальное."
      ]
    },
    {
      "cell_type": "code",
      "execution_count": null,
      "metadata": {
        "id": "5-IRYLnX4557"
      },
      "outputs": [],
      "source": [
        "def mult(x):\n",
        "    return x ** 2"
      ]
    },
    {
      "cell_type": "code",
      "execution_count": null,
      "metadata": {
        "id": "vHt3ZGc-4557"
      },
      "outputs": [],
      "source": [
        "?mult"
      ]
    },
    {
      "cell_type": "code",
      "execution_count": null,
      "metadata": {
        "id": "ZaNY-cK74557"
      },
      "outputs": [],
      "source": [
        "a = mult # Переменная a - ссылка на функцию"
      ]
    },
    {
      "cell_type": "code",
      "execution_count": null,
      "metadata": {
        "id": "3253d-KG4557"
      },
      "outputs": [],
      "source": [
        "a(4)"
      ]
    },
    {
      "cell_type": "code",
      "execution_count": null,
      "metadata": {
        "id": "gvENVJjv4557"
      },
      "outputs": [],
      "source": [
        "mult(4)"
      ]
    },
    {
      "cell_type": "code",
      "execution_count": null,
      "metadata": {
        "id": "OGuLbXT_4558"
      },
      "outputs": [],
      "source": [
        "type(a)"
      ]
    },
    {
      "cell_type": "code",
      "execution_count": null,
      "metadata": {
        "id": "ZqKBTcXw4558"
      },
      "outputs": [],
      "source": [
        "a"
      ]
    },
    {
      "cell_type": "code",
      "execution_count": null,
      "metadata": {
        "id": "oYp64XLt4558"
      },
      "outputs": [],
      "source": [
        "b = a"
      ]
    },
    {
      "cell_type": "code",
      "execution_count": null,
      "metadata": {
        "id": "52TNMFnD4558"
      },
      "outputs": [],
      "source": [
        "b(4)"
      ]
    },
    {
      "cell_type": "markdown",
      "metadata": {
        "id": "Bfo0FF1C4558"
      },
      "source": [
        "### lambda - функции"
      ]
    },
    {
      "cell_type": "markdown",
      "metadata": {
        "id": "n8A2W8eJ4558"
      },
      "source": [
        "**Лямбда-функции** — это особый синтаксис для создания функций. Они могут содержать лишь одно выражение и автоматически возвращают его результат.\n",
        "\n",
        "Лямбда-функции называются также **анонимными функциями**."
      ]
    },
    {
      "cell_type": "code",
      "execution_count": null,
      "metadata": {
        "id": "xy911w3D4558"
      },
      "outputs": [],
      "source": [
        "?func"
      ]
    },
    {
      "cell_type": "code",
      "execution_count": null,
      "metadata": {
        "id": "RE-U9JnC4559"
      },
      "outputs": [],
      "source": [
        "def func(x):\n",
        "    return x ** 2"
      ]
    },
    {
      "cell_type": "code",
      "execution_count": null,
      "metadata": {
        "id": "XbOZVFtf4559"
      },
      "outputs": [],
      "source": [
        "func(4)"
      ]
    },
    {
      "cell_type": "code",
      "execution_count": null,
      "metadata": {
        "id": "4LktOekd4559"
      },
      "outputs": [],
      "source": [
        "lambda x: x ** 2"
      ]
    },
    {
      "cell_type": "code",
      "execution_count": null,
      "metadata": {
        "id": "XBjab4Ox4559"
      },
      "outputs": [],
      "source": [
        "f = lambda x: x ** 2 "
      ]
    },
    {
      "cell_type": "code",
      "execution_count": null,
      "metadata": {
        "id": "bymY2ULk4559"
      },
      "outputs": [],
      "source": [
        "f"
      ]
    },
    {
      "cell_type": "code",
      "execution_count": null,
      "metadata": {
        "id": "hPHkMC2F455-"
      },
      "outputs": [],
      "source": [
        "f(4)"
      ]
    },
    {
      "cell_type": "markdown",
      "metadata": {
        "id": "N0SmYLBp455-"
      },
      "source": [
        "<font color='blue'>**Задание 6.**</font>\n",
        "\n",
        "1. Задайте глобальную переменную n равную 3.\n",
        "2. Напишите lambda-функцию, которая вычисляет корень кубический из числа и возвращает его округленным до n знака (обязательно введите в расчет функции глобальную переменную)."
      ]
    },
    {
      "cell_type": "markdown",
      "metadata": {
        "id": "LBkOcHQx455-"
      },
      "source": [
        "### Аргументы функции"
      ]
    },
    {
      "cell_type": "markdown",
      "metadata": {
        "id": "1rZUGVHJ455-"
      },
      "source": [
        "Пара слов об аргументах функций:\n",
        "\n",
        "Аргументы бывают **именованные** (задано имя аргумента) или **позиционные** (имя аргумента не задано).\n",
        "При вызове функции именованные аргументы обязаны следовать после позиционных."
      ]
    },
    {
      "cell_type": "markdown",
      "metadata": {
        "id": "lrersDTF455_"
      },
      "source": [
        "Рассмотрим пример: <br>\n",
        "Аргументы метода .read_csv для считывания csv-файлов из библиотеки Pandas:"
      ]
    },
    {
      "cell_type": "code",
      "execution_count": null,
      "metadata": {
        "id": "72r-zoZw455_"
      },
      "outputs": [],
      "source": [
        "# Код мы закомментировали, так как никакого файла data.csv у нас на самом деле нет\n",
        "import pandas as pd # Здесь мы загружем нужную библиотеку\n",
        "pd.read_csv('data.csv', sep = ';', index_col = 'index') # Здесь применяем метод для чтения csv-файлов\n",
        "# Позиционный аргумент: 'data.csv'\n",
        "# Именованные аргументы sep = ';' (имя аргумента - sep), index_col = 'index' (имя аргумента - index)"
      ]
    },
    {
      "cell_type": "markdown",
      "metadata": {
        "id": "aOlde00X455_"
      },
      "source": [
        "**Произвольное число позиционных аргументов функции:**"
      ]
    },
    {
      "cell_type": "code",
      "execution_count": null,
      "metadata": {
        "id": "fqKD9zMJ455_"
      },
      "outputs": [],
      "source": [
        "def average(*args):\n",
        "    summ = 0\n",
        "    for arg in args:\n",
        "        summ += arg\n",
        "    return summ / len(args)"
      ]
    },
    {
      "cell_type": "code",
      "execution_count": null,
      "metadata": {
        "id": "EujkrDR7455_"
      },
      "outputs": [],
      "source": [
        "average(1, 2, 3, 4)"
      ]
    },
    {
      "cell_type": "code",
      "execution_count": null,
      "metadata": {
        "id": "womMRX3o455_"
      },
      "outputs": [],
      "source": [
        "average(1, 3)"
      ]
    },
    {
      "cell_type": "markdown",
      "metadata": {
        "id": "Nyv4RBtk456A"
      },
      "source": [
        "**Произвольное число именованных аргументов функции:**"
      ]
    },
    {
      "cell_type": "code",
      "execution_count": null,
      "metadata": {
        "id": "MG0Pb-5S456A"
      },
      "outputs": [],
      "source": [
        "def argum(**kwargs):\n",
        "    return kwargs"
      ]
    },
    {
      "cell_type": "code",
      "execution_count": null,
      "metadata": {
        "scrolled": true,
        "id": "-cmUzY6A456A"
      },
      "outputs": [],
      "source": [
        "argum(a = 2, b = 3, c = 'привет')"
      ]
    },
    {
      "cell_type": "code",
      "execution_count": null,
      "metadata": {
        "id": "AEbVSB6i456A"
      },
      "outputs": [],
      "source": [
        "dict_1 = {'a': 2, 'b': 3, 'c': 'привет'}"
      ]
    },
    {
      "cell_type": "code",
      "execution_count": null,
      "metadata": {
        "id": "uU3S9qhp456A"
      },
      "outputs": [],
      "source": [
        "argum(**dict_1)"
      ]
    },
    {
      "cell_type": "code",
      "execution_count": null,
      "metadata": {
        "scrolled": false,
        "id": "6NzEbEUW456B"
      },
      "outputs": [],
      "source": [
        "def print_info(**kwargs):\n",
        "    print('Hello {} {}. You status is {}. And you have is {} bonus'\n",
        "          .format(kwargs['name'], kwargs['surname'], kwargs['status'], kwargs['bonus']))"
      ]
    },
    {
      "cell_type": "code",
      "execution_count": null,
      "metadata": {
        "id": "rI9VaqxG456B"
      },
      "outputs": [],
      "source": [
        "print_info(name = 'Vasya', surname = 'Ivanov', status = 'silver', bonus = 150, dsfsfdsfd = 'xgfdfdf')"
      ]
    },
    {
      "cell_type": "markdown",
      "metadata": {
        "id": "u4TDuzQn456B"
      },
      "source": [
        "**Значения аргументов по умолчанию**"
      ]
    },
    {
      "cell_type": "code",
      "execution_count": null,
      "metadata": {
        "scrolled": true,
        "id": "zYimKwyH456B"
      },
      "outputs": [],
      "source": [
        "def Welcome(name = 'Incognito'):\n",
        "    print('Hello, %s'%(name)) # 'Hello, {}'.format(name)"
      ]
    },
    {
      "cell_type": "code",
      "execution_count": null,
      "metadata": {
        "id": "f_sHhtlQ456B"
      },
      "outputs": [],
      "source": [
        "Welcome()"
      ]
    },
    {
      "cell_type": "code",
      "execution_count": null,
      "metadata": {
        "id": "oaUSkw3k456C"
      },
      "outputs": [],
      "source": [
        "Welcome('Alena')"
      ]
    },
    {
      "cell_type": "markdown",
      "metadata": {
        "id": "P6enal6L456C"
      },
      "source": [
        "### Встроенные функции (часть 2)"
      ]
    },
    {
      "cell_type": "code",
      "execution_count": null,
      "metadata": {
        "id": "HnJqKWRN456C"
      },
      "outputs": [],
      "source": [
        "list_1 = [1, 2, 3]"
      ]
    },
    {
      "cell_type": "code",
      "execution_count": null,
      "metadata": {
        "id": "5XJl_LHn456D"
      },
      "outputs": [],
      "source": [
        "list_1"
      ]
    },
    {
      "cell_type": "code",
      "execution_count": null,
      "metadata": {
        "id": "4-RQrK3q456D"
      },
      "outputs": [],
      "source": [
        "type(list_1)"
      ]
    },
    {
      "cell_type": "code",
      "execution_count": null,
      "metadata": {
        "id": "VUmCSRns456E"
      },
      "outputs": [],
      "source": [
        "list_1.append(4)"
      ]
    },
    {
      "cell_type": "code",
      "execution_count": null,
      "metadata": {
        "id": "bkR2qbG9456E"
      },
      "outputs": [],
      "source": [
        "list_1"
      ]
    },
    {
      "cell_type": "code",
      "execution_count": null,
      "metadata": {
        "id": "twMIV8yK456E"
      },
      "outputs": [],
      "source": [
        "tuple_1 = (1, 2, 3)"
      ]
    },
    {
      "cell_type": "code",
      "execution_count": null,
      "metadata": {
        "id": "fxjyAR7g456E"
      },
      "outputs": [],
      "source": [
        "tuple_1"
      ]
    },
    {
      "cell_type": "code",
      "execution_count": null,
      "metadata": {
        "id": "-RmO5CvA456E"
      },
      "outputs": [],
      "source": [
        "type(tuple_1)"
      ]
    },
    {
      "cell_type": "code",
      "execution_count": null,
      "metadata": {
        "id": "tyKegiIo456F"
      },
      "outputs": [],
      "source": [
        "tuple_1.append(1)"
      ]
    },
    {
      "cell_type": "code",
      "execution_count": null,
      "metadata": {
        "id": "nAs30RCy456F"
      },
      "outputs": [],
      "source": [
        "# Функция zip() объединяет в кортежи элементы из последовательностей переданных в качестве аргументов\n",
        "a = [1, 2]\n",
        "b = [3, 4]\n",
        "zip(a, b)"
      ]
    },
    {
      "cell_type": "code",
      "execution_count": null,
      "metadata": {
        "id": "uVsLMMtt456F"
      },
      "outputs": [],
      "source": [
        "list(zip(a, b))"
      ]
    },
    {
      "cell_type": "code",
      "execution_count": null,
      "metadata": {
        "id": "Jf55rB7S456F"
      },
      "outputs": [],
      "source": [
        "# zip() прекращает выполнение, как только достигнут конец самого короткого списка\n",
        "a = [1, 2, 3]\n",
        "b = [3, 4]\n",
        "c = [5, 6, 0]\n",
        "print(list(zip(a, b, c)))"
      ]
    },
    {
      "cell_type": "code",
      "execution_count": null,
      "metadata": {
        "id": "0ABuXHt0456F"
      },
      "outputs": [],
      "source": [
        "# С помощью функции zip() можно выполнять цикл по нескольким спискам\n",
        "a = [1, 3, 5]\n",
        "b = [2, 4, 6]\n",
        "for i, j in zip(a, b):\n",
        "    print (i + j)"
      ]
    },
    {
      "cell_type": "code",
      "execution_count": null,
      "metadata": {
        "id": "rH2JQa6r456G"
      },
      "outputs": [],
      "source": [
        "# В Python функция map принимает два аргумента: функцию и аргумент составного типа данных, например, список \n",
        "# map() применяет к каждому элементу списка переданную функцию.\n",
        "list(map(lambda x: x ** 2, [1, 3, 4, 5, -6]))"
      ]
    },
    {
      "cell_type": "code",
      "execution_count": null,
      "metadata": {
        "id": "dBUxD-0U456G"
      },
      "outputs": [],
      "source": [
        "map(lambda x: x ** 2, [1, 3, 4, 5, -6])"
      ]
    },
    {
      "cell_type": "code",
      "execution_count": null,
      "metadata": {
        "id": "EBqQJphn456G"
      },
      "outputs": [],
      "source": [
        "# Функция filter() предназначена для фильтрации элементов последовательности \n",
        "# Принимает в качестве аргументов функцию и последовательность, которую необходимо отфильтровать:\n",
        "list(filter(lambda x: x > 5, [2, 3, 10, -4, 8, 12]))"
      ]
    },
    {
      "cell_type": "code",
      "execution_count": null,
      "metadata": {
        "scrolled": true,
        "id": "57VL7Avy456G"
      },
      "outputs": [],
      "source": [
        "list(filter(len, [' ', 'not', 'bla-bla', '', '10']))"
      ]
    },
    {
      "cell_type": "code",
      "execution_count": null,
      "metadata": {
        "id": "o_fzZKnU456G"
      },
      "outputs": [],
      "source": [
        "len('')"
      ]
    },
    {
      "cell_type": "code",
      "execution_count": null,
      "metadata": {
        "id": "OogJES-j456H"
      },
      "outputs": [],
      "source": [
        "# Функция enumerate() возвращает итератор, \n",
        "# при каждом проходе предоставляющем кортеж из номера и соответствующего члена последовательности\n",
        "list(enumerate(['a', 'b', 'c'], 2))"
      ]
    },
    {
      "cell_type": "markdown",
      "metadata": {
        "id": "wrkSN8Rf456H"
      },
      "source": [
        "<font color='blue'>**Задание 7.**</font>\n",
        "\n",
        "1. Сделать два списка, один от 1 до 100, второй из 100 повторяющихся значений '92', '95'\n",
        "2. Скрепить оба списка с помощью zip, вывести значения с помощью print\n",
        "3. Написать функцию (использую lambda и filter), которая из списка [1,3,4,5,6,7,13,12,19,17,23] выберет только те, у которых остаток от деления на 3 равен 2"
      ]
    },
    {
      "cell_type": "code",
      "execution_count": null,
      "metadata": {
        "id": "1uT7NAxu456H"
      },
      "outputs": [],
      "source": [
        "#['92', '95'] * 50"
      ]
    },
    {
      "cell_type": "code",
      "execution_count": null,
      "metadata": {
        "id": "A0ta9ezs456H"
      },
      "outputs": [],
      "source": [
        "# %load hw02.py"
      ]
    },
    {
      "cell_type": "markdown",
      "source": [
        "**Задание №1**"
      ],
      "metadata": {
        "id": "A-75BqQFkyXW"
      }
    },
    {
      "cell_type": "code",
      "source": [
        "a=125365775\n",
        "for i in str(a):\n",
        "    print (i)"
      ],
      "metadata": {
        "id": "WZXEQVYKk-93",
        "outputId": "d196d424-95d2-4e9a-ad35-d40a90312238",
        "colab": {
          "base_uri": "https://localhost:8080/"
        }
      },
      "execution_count": null,
      "outputs": [
        {
          "output_type": "stream",
          "name": "stdout",
          "text": [
            "1\n",
            "2\n",
            "5\n",
            "3\n",
            "6\n",
            "5\n",
            "7\n",
            "7\n",
            "5\n"
          ]
        }
      ]
    },
    {
      "cell_type": "markdown",
      "source": [
        "**Задание №2**"
      ],
      "metadata": {
        "id": "C5nTlaYGlhru"
      }
    },
    {
      "cell_type": "code",
      "source": [
        "spisok = (\"яблоко\", \"банан\", \"киви\", \"арбуз\", 'груша')\n",
        "len_spisok=len(max(spisok))\n",
        "n=0\n",
        "for i in spisok:\n",
        "    n=n+1\n",
        "    if len(i)<len_spisok:\n",
        "        while len(i)<len_spisok:\n",
        "            i=' ' + i\n",
        "    print('{}. {}'.format(n,i))\n"
      ],
      "metadata": {
        "id": "zAPezwOPqVuc",
        "outputId": "635ba378-1ac2-46f1-efde-c75a5dc13b22",
        "colab": {
          "base_uri": "https://localhost:8080/"
        }
      },
      "execution_count": null,
      "outputs": [
        {
          "output_type": "stream",
          "name": "stdout",
          "text": [
            "1. яблоко\n",
            "2.  банан\n",
            "3.   киви\n",
            "4.  арбуз\n",
            "5.  груша\n"
          ]
        }
      ]
    },
    {
      "cell_type": "markdown",
      "source": [
        "**Задание №3**"
      ],
      "metadata": {
        "id": "8ppwae5IliTr"
      }
    },
    {
      "cell_type": "code",
      "source": [
        "spisok1 = [1,2,3,4,5,6,7,55,45,77]\n",
        "spisok2 = [3,4,5,6,7,8,9,45]\n",
        "spisok3 = []\n",
        "for i in spisok1:\n",
        "    if i in spisok2:\n",
        "        spisok3.append(i)\n",
        "for i in spisok3:\n",
        "    spisok1.remove(i)\n",
        "print ('Откорректированный 1-ый список: ')\n",
        "print (*spisok1, sep=\", \")\n",
        "    "
      ],
      "metadata": {
        "id": "NbdOkID_w6Lx",
        "outputId": "e37f2ef5-5167-4aac-de87-c54149027e72",
        "colab": {
          "base_uri": "https://localhost:8080/"
        }
      },
      "execution_count": null,
      "outputs": [
        {
          "output_type": "stream",
          "name": "stdout",
          "text": [
            "Откорректированный 1-ый список: \n",
            "1, 2, 55, 77\n"
          ]
        }
      ]
    },
    {
      "cell_type": "markdown",
      "source": [
        "**Задание №4**"
      ],
      "metadata": {
        "id": "IF4Q-LEKlioe"
      }
    },
    {
      "cell_type": "code",
      "source": [
        "spisok1 = [1,2,3,4,5,6,7,54,45,77]\n",
        "spisok2 = []\n",
        "for i in spisok1:\n",
        "    if i%2==0:\n",
        "        spisok2.append(i/4)\n",
        "    else:\n",
        "        spisok2.append(i*2)\n",
        "print ('Новый список: ')\n",
        "print(*spisok2, sep=\", \")\n",
        "\n",
        "\n",
        "        \n"
      ],
      "metadata": {
        "id": "jHBEYRh_63Q6",
        "outputId": "3b1dc34d-97a0-4f12-d535-7f0f077f4857",
        "colab": {
          "base_uri": "https://localhost:8080/"
        }
      },
      "execution_count": null,
      "outputs": [
        {
          "output_type": "stream",
          "name": "stdout",
          "text": [
            "Новый список: \n",
            "2, 0.5, 6, 1.0, 10, 1.5, 14, 13.5, 90, 154\n"
          ]
        }
      ]
    },
    {
      "cell_type": "markdown",
      "source": [
        "**Задание №5**"
      ],
      "metadata": {
        "id": "ytJxZx8Ylivb"
      }
    },
    {
      "cell_type": "code",
      "source": [
        "chislo = str((input ('введите число - ')))\n",
        "znak = int(input('введите кол-во знаков после запятой - '))\n",
        "\n",
        "schetchik = -1\n",
        "okr_chislo = str('')\n",
        "for i in chislo:\n",
        "    \n",
        "    if i=='.' or i==',':                  # ищем точку/запятую\n",
        "        if znak == 0:\n",
        "            break \n",
        "        if i==',':                        # на случай, если пользователь введет ',' вместо '.'\n",
        "          i='.'\n",
        "        okr_chislo = okr_chislo + i\n",
        "        schetchik = schetchik + 1\n",
        "    else:\n",
        "        if schetchik > (-1):\n",
        "            schetchik = schetchik + 1\n",
        "        if schetchik == znak:\n",
        "            okr_chislo = okr_chislo + i\n",
        "            break   \n",
        "        else:\n",
        "            okr_chislo = okr_chislo + i\n",
        "\n",
        "\n",
        "list1 = list(okr_chislo)                   # Округление по математическим правилам\n",
        "poz=(len(list1))-1\n",
        "x = list1[poz]\n",
        "\n",
        "if float(x) != 9:                           #  устраняем возможную ошибку (при ведении например \"5.889\" и \"2\" программа не округлит число и выдаст до 5.99)\n",
        "    if float(x) >= 5 and len(list1) != (znak + schetchik):    # второй частью строки устраняем возможную ошибку (без нее при введении например \"5.55\" и \"2\" программа ошибочно округлит число до 5.56)\n",
        "        list1.pop()\n",
        "        list1.insert(poz, (int(x)+1))\n",
        "    list1 = ''.join(map(str, list1))\n",
        "else: \n",
        "    x = 0\n",
        "    w = int(list1[-2])+1\n",
        "    list1.pop(-2)\n",
        "    list1.insert(-2, w)\n",
        "\n",
        "\n",
        "okr_chislo = float (list1)                 # Вывод результата\n",
        "print ('Округленное число: ', okr_chislo)\n",
        "\n",
        "# Не работает блок округления"
      ],
      "metadata": {
        "id": "5cFcbA3kCwOD",
        "outputId": "c57a030f-2cf2-48c7-d562-e87f30d80a61",
        "colab": {
          "base_uri": "https://localhost:8080/"
        }
      },
      "execution_count": null,
      "outputs": [
        {
          "output_type": "stream",
          "name": "stdout",
          "text": [
            "введите число - 5.6565\n",
            "введите кол-во знаков после запятой - 2\n",
            "Округленное число:  5.65\n"
          ]
        }
      ]
    },
    {
      "cell_type": "code",
      "source": [
        "chislo = str((input ('введите число - ')))\n",
        "znak = int(input('введите кол-во знаков после запятой - '))\n",
        "\n",
        "schetchik = -1\n",
        "okr_chislo = str('')\n",
        "for i in chislo:\n",
        "    \n",
        "    if i=='.' or i==',':                  # ищем точку/запятую\n",
        "        if znak == 0:\n",
        "            break \n",
        "        if i==',':                        # на случай если пользователь введет ',' вместо '.'\n",
        "          i='.'\n",
        "        okr_chislo = okr_chislo + i\n",
        "        schetchik = schetchik + 1\n",
        "    else:\n",
        "        if schetchik > (-1):\n",
        "            schetchik = schetchik + 1\n",
        "        if schetchik == znak:\n",
        "            okr_chislo = okr_chislo + i\n",
        "            break   \n",
        "        else:\n",
        "            okr_chislo = okr_chislo + i\n",
        "\n",
        "\n",
        "list1 = list(okr_chislo)                   # Округление по математическим правилам\n",
        "poz=(len(list1))-1\n",
        "x = list1[poz]\n",
        "\n",
        "\n",
        "if float(x) >= 5 and len(list1) != (znak + schetchik):    # второй частью строки устраняем ошибку (без нее при введении например \"5.55\" и \"2\" программа ошибочно округлит число до 5.56)\n",
        "    list1.pop()\n",
        "    list1.insert(poz, (int(x)+1))\n",
        "list1 = ''.join(map(str, list1))\n",
        "\n",
        "\n",
        "\n",
        "okr_chislo = float (list1)                 # Вывод результата\n",
        "print ('Округленное число: ', okr_chislo)\n"
      ],
      "metadata": {
        "id": "6yfwu_Cl7sIK"
      },
      "execution_count": null,
      "outputs": []
    },
    {
      "cell_type": "markdown",
      "source": [
        "**Задание №6**"
      ],
      "metadata": {
        "id": "7jJOfaK8lizS"
      }
    },
    {
      "cell_type": "code",
      "source": [
        "# Вариант 1:\n",
        "\n",
        "x = str(58375)\n",
        "listx=list(x)\n",
        "print (max(listx))"
      ],
      "metadata": {
        "id": "51OffDWeNZRq",
        "outputId": "950d50d4-c6a8-4ca4-d8b5-2b69b770ae7b",
        "colab": {
          "base_uri": "https://localhost:8080/"
        }
      },
      "execution_count": 2,
      "outputs": [
        {
          "output_type": "stream",
          "name": "stdout",
          "text": [
            "8\n"
          ]
        }
      ]
    },
    {
      "cell_type": "code",
      "source": [
        "# Вариант 2:\n",
        "\n",
        "x = str(58375)\n",
        "listx=list(x)\n",
        "listx.sort()\n",
        "print (listx[-1])"
      ],
      "metadata": {
        "id": "tlaaxxeROCFY",
        "outputId": "c624b9df-8ca5-4ae0-c318-a92379be0413",
        "colab": {
          "base_uri": "https://localhost:8080/"
        }
      },
      "execution_count": 4,
      "outputs": [
        {
          "output_type": "stream",
          "name": "stdout",
          "text": [
            "8\n"
          ]
        }
      ]
    },
    {
      "cell_type": "code",
      "source": [
        "# Вариант 3:\n",
        "\n",
        "x = str(58375)\n",
        "listx=list(x)\n",
        "n = 0\n",
        "for i in listx:\n",
        "    if int(i) > int(n):\n",
        "        n=i\n",
        "print (n)"
      ],
      "metadata": {
        "id": "JniDkdSmOYge",
        "outputId": "bd0ab9e5-5caa-4121-ccea-7c6fd55e3197",
        "colab": {
          "base_uri": "https://localhost:8080/"
        }
      },
      "execution_count": 10,
      "outputs": [
        {
          "output_type": "stream",
          "name": "stdout",
          "text": [
            "8\n"
          ]
        }
      ]
    },
    {
      "cell_type": "markdown",
      "source": [
        "**Задание №7**"
      ],
      "metadata": {
        "id": "XHZx-xFSli2u"
      }
    },
    {
      "cell_type": "code",
      "source": [
        "def sqr(a): \n",
        "    if a > 0:\n",
        "        b = a**0.5\n",
        "        c = int(b)\n",
        "        if b % c == 0:\n",
        "            return b\n",
        "        else:\n",
        "            b = 0\n",
        "            return b\n",
        "    else:\n",
        "        b = 0\n",
        "        return b\n",
        "        \n",
        "list7 = [2, -5, 8, 9, -25, 25, 4]\n",
        "listn = []\n",
        "\n",
        "for i in list7:\n",
        "    ch = sqr(i)\n",
        "    if ch != 0:\n",
        "        listn.append(int(ch))\n",
        "\n",
        "print(listn)\n"
      ],
      "metadata": {
        "id": "VaAcYuTJPQBy",
        "outputId": "4087d373-3399-47ad-d5e1-21fdfcef41e2",
        "colab": {
          "base_uri": "https://localhost:8080/"
        }
      },
      "execution_count": 29,
      "outputs": [
        {
          "output_type": "stream",
          "name": "stdout",
          "text": [
            "[3, 5, 2]\n"
          ]
        }
      ]
    },
    {
      "cell_type": "markdown",
      "source": [
        "**Задание №8**"
      ],
      "metadata": {
        "id": "xnJLuOH0li5v"
      }
    },
    {
      "cell_type": "code",
      "source": [
        "import random\n",
        "\n",
        "el = int(input('Введите количество элементов: '))\n",
        "list8 = []\n",
        "sh = 1\n",
        "while sh <=el:\n",
        "    sh = sh + 1\n",
        "    x = random.randint(-100, 100)\n",
        "    list8.append(x)\n",
        "print ('Список элементов: ', list8)\n"
      ],
      "metadata": {
        "id": "iklcPX-kW4MR",
        "outputId": "75156266-823c-4781-b7fd-c5d8cb953202",
        "colab": {
          "base_uri": "https://localhost:8080/"
        }
      },
      "execution_count": 17,
      "outputs": [
        {
          "output_type": "stream",
          "name": "stdout",
          "text": [
            "Введите количество элементов: 7\n",
            "Список элементов:  [75, -32, 59, -98, 18, -94, -20]\n"
          ]
        }
      ]
    },
    {
      "cell_type": "markdown",
      "source": [
        "**Задание №9**"
      ],
      "metadata": {
        "id": "5ADioV1kli9Q"
      }
    },
    {
      "cell_type": "code",
      "source": [
        "lst = [1, 2, 4, 5, 6, 2, 5, 2, 2, 2]\n",
        "lst2 = list()\n",
        "lst3 = list()\n",
        "for i in lst:\n",
        "    if i in lst2:\n",
        "        lst2.remove(i)\n",
        "        lst3.append(i)\n",
        "    else:\n",
        "        if i in lst3:\n",
        "            a=0\n",
        "        else:\n",
        "            lst2.append(i)\n",
        "\n",
        "print(lst2)"
      ],
      "metadata": {
        "id": "zOYIuuVEHlYK",
        "outputId": "50fc1409-404a-474f-fd82-080a2adc2a57",
        "colab": {
          "base_uri": "https://localhost:8080/"
        }
      },
      "execution_count": 37,
      "outputs": [
        {
          "output_type": "stream",
          "name": "stdout",
          "text": [
            "[1, 4, 6]\n"
          ]
        }
      ]
    },
    {
      "cell_type": "markdown",
      "source": [
        "**Задание №10**"
      ],
      "metadata": {
        "id": "v8CeXqP1ljB4"
      }
    }
  ],
  "metadata": {
    "kernelspec": {
      "display_name": "Python 3",
      "language": "python",
      "name": "python3"
    },
    "language_info": {
      "codemirror_mode": {
        "name": "ipython",
        "version": 3
      },
      "file_extension": ".py",
      "mimetype": "text/x-python",
      "name": "python",
      "nbconvert_exporter": "python",
      "pygments_lexer": "ipython3",
      "version": "3.7.6"
    },
    "colab": {
      "name": "02_Циклы._Функции.ipynb",
      "provenance": []
    }
  },
  "nbformat": 4,
  "nbformat_minor": 0
}