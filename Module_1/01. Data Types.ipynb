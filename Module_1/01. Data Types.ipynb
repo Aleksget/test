{
 "cells": [
  {
   "cell_type": "markdown",
   "metadata": {},
   "source": [
    "## Основные типы данных"
   ]
  },
  {
   "cell_type": "markdown",
   "metadata": {},
   "source": [
    "##### Целочисленный тип данных и числа с плавающей точкой"
   ]
  },
  {
   "cell_type": "code",
   "execution_count": 101,
   "metadata": {},
   "outputs": [],
   "source": [
    "year = 2019"
   ]
  },
  {
   "cell_type": "markdown",
   "metadata": {},
   "source": [
    "<div class=\"alert alert-warning\">\n",
    "    <b>Name binding</b>\n",
    "    <ul>\n",
    "    <li>`имя_переменной = выражение`</li>\n",
    "    </ul>\n",
    "</div>"
   ]
  },
  {
   "cell_type": "code",
   "execution_count": 102,
   "metadata": {},
   "outputs": [
    {
     "data": {
      "text/plain": [
       "int"
      ]
     },
     "execution_count": 102,
     "metadata": {},
     "output_type": "execute_result"
    }
   ],
   "source": [
    "type(year)"
   ]
  },
  {
   "cell_type": "code",
   "execution_count": 103,
   "metadata": {},
   "outputs": [
    {
     "data": {
      "text/plain": [
       "int"
      ]
     },
     "execution_count": 103,
     "metadata": {},
     "output_type": "execute_result"
    }
   ],
   "source": [
    "type(2019)"
   ]
  },
  {
   "cell_type": "code",
   "execution_count": 104,
   "metadata": {},
   "outputs": [
    {
     "data": {
      "text/plain": [
       "737439.75"
      ]
     },
     "execution_count": 104,
     "metadata": {},
     "output_type": "execute_result"
    }
   ],
   "source": [
    "year * 365.25"
   ]
  },
  {
   "cell_type": "code",
   "execution_count": 105,
   "metadata": {},
   "outputs": [
    {
     "data": {
      "text/plain": [
       "24228"
      ]
     },
     "execution_count": 105,
     "metadata": {},
     "output_type": "execute_result"
    }
   ],
   "source": [
    "year * 12"
   ]
  },
  {
   "cell_type": "code",
   "execution_count": 106,
   "metadata": {},
   "outputs": [
    {
     "data": {
      "text/plain": [
       "20.19"
      ]
     },
     "execution_count": 106,
     "metadata": {},
     "output_type": "execute_result"
    }
   ],
   "source": [
    "year / 100"
   ]
  },
  {
   "cell_type": "code",
   "execution_count": 107,
   "metadata": {},
   "outputs": [
    {
     "data": {
      "text/plain": [
       "20"
      ]
     },
     "execution_count": 107,
     "metadata": {},
     "output_type": "execute_result"
    }
   ],
   "source": [
    "year // 100"
   ]
  },
  {
   "cell_type": "code",
   "execution_count": 108,
   "metadata": {},
   "outputs": [
    {
     "data": {
      "text/plain": [
       "19"
      ]
     },
     "execution_count": 108,
     "metadata": {},
     "output_type": "execute_result"
    }
   ],
   "source": [
    "year % 100"
   ]
  },
  {
   "cell_type": "code",
   "execution_count": 109,
   "metadata": {},
   "outputs": [
    {
     "data": {
      "text/plain": [
       "2017.9999999999998"
      ]
     },
     "execution_count": 109,
     "metadata": {},
     "output_type": "execute_result"
    }
   ],
   "source": [
    "2.018 * 10**3"
   ]
  },
  {
   "cell_type": "code",
   "execution_count": 110,
   "metadata": {},
   "outputs": [
    {
     "data": {
      "text/plain": [
       "2018.0"
      ]
     },
     "execution_count": 110,
     "metadata": {},
     "output_type": "execute_result"
    }
   ],
   "source": [
    "2.018E3"
   ]
  },
  {
   "cell_type": "markdown",
   "metadata": {},
   "source": [
    "<div class=\"alert alert-warning\">\n",
    "    <b>Непонятная запись?</b>\n",
    "    <ul>\n",
    "      <li>Это так называемая компьютерная форма экспоненциальной записи чисел. Она удобна, если нужно уметь записывать очень большие или очень маленькие числа: `1.2E2` означает $1.2 \\times 10^2$, то есть $120$, а `2.4E-3` — то же самое, что $2.4 \\times 10^{-3}=0.0024$.</li>\n",
    "    </ul>\n",
    "</div>"
   ]
  },
  {
   "cell_type": "code",
   "execution_count": 111,
   "metadata": {},
   "outputs": [
    {
     "data": {
      "text/plain": [
       "0.9999999999999999"
      ]
     },
     "execution_count": 111,
     "metadata": {},
     "output_type": "execute_result"
    }
   ],
   "source": [
    "0.1 + 0.1 + 0.1 + 0.1 + 0.1 + 0.1 + 0.1 + 0.1 + 0.1 + 0.1"
   ]
  },
  {
   "cell_type": "markdown",
   "metadata": {},
   "source": [
    "<div class=\"alert alert-warning\">\n",
    "    <b>Почему не единица?</b>\n",
    "    <ul>\n",
    "      <li>$0.1 = \\frac{1}{10} = 0*2^{-1} + 0*2^{-2} + 0*2^{-3} + 1*2^{-4} + 1*2^{-5} + ... = 00011(0011)$</li>\n",
    "      <li>Все вычисления в вещественных числах делаются компьютером с некоторой ограниченной точностью (см. стандарт IEEE-754), поэтому зачастую вместо «честных» ответов получаются такие приближенные. К этому надо быть готовым.</li>\n",
    "    </ul>\n",
    "</div>"
   ]
  },
  {
   "cell_type": "markdown",
   "metadata": {},
   "source": [
    "##### Булевый тип"
   ]
  },
  {
   "cell_type": "code",
   "execution_count": 112,
   "metadata": {},
   "outputs": [],
   "source": [
    "to_be = True"
   ]
  },
  {
   "cell_type": "code",
   "execution_count": 113,
   "metadata": {},
   "outputs": [
    {
     "data": {
      "text/plain": [
       "True"
      ]
     },
     "execution_count": 113,
     "metadata": {},
     "output_type": "execute_result"
    }
   ],
   "source": [
    "to_be or not to_be"
   ]
  },
  {
   "cell_type": "code",
   "execution_count": 114,
   "metadata": {},
   "outputs": [],
   "source": [
    "is_leap = (year % 4 == 0 and year % 100 != 0) or (year % 400 == 0)"
   ]
  },
  {
   "cell_type": "code",
   "execution_count": 115,
   "metadata": {},
   "outputs": [
    {
     "data": {
      "text/plain": [
       "False"
      ]
     },
     "execution_count": 115,
     "metadata": {},
     "output_type": "execute_result"
    }
   ],
   "source": [
    "is_leap"
   ]
  },
  {
   "cell_type": "code",
   "execution_count": 116,
   "metadata": {},
   "outputs": [
    {
     "data": {
      "text/plain": [
       "True"
      ]
     },
     "execution_count": 116,
     "metadata": {},
     "output_type": "execute_result"
    }
   ],
   "source": [
    "True or это_называется_ленивые_вычисления_или_lazy_evaluation"
   ]
  },
  {
   "cell_type": "code",
   "execution_count": 117,
   "metadata": {},
   "outputs": [
    {
     "data": {
      "text/plain": [
       "True"
      ]
     },
     "execution_count": 117,
     "metadata": {},
     "output_type": "execute_result"
    }
   ],
   "source": [
    "isinstance(True, bool) and isinstance(True, int)"
   ]
  },
  {
   "cell_type": "markdown",
   "metadata": {},
   "source": [
    "##### Строки"
   ]
  },
  {
   "cell_type": "code",
   "execution_count": 118,
   "metadata": {},
   "outputs": [],
   "source": [
    "first_name = 'Marat'\n",
    "last_name = 'Bogdanov'\n",
    "email = 'bogdanov_marat@mail.ru'"
   ]
  },
  {
   "cell_type": "code",
   "execution_count": 119,
   "metadata": {},
   "outputs": [
    {
     "data": {
      "text/plain": [
       "'Marat Bogdanov'"
      ]
     },
     "execution_count": 119,
     "metadata": {},
     "output_type": "execute_result"
    }
   ],
   "source": [
    "full_name = first_name + ' ' + last_name\n",
    "full_name"
   ]
  },
  {
   "cell_type": "code",
   "execution_count": 120,
   "metadata": {},
   "outputs": [
    {
     "data": {
      "text/plain": [
       "'Marat Bogdanov'"
      ]
     },
     "execution_count": 120,
     "metadata": {},
     "output_type": "execute_result"
    }
   ],
   "source": [
    "full_name = ' '.join([first_name, last_name])\n",
    "full_name"
   ]
  },
  {
   "cell_type": "markdown",
   "metadata": {},
   "source": [
    "<div class=\"alert alert-warning\">\n",
    "    <b>В Python все является объектом</b>\n",
    "    <ul>\n",
    "      <li>Каждый объект предоставляет интерфейс (методы) взаимодействия с ним, а также хранит внутреннее состояние посредством переменных. Обращение к методам и перенным объекта (атрибутам) происходит через точку, например: `объект.метод(список аргументов)`. Чтобы посмотреть список доступных методов можно воспользоваться функцией `help` и передать в нее интересующий нас объект, например: `help(объект)`.</li>\n",
    "    </ul>\n",
    "</div>"
   ]
  },
  {
   "cell_type": "code",
   "execution_count": 121,
   "metadata": {},
   "outputs": [
    {
     "data": {
      "text/plain": [
       "14"
      ]
     },
     "execution_count": 121,
     "metadata": {},
     "output_type": "execute_result"
    }
   ],
   "source": [
    "len(full_name) # --> full_name.__len__()"
   ]
  },
  {
   "cell_type": "code",
   "execution_count": 122,
   "metadata": {},
   "outputs": [],
   "source": [
    "username, domain = email.split('@')"
   ]
  },
  {
   "cell_type": "code",
   "execution_count": 123,
   "metadata": {},
   "outputs": [
    {
     "data": {
      "text/plain": [
       "'bogdanov_marat'"
      ]
     },
     "execution_count": 123,
     "metadata": {},
     "output_type": "execute_result"
    }
   ],
   "source": [
    "username"
   ]
  },
  {
   "cell_type": "code",
   "execution_count": 124,
   "metadata": {},
   "outputs": [
    {
     "data": {
      "text/plain": [
       "'mail.ru'"
      ]
     },
     "execution_count": 124,
     "metadata": {},
     "output_type": "execute_result"
    }
   ],
   "source": [
    "domain"
   ]
  },
  {
   "cell_type": "code",
   "execution_count": 125,
   "metadata": {},
   "outputs": [
    {
     "data": {
      "text/plain": [
       "True"
      ]
     },
     "execution_count": 125,
     "metadata": {},
     "output_type": "execute_result"
    }
   ],
   "source": [
    "email.endswith('mail.ru')"
   ]
  },
  {
   "cell_type": "markdown",
   "metadata": {},
   "source": [
    "<img src=\"../images/hello.png\">"
   ]
  },
  {
   "cell_type": "code",
   "execution_count": 126,
   "metadata": {},
   "outputs": [
    {
     "data": {
      "text/plain": [
       "'M'"
      ]
     },
     "execution_count": 126,
     "metadata": {},
     "output_type": "execute_result"
    }
   ],
   "source": [
    "first_name[0]"
   ]
  },
  {
   "cell_type": "code",
   "execution_count": 127,
   "metadata": {},
   "outputs": [
    {
     "data": {
      "text/plain": [
       "'t'"
      ]
     },
     "execution_count": 127,
     "metadata": {},
     "output_type": "execute_result"
    }
   ],
   "source": [
    "first_name[-1]"
   ]
  },
  {
   "cell_type": "code",
   "execution_count": 128,
   "metadata": {},
   "outputs": [
    {
     "data": {
      "text/plain": [
       "'bogdanov_marat'"
      ]
     },
     "execution_count": 128,
     "metadata": {},
     "output_type": "execute_result"
    }
   ],
   "source": [
    "email[:email.index('@')]"
   ]
  },
  {
   "cell_type": "markdown",
   "metadata": {},
   "source": [
    "<div class=\"alert alert-warning\">\n",
    "    <b>Замечание про срезы</b>\n",
    "    <br><br>\n",
    "    `sequence[start:stop:step]`, где:\n",
    "    <ul>\n",
    "    <li>`sequence` - объект, который реализует Sequence протокол;</li>\n",
    "    <li>`start` - левая граница среза, может быть опущена, тогда принимается равной $0$;</li>\n",
    "    <li>`stop` - правая граница среза минус $1$, таким образом, правая граница не включается; может быть опущена, тогда принимается равной `len(sequence)`;</li>\n",
    "    <li>`step` - шаг, с которым перемещаемся по `sequence`, если не указан, то считается равным $1$.</li>\n",
    "    </ul>\n",
    "</div>"
   ]
  },
  {
   "cell_type": "markdown",
   "metadata": {},
   "source": [
    "##### Списки"
   ]
  },
  {
   "cell_type": "code",
   "execution_count": 129,
   "metadata": {},
   "outputs": [
    {
     "data": {
      "text/plain": [
       "[]"
      ]
     },
     "execution_count": 129,
     "metadata": {},
     "output_type": "execute_result"
    }
   ],
   "source": [
    "scores = []\n",
    "scores"
   ]
  },
  {
   "cell_type": "code",
   "execution_count": 130,
   "metadata": {},
   "outputs": [
    {
     "data": {
      "text/plain": [
       "[90.4, 83, 85, 72.3, 65, 84.5, 76, 80, 64.9, 61]"
      ]
     },
     "execution_count": 130,
     "metadata": {},
     "output_type": "execute_result"
    }
   ],
   "source": [
    "scores = [90.4, 83, 85, 72.3, 65, 84.5, 76, 80, 64.9, 61]\n",
    "scores"
   ]
  },
  {
   "cell_type": "markdown",
   "metadata": {},
   "source": [
    "<div class=\"alert alert-warning\">\n",
    "    <b>Эффективность работы со списками</b>\n",
    "    <br>\n",
    "    <ul>\n",
    "        <li>Если вы когда-нибудь изучали программирование и знаете, что такое «односвязный список» и «двусвязный список» — в этом месте можете про это временно забыть. Списки Python основаны на стандартных C'шных динамических массивах и обладают их свойствами с точки зрения сложности: в частности, обращение к элементу по его индексу имеет сложность $O(1)$, а поиск элемента имеет сложность $O(N)$.</li>\n",
    "    </ul>\n",
    "</div>"
   ]
  },
  {
   "cell_type": "code",
   "execution_count": 131,
   "metadata": {},
   "outputs": [
    {
     "data": {
      "text/plain": [
       "90.4"
      ]
     },
     "execution_count": 131,
     "metadata": {},
     "output_type": "execute_result"
    }
   ],
   "source": [
    "scores[0]"
   ]
  },
  {
   "cell_type": "code",
   "execution_count": 132,
   "metadata": {},
   "outputs": [
    {
     "data": {
      "text/plain": [
       "10"
      ]
     },
     "execution_count": 132,
     "metadata": {},
     "output_type": "execute_result"
    }
   ],
   "source": [
    "len(scores)"
   ]
  },
  {
   "cell_type": "code",
   "execution_count": 133,
   "metadata": {},
   "outputs": [
    {
     "data": {
      "text/plain": [
       "76.21000000000001"
      ]
     },
     "execution_count": 133,
     "metadata": {},
     "output_type": "execute_result"
    }
   ],
   "source": [
    "mean_score = sum(scores) / len(scores)\n",
    "mean_score"
   ]
  },
  {
   "cell_type": "code",
   "execution_count": 134,
   "metadata": {},
   "outputs": [
    {
     "data": {
      "text/plain": [
       "[90.4, 83, 85, 72.3, 65, 84.5, 76, 80, 64.9, 61, 90]"
      ]
     },
     "execution_count": 134,
     "metadata": {},
     "output_type": "execute_result"
    }
   ],
   "source": [
    "scores.append(90)\n",
    "scores"
   ]
  },
  {
   "cell_type": "code",
   "execution_count": 135,
   "metadata": {},
   "outputs": [
    {
     "data": {
      "text/plain": [
       "[90.4, 83, 85, 72.3, 65, 84.5, 76, 80, 64.9, 61, 90, 58, 91.5, 79]"
      ]
     },
     "execution_count": 135,
     "metadata": {},
     "output_type": "execute_result"
    }
   ],
   "source": [
    "scores.extend([58, 91.5, 79])\n",
    "scores"
   ]
  },
  {
   "cell_type": "code",
   "execution_count": 136,
   "metadata": {},
   "outputs": [
    {
     "data": {
      "text/plain": [
       "[90.4, 83, 85, 72.3, 65, 84.5, 76, 80, 64.9, 61, 90, 58, 91.5, 79]"
      ]
     },
     "execution_count": 136,
     "metadata": {},
     "output_type": "execute_result"
    }
   ],
   "source": [
    "scores_copy = scores.copy() # == scores[:] == list(scores)\n",
    "scores_copy"
   ]
  },
  {
   "cell_type": "code",
   "execution_count": 137,
   "metadata": {},
   "outputs": [
    {
     "data": {
      "text/plain": [
       "[91.5, 90.4, 90, 85, 84.5, 83, 80, 79, 76, 72.3, 65, 64.9, 61, 58]"
      ]
     },
     "execution_count": 137,
     "metadata": {},
     "output_type": "execute_result"
    }
   ],
   "source": [
    "sorted(scores, reverse=True)"
   ]
  },
  {
   "cell_type": "markdown",
   "metadata": {},
   "source": [
    "##### Кортежи"
   ]
  },
  {
   "cell_type": "code",
   "execution_count": 138,
   "metadata": {},
   "outputs": [
    {
     "data": {
      "text/plain": [
       "(1, 2, 3)"
      ]
     },
     "execution_count": 138,
     "metadata": {},
     "output_type": "execute_result"
    }
   ],
   "source": [
    "point = (1, 2, 3)\n",
    "point"
   ]
  },
  {
   "cell_type": "code",
   "execution_count": 139,
   "metadata": {},
   "outputs": [],
   "source": [
    "#point[0] = 4"
   ]
  },
  {
   "cell_type": "markdown",
   "metadata": {},
   "source": [
    "<div class=\"alert alert-warning\">\n",
    "    <b>Кортежи vs списков</b>\n",
    "    <br>\n",
    "    <ul>\n",
    "        <li>С точки зрения внутреннего представления, кортежи также являются динамическими массивами.</li>\n",
    "        <li>Кортежи занимают меньше места в памяти, так как имеют фиксированную длину.</li>\n",
    "        <li>Кортежи неизменяемые (immutable) и могут быть выступать в качестве ключей словарей или элементов множеств.</li>\n",
    "        <li>Кортежи обычно представляют абстрактные объекты, обладающие некоторой структурой.</li>\n",
    "    </ul>\n",
    "</div>"
   ]
  },
  {
   "cell_type": "code",
   "execution_count": 140,
   "metadata": {},
   "outputs": [],
   "source": [
    "from collections import namedtuple"
   ]
  },
  {
   "cell_type": "code",
   "execution_count": 141,
   "metadata": {},
   "outputs": [
    {
     "data": {
      "text/plain": [
       "(1, 2, 3)"
      ]
     },
     "execution_count": 141,
     "metadata": {},
     "output_type": "execute_result"
    }
   ],
   "source": [
    "Point = namedtuple('Point', 'x y z')\n",
    "p = Point(1, 2, 3)\n",
    "p.x, p.y, p.z"
   ]
  },
  {
   "cell_type": "code",
   "execution_count": 142,
   "metadata": {},
   "outputs": [
    {
     "data": {
      "text/plain": [
       "(1, 2, 3)"
      ]
     },
     "execution_count": 142,
     "metadata": {},
     "output_type": "execute_result"
    }
   ],
   "source": [
    "p[0], p[1], p[2]"
   ]
  },
  {
   "cell_type": "code",
   "execution_count": 143,
   "metadata": {},
   "outputs": [],
   "source": [
    "from typing import NamedTuple"
   ]
  },
  {
   "cell_type": "code",
   "execution_count": 144,
   "metadata": {},
   "outputs": [
    {
     "data": {
      "text/plain": [
       "(1, 2)"
      ]
     },
     "execution_count": 144,
     "metadata": {},
     "output_type": "execute_result"
    }
   ],
   "source": [
    "Point2D = NamedTuple('Point', [('x', int), ('y', int)])\n",
    "p = Point2D(1, 2)\n",
    "p.x, p.y"
   ]
  },
  {
   "cell_type": "markdown",
   "metadata": {},
   "source": [
    "##### Словари"
   ]
  },
  {
   "cell_type": "code",
   "execution_count": 145,
   "metadata": {},
   "outputs": [],
   "source": [
    "population_by_countries = {\n",
    "    'India': 1326801576,\n",
    "    'Brazil': 209567920,\n",
    "    'China': 1382323332,\n",
    "    'Nigeria': 186987563,\n",
    "    'Bangladesh': 162910864,\n",
    "    'U.S.': 324118787,\n",
    "    'Russia': 143439832,\n",
    "    'Pakistan': 192826502,\n",
    "    'Mexico': 128632004\n",
    "}"
   ]
  },
  {
   "cell_type": "code",
   "execution_count": 146,
   "metadata": {},
   "outputs": [
    {
     "data": {
      "text/plain": [
       "143439832"
      ]
     },
     "execution_count": 146,
     "metadata": {},
     "output_type": "execute_result"
    }
   ],
   "source": [
    "population_by_countries['Russia']"
   ]
  },
  {
   "cell_type": "code",
   "execution_count": 147,
   "metadata": {},
   "outputs": [],
   "source": [
    "population_by_countries['Russia'] = 143439832 + 1"
   ]
  },
  {
   "cell_type": "code",
   "execution_count": 148,
   "metadata": {},
   "outputs": [
    {
     "data": {
      "text/plain": [
       "143439833"
      ]
     },
     "execution_count": 148,
     "metadata": {},
     "output_type": "execute_result"
    }
   ],
   "source": [
    "population_by_countries['Russia']"
   ]
  },
  {
   "cell_type": "code",
   "execution_count": 149,
   "metadata": {},
   "outputs": [
    {
     "data": {
      "text/plain": [
       "{'India': 1326801576,\n",
       " 'Brazil': 209567920,\n",
       " 'China': 1382323332,\n",
       " 'Nigeria': 186987563,\n",
       " 'Bangladesh': 162910864,\n",
       " 'U.S.': 324118787,\n",
       " 'Russia': 143439833,\n",
       " 'Pakistan': 192826502,\n",
       " 'Mexico': 128632004,\n",
       " 'Japan': 126323715}"
      ]
     },
     "execution_count": 149,
     "metadata": {},
     "output_type": "execute_result"
    }
   ],
   "source": [
    "population_by_countries['Japan'] = 126323715\n",
    "population_by_countries"
   ]
  },
  {
   "cell_type": "code",
   "execution_count": 150,
   "metadata": {},
   "outputs": [
    {
     "data": {
      "text/plain": [
       "1382323332"
      ]
     },
     "execution_count": 150,
     "metadata": {},
     "output_type": "execute_result"
    }
   ],
   "source": [
    "population_by_countries['China']"
   ]
  },
  {
   "cell_type": "code",
   "execution_count": 151,
   "metadata": {},
   "outputs": [
    {
     "data": {
      "text/plain": [
       "1382323332"
      ]
     },
     "execution_count": 151,
     "metadata": {},
     "output_type": "execute_result"
    }
   ],
   "source": [
    "population_by_countries.get('China')"
   ]
  },
  {
   "cell_type": "code",
   "execution_count": 152,
   "metadata": {},
   "outputs": [
    {
     "data": {
      "text/plain": [
       "1382323332"
      ]
     },
     "execution_count": 152,
     "metadata": {},
     "output_type": "execute_result"
    }
   ],
   "source": [
    "population_by_countries.get('China', 'NA')"
   ]
  },
  {
   "cell_type": "code",
   "execution_count": 153,
   "metadata": {},
   "outputs": [
    {
     "data": {
      "text/plain": [
       "dict_keys(['India', 'Brazil', 'China', 'Nigeria', 'Bangladesh', 'U.S.', 'Russia', 'Pakistan', 'Mexico', 'Japan'])"
      ]
     },
     "execution_count": 153,
     "metadata": {},
     "output_type": "execute_result"
    }
   ],
   "source": [
    "population_by_countries.keys()"
   ]
  },
  {
   "cell_type": "code",
   "execution_count": 154,
   "metadata": {},
   "outputs": [
    {
     "data": {
      "text/plain": [
       "dict_values([1326801576, 209567920, 1382323332, 186987563, 162910864, 324118787, 143439833, 192826502, 128632004, 126323715])"
      ]
     },
     "execution_count": 154,
     "metadata": {},
     "output_type": "execute_result"
    }
   ],
   "source": [
    "population_by_countries.values()"
   ]
  },
  {
   "cell_type": "code",
   "execution_count": 155,
   "metadata": {},
   "outputs": [
    {
     "data": {
      "text/plain": [
       "dict_items([('India', 1326801576), ('Brazil', 209567920), ('China', 1382323332), ('Nigeria', 186987563), ('Bangladesh', 162910864), ('U.S.', 324118787), ('Russia', 143439833), ('Pakistan', 192826502), ('Mexico', 128632004), ('Japan', 126323715)])"
      ]
     },
     "execution_count": 155,
     "metadata": {},
     "output_type": "execute_result"
    }
   ],
   "source": [
    "population_by_countries.items()"
   ]
  },
  {
   "cell_type": "code",
   "execution_count": 156,
   "metadata": {},
   "outputs": [
    {
     "data": {
      "text/plain": [
       "True"
      ]
     },
     "execution_count": 156,
     "metadata": {},
     "output_type": "execute_result"
    }
   ],
   "source": [
    "\"Russia\" in population_by_countries"
   ]
  },
  {
   "cell_type": "code",
   "execution_count": 157,
   "metadata": {},
   "outputs": [
    {
     "data": {
      "text/plain": [
       "False"
      ]
     },
     "execution_count": 157,
     "metadata": {},
     "output_type": "execute_result"
    }
   ],
   "source": [
    "\"Poland\" in population_by_countries"
   ]
  },
  {
   "cell_type": "markdown",
   "metadata": {},
   "source": [
    "<div class=\"alert alert-warning\">\n",
    "    <b>Проверка на вхождение</b>\n",
    "    <br>\n",
    "    <ul>\n",
    "        <li>Оператор `in` работает со всеми контейнерами (строки, списки, кортежи, словари, множества), но для последовательностей (строки, списки, кортежи) эта операция является медленной.</li>\n",
    "    </ul>\n",
    "</div>"
   ]
  },
  {
   "cell_type": "code",
   "execution_count": 158,
   "metadata": {},
   "outputs": [
    {
     "data": {
      "text/plain": [
       "{'India': 1326801576,\n",
       " 'Brazil': 209567920,\n",
       " 'China': 1382323332,\n",
       " 'Nigeria': 186987563,\n",
       " 'Bangladesh': 162910864,\n",
       " 'U.S.': 324118787,\n",
       " 'Russia': 143439832,\n",
       " 'Pakistan': 192826502,\n",
       " 'Mexico': 128632004}"
      ]
     },
     "execution_count": 158,
     "metadata": {},
     "output_type": "execute_result"
    }
   ],
   "source": [
    "countries = ['India', 'Brazil', 'China', 'Nigeria', 'Bangladesh', 'U.S.', 'Russia', 'Pakistan', 'Mexico']\n",
    "populations = [1326801576, 209567920, 1382323332, 186987563, 162910864, 324118787, 143439832, 192826502, 128632004]\n",
    "dict(zip(countries, populations))"
   ]
  },
  {
   "cell_type": "code",
   "execution_count": 159,
   "metadata": {},
   "outputs": [
    {
     "data": {
      "text/plain": [
       "[('China', 1382323332),\n",
       " ('India', 1326801576),\n",
       " ('U.S.', 324118787),\n",
       " ('Brazil', 209567920),\n",
       " ('Pakistan', 192826502),\n",
       " ('Nigeria', 186987563),\n",
       " ('Bangladesh', 162910864),\n",
       " ('Russia', 143439833),\n",
       " ('Mexico', 128632004),\n",
       " ('Japan', 126323715)]"
      ]
     },
     "execution_count": 159,
     "metadata": {},
     "output_type": "execute_result"
    }
   ],
   "source": [
    "from operator import itemgetter\n",
    "\n",
    "sorted(population_by_countries.items(), key=itemgetter(1), reverse=True)"
   ]
  },
  {
   "cell_type": "markdown",
   "metadata": {},
   "source": [
    "##### Небольшой пример использования словарей"
   ]
  },
  {
   "cell_type": "markdown",
   "metadata": {},
   "source": [
    "Например, хотим получить текущую погоду:"
   ]
  },
  {
   "cell_type": "code",
   "execution_count": 160,
   "metadata": {},
   "outputs": [
    {
     "data": {
      "text/plain": [
       "\"\\nimport requests\\nfrom pprint import pprint as pp\\n\\nurl = 'https://api.openweathermap.org/data/2.5/weather?q=Saint Petersburg&units=metric&APPID=a46b3bb83f9e16e2ee203e9ecfca99f8'\\nresponse = requests.get(url)\\npp(response.json())\\n\""
      ]
     },
     "execution_count": 160,
     "metadata": {},
     "output_type": "execute_result"
    }
   ],
   "source": [
    "\"\"\"\n",
    "import requests\n",
    "from pprint import pprint as pp\n",
    "\n",
    "url = 'https://api.openweathermap.org/data/2.5/weather?q=Saint Petersburg&units=metric&APPID=a46b3bb83f9e16e2ee203e9ecfca99f8'\n",
    "response = requests.get(url)\n",
    "pp(response.json())\n",
    "\"\"\""
   ]
  },
  {
   "cell_type": "code",
   "execution_count": 161,
   "metadata": {},
   "outputs": [],
   "source": [
    "#type(response.json())"
   ]
  },
  {
   "cell_type": "code",
   "execution_count": 162,
   "metadata": {},
   "outputs": [],
   "source": [
    "#response.json()['main']['temp']"
   ]
  },
  {
   "cell_type": "markdown",
   "metadata": {},
   "source": [
    "##### Множества"
   ]
  },
  {
   "cell_type": "code",
   "execution_count": 163,
   "metadata": {},
   "outputs": [
    {
     "data": {
      "text/plain": [
       "{1, 2, 3, 4, 5}"
      ]
     },
     "execution_count": 163,
     "metadata": {},
     "output_type": "execute_result"
    }
   ],
   "source": [
    "a_set = {1, 2, 1, 3, 3, 4, 2, 5}\n",
    "a_set"
   ]
  },
  {
   "cell_type": "code",
   "execution_count": 164,
   "metadata": {},
   "outputs": [
    {
     "data": {
      "text/plain": [
       "True"
      ]
     },
     "execution_count": 164,
     "metadata": {},
     "output_type": "execute_result"
    }
   ],
   "source": [
    "{1, 2, 1, 3, 3, 4, 2, 5} == {1, 2, 3, 4, 5}"
   ]
  },
  {
   "cell_type": "code",
   "execution_count": 165,
   "metadata": {},
   "outputs": [
    {
     "data": {
      "text/plain": [
       "True"
      ]
     },
     "execution_count": 165,
     "metadata": {},
     "output_type": "execute_result"
    }
   ],
   "source": [
    "1 in a_set"
   ]
  },
  {
   "cell_type": "code",
   "execution_count": 166,
   "metadata": {},
   "outputs": [
    {
     "data": {
      "text/plain": [
       "False"
      ]
     },
     "execution_count": 166,
     "metadata": {},
     "output_type": "execute_result"
    }
   ],
   "source": [
    "6 in a_set"
   ]
  },
  {
   "cell_type": "code",
   "execution_count": 167,
   "metadata": {},
   "outputs": [
    {
     "data": {
      "text/plain": [
       "{1, 2, 3, 4, 5}"
      ]
     },
     "execution_count": 167,
     "metadata": {},
     "output_type": "execute_result"
    }
   ],
   "source": [
    "{1, 2, 3} | {1, 4, 5}"
   ]
  },
  {
   "cell_type": "code",
   "execution_count": 168,
   "metadata": {},
   "outputs": [
    {
     "data": {
      "text/plain": [
       "{1}"
      ]
     },
     "execution_count": 168,
     "metadata": {},
     "output_type": "execute_result"
    }
   ],
   "source": [
    "{1, 2, 3} & {1, 4, 5}"
   ]
  },
  {
   "cell_type": "code",
   "execution_count": 169,
   "metadata": {},
   "outputs": [
    {
     "data": {
      "text/plain": [
       "{2, 3}"
      ]
     },
     "execution_count": 169,
     "metadata": {},
     "output_type": "execute_result"
    }
   ],
   "source": [
    "{1, 2, 3} - {1, 4, 5}"
   ]
  },
  {
   "cell_type": "markdown",
   "metadata": {},
   "source": [
    "## Размеры некоторых типов"
   ]
  },
  {
   "cell_type": "code",
   "execution_count": 170,
   "metadata": {},
   "outputs": [],
   "source": [
    "import sys\n",
    "\n",
    "def show_sizeof(x, level=0):\n",
    "    print(\"{indent}class: {dtype}, size: {size}b, value: {x}\".format(\n",
    "        indent='    ' * level,\n",
    "        dtype=x.__class__.__name__,\n",
    "        size=sys.getsizeof(x),\n",
    "        x=x\n",
    "    ))\n",
    "    if hasattr(x, '__iter__') and not isinstance(x, str):\n",
    "        if hasattr(x, 'items'):\n",
    "            for xx in x.items():\n",
    "                show_sizeof(xx, level + 1)\n",
    "        else:\n",
    "            for xx in x:\n",
    "                show_sizeof(xx, level + 1)"
   ]
  },
  {
   "cell_type": "code",
   "execution_count": 171,
   "metadata": {},
   "outputs": [
    {
     "name": "stdout",
     "output_type": "stream",
     "text": [
      "class: int, size: 28b, value: 2018\n",
      "class: int, size: 36b, value: 123456789101112131415\n",
      "class: float, size: 24b, value: 2018.0\n",
      "class: bool, size: 28b, value: True\n",
      "class: str, size: 54b, value: Marat\n",
      "class: str, size: 51b, value: \n",
      "class: list, size: 64b, value: []\n",
      "class: list, size: 88b, value: [1, 2, 3]\n",
      "    class: int, size: 28b, value: 1\n",
      "    class: int, size: 28b, value: 2\n",
      "    class: int, size: 28b, value: 3\n",
      "class: tuple, size: 48b, value: ()\n",
      "class: tuple, size: 72b, value: (1, 2, 3)\n",
      "    class: int, size: 28b, value: 1\n",
      "    class: int, size: 28b, value: 2\n",
      "    class: int, size: 28b, value: 3\n",
      "class: set, size: 224b, value: set()\n",
      "class: set, size: 224b, value: {1, 2, 3}\n",
      "    class: int, size: 28b, value: 1\n",
      "    class: int, size: 28b, value: 2\n",
      "    class: int, size: 28b, value: 3\n"
     ]
    }
   ],
   "source": [
    "show_sizeof(2018)\n",
    "show_sizeof(123456789101112131415)\n",
    "show_sizeof(2.018E3)\n",
    "show_sizeof(True)\n",
    "show_sizeof(\"Marat\")\n",
    "show_sizeof(\"\")\n",
    "show_sizeof([])\n",
    "show_sizeof([1, 2, 3])\n",
    "show_sizeof(())\n",
    "show_sizeof((1, 2, 3))\n",
    "show_sizeof(set())\n",
    "show_sizeof({1, 2, 3})"
   ]
  },
  {
   "cell_type": "markdown",
   "metadata": {},
   "source": [
    "## Everything is an Object"
   ]
  },
  {
   "cell_type": "markdown",
   "metadata": {},
   "source": [
    "В Python все является объектом: числа, последовательности, функции, классы, модули и т.д."
   ]
  },
  {
   "cell_type": "markdown",
   "metadata": {},
   "source": [
    "<img src=\"../images/aEquals2.jpg\">"
   ]
  },
  {
   "cell_type": "code",
   "execution_count": 172,
   "metadata": {},
   "outputs": [
    {
     "data": {
      "text/plain": [
       "140737262166448"
      ]
     },
     "execution_count": 172,
     "metadata": {},
     "output_type": "execute_result"
    }
   ],
   "source": [
    "a = 2\n",
    "id(a)"
   ]
  },
  {
   "cell_type": "code",
   "execution_count": 173,
   "metadata": {},
   "outputs": [
    {
     "data": {
      "text/plain": [
       "140737262166480"
      ]
     },
     "execution_count": 173,
     "metadata": {},
     "output_type": "execute_result"
    }
   ],
   "source": [
    "a = a + 1\n",
    "id(a)"
   ]
  },
  {
   "cell_type": "code",
   "execution_count": 174,
   "metadata": {},
   "outputs": [
    {
     "data": {
      "text/plain": [
       "140737262166448"
      ]
     },
     "execution_count": 174,
     "metadata": {},
     "output_type": "execute_result"
    }
   ],
   "source": [
    "b = 2\n",
    "id(b)"
   ]
  },
  {
   "cell_type": "markdown",
   "metadata": {},
   "source": [
    "Каждый объект «наследуется» от структуры `PyObject` или  `PyVarObject` для объектов переменной (variable) длинны (строки, списки и т.д.):\n",
    "\n",
    "[`Include/object.h`](https://github.com/python/cpython/blob/master/Include/object.h#L106)\n",
    "```c\n",
    "typedef struct _object {\n",
    "    _PyObject_HEAD_EXTRA\n",
    "    Py_ssize_t ob_refcnt;\n",
    "    struct _typeobject *ob_type;\n",
    "} PyObject;\n",
    "```\n",
    "\n",
    "где `_PyObject_HEAD_EXTRA` это макрос, который определен следующим образом:\n",
    "\n",
    "```c\n",
    "#define _PyObject_HEAD_EXTRA            \\\n",
    "    struct _object *_ob_next;           \\\n",
    "    struct _object *_ob_prev;\n",
    "```\n",
    "\n",
    "Если «раскрыть» макрос `_PyObject_HEAD_EXTRA`, то структура `PyObject` будет следующей:\n",
    "\n",
    "```c\n",
    "typedef struct _object {\n",
    "    struct _object *_ob_next;\n",
    "    struct _object *_ob_prev;\n",
    "    Py_ssize_t ob_refcnt;\n",
    "    struct _typeobject *ob_type;\n",
    "} PyObject;\n",
    "```\n",
    "\n",
    " - `_ob_next` и `_ob_prev` это указатели на следующий и предыдущий объекты, таким образом, все объекты представлены в виде двунаправленного связного списка;\n",
    " - `ob_refcnt` счетчик ссылок;\n",
    " - `ob_type` - указатель на структуру `_typeobject`, которая определяет тип объекта;\n",
    "\n",
    "```c\n",
    "typedef struct {\n",
    "    PyObject ob_base;\n",
    "    Py_ssize_t ob_size; /* Number of items in variable part */\n",
    "} PyVarObject;\n",
    "```\n",
    "\n",
    "- `ob_size` - количество элементов в объекте, если объект переменной длины (например, для списка из пяти элементов `ob_size` равен 5).\n",
    "\n",
    "> **Замечание про подсчет ссылок**: CPython uses reference counting for memory management. This is a simple method in which whenever a new reference to an object is created such as the case of binding a name to an object, the reference count of the object goes up. The converse is true - whenever a reference to an object goes away (for example using a `del` on name deletes the reference), the reference count is decremented. When the reference count of an object gets to zero, it can be deallocated by the VM. In the VM world, the `Py_INCREF` and `Py_DECREF` are used to increase and decrease reference count of objects."
   ]
  },
  {
   "cell_type": "code",
   "execution_count": 175,
   "metadata": {},
   "outputs": [
    {
     "name": "stdout",
     "output_type": "stream",
     "text": [
      "2\n",
      "3\n",
      "2\n"
     ]
    }
   ],
   "source": [
    "import sys\n",
    "\n",
    "L1 = [1,2,3]               # На объект [1,2,3] одна ссылка L1\n",
    "print(sys.getrefcount(L1)) # На объект [1,2,3] две ссылки: L1 и getrefcount(object)\n",
    "\n",
    "L2 = L1                    # На объект [1,2,3] две ссылки: L1 и L2\n",
    "print(sys.getrefcount(L1)) # На объект [1,2,3] три ссылки: L1, L2 и getrefcount(object)\n",
    "\n",
    "del L2                     # На объект [1,2,3] одна ссылка L1\n",
    "print(sys.getrefcount(L1)) # На объект [1,2,3] две ссылки: L1 и getrefcount(object)"
   ]
  },
  {
   "cell_type": "markdown",
   "metadata": {},
   "source": [
    "Итак, если вы решили ввести свой тип, то он должен «наследоваться» от `PyObject` или `PyVarObject` с помощью макросов `PyObject_HEAD` и `PyObject_VAR_HEAD`:\n",
    "\n",
    "```c\n",
    "#define PyObject_HEAD          PyObject ob_base;\n",
    "...\n",
    "#define PyObject_VAR_HEAD      PyVarObject ob_base;\n",
    "```\n",
    "\n",
    "Например:\n",
    "\n",
    "```c\n",
    "typedef struct _myobject {\n",
    "       PyObject_HEAD\n",
    "       ...\n",
    "} PyMyObject;\n",
    "```\n",
    "\n",
    "Таким образом, `PyMyObject` будет содержать все поля, которые есть в `PyObject`.\n",
    "\n",
    "Макрос `PyObject_HEAD` должнен идти первым в структуре. Это связано с «наследованием», о котором говорилось ранее. Как утверждается в `object.h`:\n",
    "\n",
    "> Objects are always accessed through pointers of the type `PyObject *`\n",
    "\n",
    "и означает, что должна быть возможность преобразования указателя на `PyMyObject` к указателю на `PyObject`, то есть:\n",
    "\n",
    "```c\n",
    "PyObject *obj = (PyObject*)my_py_type_variable;\n",
    "```"
   ]
  },
  {
   "cell_type": "markdown",
   "metadata": {},
   "source": [
    "### Длинная арифметика в Python"
   ]
  },
  {
   "cell_type": "markdown",
   "metadata": {},
   "source": [
    "Может ли произойти переполнение при работе с целыми числами в Python? Нет, если мы **не** говорим о таких пакетах как Numpy и Pandas, так как при работе с целыми числами в Python используется длинная арифметика."
   ]
  },
  {
   "cell_type": "markdown",
   "metadata": {},
   "source": [
    "Следующая структура отвечает за представление целых чисел:\n",
    "\n",
    "```c\n",
    "struct _longobject {\n",
    "    PyObject_VAR_HEAD\n",
    "    digit ob_digit[1];\n",
    "} PyLongObject;\n",
    "```"
   ]
  },
  {
   "cell_type": "markdown",
   "metadata": {},
   "source": [
    "Если «раскрыть» макрос `PyObject_VAR_HEAD`, то стурктура будет выглядеть следующим образом:\n",
    "\n",
    "```c\n",
    "struct _longobject {\n",
    "    struct _object *_ob_next;\n",
    "    struct _object *_ob_prev;\n",
    "    ssize_t ob_refcnt;\n",
    "    struct _typeobject *ob_type;\n",
    "    ssize_t ob_size; \n",
    "    uint32_t ob_digit[1];\n",
    "} PyLongObject;\n",
    "```"
   ]
  },
  {
   "cell_type": "markdown",
   "metadata": {},
   "source": [
    "Где:\n",
    "- `ob_refcnt` - счетчик ссылок на объект;\n",
    "- `ob_type` - содержит указатель на [структуру](https://docs.python.org/3/c-api/typeobj.html), описывающую тип объекта (в данном случае целое число);\n",
    "- `ob_digit` - массив беззнаковых целых чисел по основанию $2^{30}$;\n",
    "- `ob_size` - размер массива `ob_digit`."
   ]
  },
  {
   "cell_type": "markdown",
   "metadata": {},
   "source": [
    "##### Как хранить произвольно большое целое число?"
   ]
  },
  {
   "cell_type": "markdown",
   "metadata": {},
   "source": [
    "Одним из решений является представление целого числа в виде массива отдельных **цифр**. Чтобы сделать это наиболее эффективно мы можем конвертировать наше число из десятичной системы счисления в систему счисления по основанию $2^{30}$, в таком случае каждый элемент представлен «цифрой» в диапазоне от $0$ до $2^{30} - 1$. В зависимости от платформы Python использует или 32-битные беззнаковые массивы с 30-битными цифрами или 16-битные беззнаковые массивы с 15-битными цифрами. Такой подход представления больших целых чисел накладывает [дополнительные ограничения](https://github.com/python/cpython/blob/865e4b4f630e2ae91e61239258abb58b488f1d65/Include/longintrepr.h#L9), которые не позволяют использовать все биты. Поле `ob_digit` структуры показанной выше, содержит такие массивы. \n",
    "\n",
    "Для избежания лишних вычислений CPython имеет быстрый путь реализации для целых чисел в диапазоне от $-2^{30}$ до $2^{30}$. Такие целые числа храняться как массивы с одним элементом.\n",
    "\n",
    "Также следует отметить, что в отличие от классического представления знака, знак целого числа хранится отдельно в поле `ob_size`, которое также содержит размер массива `ob_digit`. Так, если мы хотим изменить знак целого с размером `ob_size=2`, то `ob_size` становится равным -2."
   ]
  },
  {
   "cell_type": "markdown",
   "metadata": {},
   "source": [
    "Комментарий из исходных текстов по представлению целых чисел:\n",
    "\n",
    "```c\n",
    "/* Long integer representation.\n",
    "   The absolute value of a number is equal to\n",
    "   SUM(for i=0 through abs(ob_size)-1) ob_digit[i] * 2**(SHIFT*i)\n",
    "   Negative numbers are represented with ob_size < 0;\n",
    "   zero is represented by ob_size == 0.\n",
    "   In a normalized number, ob_digit[abs(ob_size)-1] (the most significant\n",
    "   digit) is never zero.  Also, in all cases, for all valid i,\n",
    "   0 <= ob_digit[i] <= MASK.\n",
    "   The allocation function takes care of allocating extra memory\n",
    "   so that ob_digit[0] ... ob_digit[abs(ob_size)-1] are actually available.\n",
    "\n",
    "   CAUTION:  Generic code manipulating subtypes of PyVarObject has to aware that integers abuse  ob_size's sign bit.\n",
    "*/\n",
    "```"
   ]
  },
  {
   "cell_type": "markdown",
   "metadata": {},
   "source": [
    "Например, представление числа $123456789101112131415$ будет следующим:\n",
    "\n",
    "\n",
    "`ob_size = 3`\n",
    "\n",
    "`ob_digit = [437976919 87719511 107]`\n",
    "\n",
    "\n",
    "Алгоритм конвертирования числа обратно:\n",
    "\n",
    "$$(437976919 ∗ 2^{30 ∗ 0}) + (87719511 ∗ 2^{30 ∗ 1}) + (107 ∗ 2^{30 ∗ 2})$$"
   ]
  },
  {
   "cell_type": "markdown",
   "metadata": {},
   "source": [
    "Ниже приведен упрощенный вариант алгоритма представления произвольно больших чисел:"
   ]
  },
  {
   "cell_type": "code",
   "execution_count": 176,
   "metadata": {},
   "outputs": [],
   "source": [
    "SHIFT = 30  # number of bits for each 'digit'\n",
    "MASK = (2 ** SHIFT)\n",
    "\n",
    "def split_number(bignum):\n",
    "    t = abs(bignum)\n",
    "\n",
    "    num_list = []\n",
    "    while t != 0:\n",
    "        # Get remainder from division\n",
    "        small_int = t % MASK  # more efficient bitwise analogue: (t & (MASK-1))\n",
    "        num_list.append(small_int)\n",
    "\n",
    "        # Get integral part of the division (floor division)\n",
    "        t = t // MASK  # more efficient bitwise analogue: t >>= SHIFT\n",
    "\n",
    "    return num_list\n",
    "\n",
    "def restore_number(num_list):\n",
    "    bignum = 0\n",
    "    for i, n in enumerate(num_list):\n",
    "        bignum += n * (2 ** (SHIFT * i))\n",
    "    return bignum"
   ]
  },
  {
   "cell_type": "code",
   "execution_count": 177,
   "metadata": {},
   "outputs": [],
   "source": [
    "bignum = 123456789101112131415\n",
    "num_list = split_number(bignum)\n",
    "assert bignum == restore_number(num_list)"
   ]
  },
  {
   "cell_type": "code",
   "execution_count": 178,
   "metadata": {},
   "outputs": [
    {
     "data": {
      "text/plain": [
       "[437976919, 87719511, 107]"
      ]
     },
     "execution_count": 178,
     "metadata": {},
     "output_type": "execute_result"
    }
   ],
   "source": [
    "num_list"
   ]
  },
  {
   "cell_type": "code",
   "execution_count": 179,
   "metadata": {},
   "outputs": [
    {
     "name": "stdout",
     "output_type": "stream",
     "text": [
      "ob_digit[0] = 0\n",
      "ob_digit[1] = 437976919\n",
      "ob_digit[2] = 87719511\n",
      "ob_size: 3\n"
     ]
    }
   ],
   "source": [
    "import ctypes\n",
    "\n",
    "class PyLongObject(ctypes.Structure):\n",
    "    _fields_ = [(\"ob_refcnt\", ctypes.c_long),\n",
    "                (\"ob_type\", ctypes.c_void_p),\n",
    "                (\"ob_size\", ctypes.c_ulong),\n",
    "                (\"ob_digit\", ctypes.c_uint * 3)]\n",
    "\n",
    "\n",
    "bignum = 123456789101112131415\n",
    "\n",
    "for i,d in enumerate(PyLongObject.from_address(id(bignum)).ob_digit):\n",
    "    print(\"ob_digit[{i}] = {d}\".format(i=i, d=d))\n",
    "\n",
    "print(\"ob_size:\", PyLongObject.from_address(id(bignum)).ob_size)"
   ]
  },
  {
   "cell_type": "markdown",
   "metadata": {},
   "source": [
    "##### Оптимизации"
   ]
  },
  {
   "cell_type": "markdown",
   "metadata": {},
   "source": [
    "Небольшие целые числа в диапазоне от `-5` до `256` преаллоцируются в процессе инициализации интерпретатора. Так как целые числа являются неизменяемыми, то мы можем воспринимать их как синглтоны. Каждый раз, когда нам необходимо создать небольшое целое число (например, как результат некоторой арифметической операции), то вместо создания нового объекта, Python просто возвращает указатель на уже преаллоцированный объект. Это позволяет сократить количество потребляемой памяти и время затрачиваемое на вычисления при работе с небольшими целыми числами."
   ]
  },
  {
   "cell_type": "code",
   "execution_count": 180,
   "metadata": {},
   "outputs": [],
   "source": [
    "a = 1\n",
    "b = 1"
   ]
  },
  {
   "cell_type": "code",
   "execution_count": 181,
   "metadata": {},
   "outputs": [
    {
     "name": "stdout",
     "output_type": "stream",
     "text": [
      "True\n"
     ]
    }
   ],
   "source": [
    "print(a is b)"
   ]
  },
  {
   "cell_type": "code",
   "execution_count": 182,
   "metadata": {},
   "outputs": [
    {
     "data": {
      "text/plain": [
       "(140737262166416, 140737262166416)"
      ]
     },
     "execution_count": 182,
     "metadata": {},
     "output_type": "execute_result"
    }
   ],
   "source": [
    "id(a), id(b)"
   ]
  },
  {
   "cell_type": "markdown",
   "metadata": {},
   "source": [
    "Следует иметь ввиду, что структура `PyLongObject` занимает не менее 28 байт для каждого целого числа, то есть в три раза больше чем требуется под 64-битное целое в языке C."
   ]
  },
  {
   "cell_type": "code",
   "execution_count": 183,
   "metadata": {},
   "outputs": [
    {
     "data": {
      "text/plain": [
       "28"
      ]
     },
     "execution_count": 183,
     "metadata": {},
     "output_type": "execute_result"
    }
   ],
   "source": [
    "import sys\n",
    "sys.getsizeof(1)"
   ]
  },
  {
   "cell_type": "markdown",
   "metadata": {},
   "source": [
    "##### Выполнение арифметических операций "
   ]
  },
  {
   "cell_type": "markdown",
   "metadata": {},
   "source": [
    "Базовые арифметические операции выполняются аналогично тому, как мы это делали в школе, с одним исключением: что каждый элемент массива считается «цифрой».\n",
    "\n",
    "В результате выполнения каждой операции создается минимум еще один объект. Например, когда вы хотите выполнить `c += 10`, то грубо говоря выполняются следующие шаги:\n",
    "\n",
    "- Получить адрес уже преаллоцированного объекта для значения `10` (так как это небольшое число, то не нужно повтороно под него выделять память)\n",
    "- Создать новый объект, такого размера, чтобы он мог вместить в себя резльутат сложения\n",
    "- Сложить `c` и `10`. Результат поместить в созданный ранее объект\n",
    "- Заменить переменную `c` ссылкой на новый объект\n",
    "- Уменьшить счетчик ссылок на старый объект"
   ]
  },
  {
   "cell_type": "code",
   "execution_count": 184,
   "metadata": {},
   "outputs": [],
   "source": [
    "def add_bignum(a, b):\n",
    "    z = []\n",
    "\n",
    "    if len(a) < len(b):\n",
    "        # Ensure a is the larger of the two\n",
    "        a, b = b, a\n",
    "\n",
    "    carry = 0\n",
    "\n",
    "    for i in range(0, len(b)):\n",
    "        carry += a[i] + b[i]\n",
    "        z.append(carry % MASK)\n",
    "        carry = carry // MASK\n",
    "\n",
    "    for i in range(i + 1, len(a)):\n",
    "        carry += a[i]\n",
    "        z.append(carry % MASK)\n",
    "        carry = carry // MASK\n",
    "\n",
    "    z.append(carry)\n",
    "\n",
    "    # remove trailing zeros\n",
    "    i = len(z)\n",
    "    while i > 0 and z[i-1] == 0:\n",
    "        i -= 1\n",
    "    z = z[0:i]\n",
    "\n",
    "    return z"
   ]
  },
  {
   "cell_type": "code",
   "execution_count": 185,
   "metadata": {},
   "outputs": [],
   "source": [
    "a = 8223372036854775807\n",
    "b = 100037203685477\n",
    "assert restore_number(add_bignum(split_number(a), split_number(b))) == a + b"
   ]
  },
  {
   "cell_type": "markdown",
   "metadata": {},
   "source": [
    "##### Замечание про Numpy и Pandas"
   ]
  },
  {
   "cell_type": "code",
   "execution_count": 186,
   "metadata": {},
   "outputs": [],
   "source": [
    "import numpy as np"
   ]
  },
  {
   "cell_type": "code",
   "execution_count": 187,
   "metadata": {},
   "outputs": [
    {
     "data": {
      "text/plain": [
       "array([9223372036854775807, 9223372036854775807], dtype=int64)"
      ]
     },
     "execution_count": 187,
     "metadata": {},
     "output_type": "execute_result"
    }
   ],
   "source": [
    "ar = np.array([2**63 - 1, 2**63 - 1])\n",
    "ar"
   ]
  },
  {
   "cell_type": "code",
   "execution_count": 188,
   "metadata": {},
   "outputs": [
    {
     "data": {
      "text/plain": [
       "dtype('int64')"
      ]
     },
     "execution_count": 188,
     "metadata": {},
     "output_type": "execute_result"
    }
   ],
   "source": [
    "ar.dtype"
   ]
  },
  {
   "cell_type": "markdown",
   "metadata": {},
   "source": [
    "Элементами `ndarray` являются 64-битные знаковые целые, таким обрзаом, $2^{63}-1$ наибольшее положительное значение, которое мы можем хранить в `ndarray`. Добавление 1 приведет к  переполнению (overflow):"
   ]
  },
  {
   "cell_type": "code",
   "execution_count": 189,
   "metadata": {},
   "outputs": [
    {
     "data": {
      "text/plain": [
       "array([-9223372036854775808, -9223372036854775808], dtype=int64)"
      ]
     },
     "execution_count": 189,
     "metadata": {},
     "output_type": "execute_result"
    }
   ],
   "source": [
    "ar + 1"
   ]
  },
  {
   "cell_type": "code",
   "execution_count": 190,
   "metadata": {},
   "outputs": [
    {
     "data": {
      "text/plain": [
       "-2"
      ]
     },
     "execution_count": 190,
     "metadata": {},
     "output_type": "execute_result"
    }
   ],
   "source": [
    "np.sum(ar)"
   ]
  },
  {
   "cell_type": "code",
   "execution_count": 191,
   "metadata": {},
   "outputs": [
    {
     "data": {
      "text/plain": [
       "9.223372036854776e+18"
      ]
     },
     "execution_count": 191,
     "metadata": {},
     "output_type": "execute_result"
    }
   ],
   "source": [
    "np.mean(ar) # При вычислении среднего элементы массива сначала приводятся к типу float"
   ]
  },
  {
   "cell_type": "markdown",
   "metadata": {},
   "source": [
    " 1. [Python internals: Arbitrary-precision integer implementation](https://rushter.com/blog/python-integer-implementation/)\n",
    " 2. [Can integer operations overflow in Python](http://mortada.net/can-integer-operations-overflow-in-python.html)"
   ]
  },
  {
   "cell_type": "markdown",
   "metadata": {},
   "source": [
    "### Числа с плавающей запятой и стандарт IEEE-754"
   ]
  },
  {
   "cell_type": "markdown",
   "metadata": {},
   "source": [
    "Вещественные числа в CPython представлены следующей структурой:\n",
    "    \n",
    "```c\n",
    "typedef struct {\n",
    "    PyObject_HEAD\n",
    "    double ob_fval;\n",
    "} PyFloatObject;\n",
    "```\n",
    "\n",
    "Легко заметить, что поле `ob_fval` это обычное вещественное число двойной точности."
   ]
  },
  {
   "cell_type": "markdown",
   "metadata": {},
   "source": [
    "```c\n",
    "static PyObject *\n",
    "float_add(PyObject *v, PyObject *w)\n",
    "{\n",
    "    double a,b;\n",
    "    CONVERT_TO_DOUBLE(v, a);\n",
    "    CONVERT_TO_DOUBLE(w, b);\n",
    "    PyFPE_START_PROTECT(\"add\", return 0)\n",
    "    a = a + b;\n",
    "    PyFPE_END_PROTECT(a)\n",
    "    return PyFloat_FromDouble(a);\n",
    "}\n",
    "```"
   ]
  },
  {
   "cell_type": "code",
   "execution_count": 192,
   "metadata": {},
   "outputs": [
    {
     "data": {
      "text/plain": [
       "[0.1, 0.1, 0.1, 0.1, 0.1, 0.1, 0.1, 0.1, 0.1, 0.1]"
      ]
     },
     "execution_count": 192,
     "metadata": {},
     "output_type": "execute_result"
    }
   ],
   "source": [
    "[0.1] * 10"
   ]
  },
  {
   "cell_type": "code",
   "execution_count": 193,
   "metadata": {},
   "outputs": [
    {
     "data": {
      "text/plain": [
       "False"
      ]
     },
     "execution_count": 193,
     "metadata": {},
     "output_type": "execute_result"
    }
   ],
   "source": [
    "sum([0.1] * 10) == 1.0"
   ]
  },
  {
   "cell_type": "code",
   "execution_count": 194,
   "metadata": {},
   "outputs": [
    {
     "data": {
      "text/plain": [
       "0.9999999999999999"
      ]
     },
     "execution_count": 194,
     "metadata": {},
     "output_type": "execute_result"
    }
   ],
   "source": [
    "sum([0.1] * 10)"
   ]
  },
  {
   "cell_type": "code",
   "execution_count": 195,
   "metadata": {},
   "outputs": [],
   "source": [
    "from math import fsum"
   ]
  },
  {
   "cell_type": "code",
   "execution_count": 196,
   "metadata": {},
   "outputs": [
    {
     "data": {
      "text/plain": [
       "1.0"
      ]
     },
     "execution_count": 196,
     "metadata": {},
     "output_type": "execute_result"
    }
   ],
   "source": [
    "fsum([0.1] * 10)"
   ]
  },
  {
   "cell_type": "markdown",
   "metadata": {},
   "source": [
    "> [Binary floating point summation accurate to full precision](https://code.activestate.com/recipes/393090/)"
   ]
  },
  {
   "cell_type": "markdown",
   "metadata": {},
   "source": [
    "### Строки"
   ]
  },
  {
   "cell_type": "markdown",
   "metadata": {},
   "source": [
    "```c\n",
    "/* ASCII-only strings created through PyUnicode_New use the PyASCIIObject\n",
    "   structure. state.ascii and state.compact are set, and the data\n",
    "   immediately follow the structure. utf8_length and wstr_length can be found\n",
    "   in the length field; the utf8 pointer is equal to the data pointer. */\n",
    "typedef struct {\n",
    "    PyObject_HEAD\n",
    "    Py_ssize_t length;          /* Number of code points in the string */\n",
    "    Py_hash_t hash;             /* Hash value; -1 if not set */\n",
    "    struct {\n",
    "        unsigned int interned:2;\n",
    "        unsigned int kind:3;\n",
    "        unsigned int compact:1;\n",
    "        unsigned int ascii:1;\n",
    "        unsigned int ready:1;\n",
    "        unsigned int :24;\n",
    "    } state;\n",
    "    wchar_t *wstr;              /* wchar_t representation (null-terminated) */\n",
    "} PyASCIIObject;\n",
    "```"
   ]
  },
  {
   "cell_type": "markdown",
   "metadata": {},
   "source": [
    "##### Интернирование строк"
   ]
  },
  {
   "cell_type": "code",
   "execution_count": 197,
   "metadata": {},
   "outputs": [
    {
     "data": {
      "text/plain": [
       "False"
      ]
     },
     "execution_count": 197,
     "metadata": {},
     "output_type": "execute_result"
    }
   ],
   "source": [
    "s1 = \"foo!\"\n",
    "s2 = \"foo!\"\n",
    "s1 is s2"
   ]
  },
  {
   "cell_type": "code",
   "execution_count": 198,
   "metadata": {},
   "outputs": [
    {
     "data": {
      "text/plain": [
       "True"
      ]
     },
     "execution_count": 198,
     "metadata": {},
     "output_type": "execute_result"
    }
   ],
   "source": [
    "s1 = \"a\"\n",
    "s2 = \"a\"\n",
    "s1 is s2"
   ]
  },
  {
   "cell_type": "markdown",
   "metadata": {},
   "source": [
    "https://github.com/python/cpython/blob/master/Objects/unicodeobject.c#L15171"
   ]
  },
  {
   "cell_type": "code",
   "execution_count": 199,
   "metadata": {},
   "outputs": [],
   "source": [
    "interned = None\n",
    "\n",
    "def intern(string):\n",
    "    global interned\n",
    "    \n",
    "    if string is None or not type(string) is str:\n",
    "        raise TypeError\n",
    "\n",
    "    if interned is None:\n",
    "        interned = {}\n",
    "\n",
    "    t = interned.get(string)\n",
    "    if t is not None:\n",
    "        return t\n",
    "\n",
    "    interned[string] = string\n",
    "    return string"
   ]
  },
  {
   "cell_type": "markdown",
   "metadata": {},
   "source": [
    "##### Пример"
   ]
  },
  {
   "cell_type": "code",
   "execution_count": 200,
   "metadata": {},
   "outputs": [
    {
     "data": {
      "text/plain": [
       "True"
      ]
     },
     "execution_count": 200,
     "metadata": {},
     "output_type": "execute_result"
    }
   ],
   "source": [
    "import sys\n",
    "s1 = sys.intern(\"foo!\")\n",
    "s2 = sys.intern(\"foo!\")\n",
    "s1 is s2"
   ]
  },
  {
   "cell_type": "markdown",
   "metadata": {},
   "source": [
    "Использование интернирования строк гарантирует, что не будет создано двух одинаковых строковых объектов. Когда вы создаете второй объект с тем же значением, что и у существующего объекта, то вы получаете ссылку на уже существующий объект. Таким образом, интернирование строк позволяет экономить память и повышает скорость сравнения строк, путем сравнения их адресов (хешей), а не содержимого."
   ]
  },
  {
   "cell_type": "markdown",
   "metadata": {},
   "source": [
    "1. [Python String Interning](http://guilload.com/python-string-interning/)"
   ]
  },
  {
   "cell_type": "markdown",
   "metadata": {},
   "source": [
    "### Списки и кортежи"
   ]
  },
  {
   "cell_type": "markdown",
   "metadata": {},
   "source": [
    "```c\n",
    "typedef struct {\n",
    "    PyObject_VAR_HEAD\n",
    "    /* Vector of pointers to list elements.  list[0] is ob_item[0], etc. */\n",
    "    PyObject **ob_item;\n",
    "\n",
    "    /* ob_item contains space for 'allocated' elements.  The number\n",
    "     * currently in use is ob_size.\n",
    "     * Invariants:\n",
    "     *     0 <= ob_size <= allocated\n",
    "     *     len(list) == ob_size\n",
    "     *     ob_item == NULL implies ob_size == allocated == 0\n",
    "     * list.sort() temporarily sets allocated to -1 to detect mutations.\n",
    "     *\n",
    "     * Items must normally not be NULL, except during construction when\n",
    "     * the list is not yet visible outside the function that builds it.\n",
    "     */\n",
    "    Py_ssize_t allocated;\n",
    "} PyListObject;\n",
    "```"
   ]
  },
  {
   "cell_type": "markdown",
   "metadata": {},
   "source": [
    "```c\n",
    "/* This over-allocates proportional to the list size, making room\n",
    " * for additional growth.  The over-allocation is mild, but is\n",
    " * enough to give linear-time amortized behavior over a long\n",
    " * sequence of appends() in the presence of a poorly-performing\n",
    " * system realloc().\n",
    " * The growth pattern is:  0, 4, 8, 16, 25, 35, 46, 58, 72, 88, ...\n",
    " * Note: new_allocated won't overflow because the largest possible value\n",
    " *       is PY_SSIZE_T_MAX * (9 / 8) + 6 which always fits in a size_t.\n",
    " */\n",
    "new_allocated = (size_t)newsize + (newsize >> 3) + (newsize < 9 ? 3 : 6);\n",
    "```"
   ]
  },
  {
   "cell_type": "markdown",
   "metadata": {},
   "source": [
    "```c\n",
    "typedef struct {\n",
    "    PyObject_VAR_HEAD\n",
    "    PyObject *ob_item[1];\n",
    "\n",
    "    /* ob_item contains space for 'ob_size' elements.\n",
    "     * Items must normally not be NULL, except during construction when\n",
    "     * the tuple is not yet visible outside the function that builds it.\n",
    "     */\n",
    "} PyTupleObject;\n",
    "```"
   ]
  },
  {
   "cell_type": "markdown",
   "metadata": {},
   "source": [
    "<div class=\"alert alert-warning\">\n",
    "    <b>Вопрос:</b>\n",
    "    <ul>\n",
    "        <li>`Размер в байтах([1,1,1,1,1]) = Размер в байтах((1,1,1,1,1))`?</li>\n",
    "        <li>`Размер в байтах([1,1,1,1,1]) > Размер в байтах((1,1,1,1,1))`?</li>\n",
    "        <li>`Размер в байтах([1,1,1,1,1]) < Размер в байтах((1,1,1,1,1))`?</li>\n",
    "    </ul>\n",
    "</div>"
   ]
  },
  {
   "cell_type": "markdown",
   "metadata": {},
   "source": [
    "### Словари"
   ]
  },
  {
   "cell_type": "markdown",
   "metadata": {},
   "source": [
    "1. [Modern Dictionaries by Raymond Hettinger](https://www.youtube.com/watch?v=p33CVV29OG8)\n",
    "2. [Brandon Rhodes: The Dictionary Even Mightier](https://www.youtube.com/watch?v=66P5FMkWoVU)"
   ]
  }
 ],
 "metadata": {
  "kernelspec": {
   "display_name": "Python 3",
   "language": "python",
   "name": "python3"
  },
  "language_info": {
   "codemirror_mode": {
    "name": "ipython",
    "version": 3
   },
   "file_extension": ".py",
   "mimetype": "text/x-python",
   "name": "python",
   "nbconvert_exporter": "python",
   "pygments_lexer": "ipython3",
   "version": "3.7.4"
  }
 },
 "nbformat": 4,
 "nbformat_minor": 2
}
