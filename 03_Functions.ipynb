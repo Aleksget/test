{
 "cells": [
  {
   "cell_type": "code",
   "execution_count": 1,
   "metadata": {},
   "outputs": [],
   "source": [
    "import random"
   ]
  },
  {
   "cell_type": "code",
   "execution_count": 2,
   "metadata": {},
   "outputs": [
    {
     "name": "stdout",
     "output_type": "stream",
     "text": [
      "Камень\n",
      "Ножницы\n",
      "Бумага\n"
     ]
    }
   ],
   "source": [
    "def get_word(number):\n",
    "    word = \"\"\n",
    "    if number == 1:\n",
    "        word = 'Камень'\n",
    "    elif number == 2:\n",
    "        word = 'Ножницы'\n",
    "    else:\n",
    "        word = 'Бумага'\n",
    "    return word\n",
    "\n",
    "print(get_word(1))\n",
    "print(get_word(2))\n",
    "print(get_word(3))"
   ]
  },
  {
   "cell_type": "code",
   "execution_count": 3,
   "metadata": {},
   "outputs": [
    {
     "name": "stdout",
     "output_type": "stream",
     "text": [
      "(('Пользователь: ', 'Камень', ', Компьютер: ', 'Бумага'), 'Победил компьютер, так как бумага заворачивает камень')\n",
      "(('Пользователь: ', 'Ножницы', ', Компьютер: ', 'Камень'), 'Победил компьютер, так как камень ломает ножницы')\n",
      "(('Пользователь: ', 'Бумага', ', Компьютер: ', 'Камень'), 'Победил пользователь, так как бумага заворачивает камень')\n"
     ]
    }
   ],
   "source": [
    "def game(word):\n",
    "    result1 = ''\n",
    "    result2 = ''\n",
    "    comp_number=random.randint(1,3)\n",
    "    comp_word=get_word(comp_number)\n",
    "    result1 = \"Пользователь: \", word, \", Компьютер: \", comp_word\n",
    "    if   word == 'Камень' and comp_word == 'Ножницы':\n",
    "        result2='Победил пользователь, так как камень ломает ножницы'\n",
    "    elif word == 'Ножницы' and comp_word == 'Бумага':\n",
    "        result2='Победил пользователь, так как ножницы режут бумагу'\n",
    "    elif word == 'Бумага' and comp_word == 'Камень':\n",
    "        result2='Победил пользователь, так как бумага заворачивает камень'        \n",
    "    \n",
    "    elif   word == 'Ножницы' and comp_word == 'Камень':\n",
    "        result2='Победил компьютер, так как камень ломает ножницы'\n",
    "    elif word == 'Бумага' and comp_word == 'Ножницы':\n",
    "        result2='Победил компьютер, так как ножницы режут бумагу'\n",
    "    elif word == 'Камень' and comp_word == 'Бумага':\n",
    "        result2='Победил компьютер, так как бумага заворачивает камень'        \n",
    "    \n",
    "    elif word == comp_word:\n",
    "        result2='Ничья'\n",
    "    \n",
    "    return result1, result2\n",
    "\n",
    "print(game('Камень'))\n",
    "print(game('Ножницы'))\n",
    "print(game('Бумага'))"
   ]
  },
  {
   "cell_type": "markdown",
   "metadata": {},
   "source": [
    "### Домашнее задание"
   ]
  },
  {
   "cell_type": "markdown",
   "metadata": {},
   "source": [
    "1. Добавьте ящерицу и Спока"
   ]
  },
  {
   "cell_type": "markdown",
   "metadata": {},
   "source": [
    "2. Создайте функцию, решающую квадратное уравнение"
   ]
  },
  {
   "cell_type": "code",
   "execution_count": null,
   "metadata": {},
   "outputs": [],
   "source": []
  }
 ],
 "metadata": {
  "kernelspec": {
   "display_name": "Python 3",
   "language": "python",
   "name": "python3"
  },
  "language_info": {
   "codemirror_mode": {
    "name": "ipython",
    "version": 3
   },
   "file_extension": ".py",
   "mimetype": "text/x-python",
   "name": "python",
   "nbconvert_exporter": "python",
   "pygments_lexer": "ipython3",
   "version": "3.8.3"
  }
 },
 "nbformat": 4,
 "nbformat_minor": 4
}
