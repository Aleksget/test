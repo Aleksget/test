{
  "nbformat": 4,
  "nbformat_minor": 0,
  "metadata": {
    "kernelspec": {
      "display_name": "Python 3",
      "language": "python",
      "name": "python3"
    },
    "language_info": {
      "codemirror_mode": {
        "name": "ipython",
        "version": 3
      },
      "file_extension": ".py",
      "mimetype": "text/x-python",
      "name": "python",
      "nbconvert_exporter": "python",
      "pygments_lexer": "ipython3",
      "version": "3.7.6"
    },
    "colab": {
      "name": "01_Знакомство_с_Python_и_Jupyter_Notebook.ipynb",
      "provenance": []
    }
  },
  "cells": [
    {
      "cell_type": "markdown",
      "metadata": {
        "id": "AhdhJvvKuH6_"
      },
      "source": [
        "**Задача-1**"
      ]
    },
    {
      "cell_type": "code",
      "metadata": {
        "colab": {
          "base_uri": "https://localhost:8080/",
          "height": 0
        },
        "id": "Z6e904THuNN6",
        "outputId": "89eb2a80-b546-423a-9719-cfd7727e4177"
      },
      "source": [
        "a = input ('Введите значение переменной \"a\" ')\n",
        "b = input ('Введите значение переменной \"b\" ')\n",
        "c = a\n",
        "a = b\n",
        "b = c\n",
        "print('Обновленной значение переменной \"a\" ', a)\n",
        "print('Обновленной значение переменной \"b\" ', b)"
      ],
      "execution_count": 88,
      "outputs": [
        {
          "output_type": "stream",
          "name": "stdout",
          "text": [
            "Введите значение переменной \"a\" 5\n",
            "Введите значение второй переменной \"b\" 10\n",
            "Обновленной значение переменной \"a\"  10\n",
            "Обновленной значение переменной \"b\"  5\n"
          ]
        }
      ]
    },
    {
      "cell_type": "markdown",
      "metadata": {
        "id": "0ZV7q2izvvgP"
      },
      "source": [
        "**Задача-2**"
      ]
    },
    {
      "cell_type": "code",
      "metadata": {
        "colab": {
          "base_uri": "https://localhost:8080/",
          "height": 0
        },
        "id": "w59k40ejvt5A",
        "outputId": "7a63179c-507c-488f-b45f-ec86d1596043"
      },
      "source": [
        "name = int(input ('Укажите свой возраст '))\n",
        "if name >= 18:\n",
        "  print (\"Доступ разрешен\")\n",
        "else:\n",
        "  print (\"Извините, пользование данным ресурсом только с 18 лет\")"
      ],
      "execution_count": 17,
      "outputs": [
        {
          "output_type": "stream",
          "name": "stdout",
          "text": [
            "Укажите свой возраст 5645\n",
            "Доступ разрешен\n"
          ]
        }
      ]
    },
    {
      "cell_type": "markdown",
      "metadata": {
        "id": "xDAnfjV1vyH_"
      },
      "source": [
        "**Задача-3**"
      ]
    },
    {
      "cell_type": "code",
      "metadata": {
        "colab": {
          "base_uri": "https://localhost:8080/",
          "height": 0
        },
        "id": "q56AgqZ9X0Td",
        "outputId": "dd52d691-453d-44b4-df79-ebe21f8a3203"
      },
      "source": [
        "lst = [1, 2, 4, 5, 6, 2, 5, 2]\n",
        "lst2=set(lst)\n",
        "print(lst2)"
      ],
      "execution_count": 18,
      "outputs": [
        {
          "output_type": "stream",
          "name": "stdout",
          "text": [
            "{1, 2, 4, 5, 6}\n"
          ]
        }
      ]
    },
    {
      "cell_type": "markdown",
      "metadata": {
        "id": "NdYvsqFDv0pO"
      },
      "source": [
        "**Задача-4**"
      ]
    },
    {
      "cell_type": "code",
      "metadata": {
        "colab": {
          "base_uri": "https://localhost:8080/",
          "height": 0
        },
        "id": "uqosgbJ1YRks",
        "outputId": "dd9f6584-c42e-4962-a583-b9f7673c7ef8"
      },
      "source": [
        "a = float(input ('Введите значение \"a\" '))\n",
        "b = float(input ('Введите значение \"b\" '))\n",
        "c = float(input ('Введите значение \"с\" '))\n",
        "print('Вычисляем корни квадратного уравнения вида: ax2 + bx + c = 0 . . . ')\n",
        "dis = b**2 - 4 * a * c\n",
        "if dis > 0:\n",
        "  import math\n",
        "  k1 = (-b + (dis ** 0.5)) / (2 * a)\n",
        "  k2 = (-b - (dis ** 0.5)) / (2 * a)\n",
        "  print(k1, k2)\n",
        "elif dis == 0:\n",
        "  x = -b / (2 * a)\n",
        "  print(k)\n",
        "else:\n",
        "  print(\"Корней нет\")\n"
      ],
      "execution_count": 30,
      "outputs": [
        {
          "output_type": "stream",
          "name": "stdout",
          "text": [
            "Введите значение \"a\" 1\n",
            "Введите значение \"b\" 5\n",
            "Введите значение \"с\" 9\n",
            "Вычисляем корни квадратного уравнения вида: ax2 + bx + c = 0 . . . \n",
            "Корней нет\n"
          ]
        }
      ]
    },
    {
      "cell_type": "markdown",
      "metadata": {
        "id": "gShV7Zelv2NP"
      },
      "source": [
        "**Задача-5**"
      ]
    },
    {
      "cell_type": "code",
      "metadata": {
        "colab": {
          "base_uri": "https://localhost:8080/"
        },
        "id": "1gDnpJXsn49T",
        "outputId": "aa63c307-78ea-41ad-9578-34d809957a08"
      },
      "source": [
        "# Дата для проверки:\n",
        "dat = '28.02.2021'\n",
        "\n",
        "d = int(dat[0:2])\n",
        "m = int(dat[3:5])\n",
        "y = int(dat[6:10])\n",
        "\n",
        "# Проверка корректности года:\n",
        "if 1 < y < 9999:\n",
        "  print('год введен корректно')\n",
        "else:\n",
        "  print('год введен НЕ корректно')\n",
        "\n",
        "# Проверка корректности месяца:\n",
        "if 0 < m < 13:\n",
        "  print('месяц введен корректно')\n",
        "else:\n",
        "  print('месяц введен НЕ корректно')\n",
        "\n",
        "# Проверка корректности даты (в зависимости от кол-ва дней в месяце):\n",
        "m1 = dat[3:5]\n",
        "list30 = ['04', '06', '09', '11']\n",
        "list31 = ['01', '03', '05', '07', '08', '10', '12']\n",
        "list28 = ['02']\n",
        "if m1 in list30:\n",
        "  if 0 < d < 31:\n",
        "    print('дата введена корректно') \n",
        "  else:\n",
        "    print('дата введена НЕ корректно') \n",
        "elif m1 in list31:\n",
        "  if 0 < d < 32:\n",
        "    print('дата введена корректно') \n",
        "  else:\n",
        "    print('дата введена НЕ корректно') \n",
        "elif m1 in list28:\n",
        "  if 0 < d < 29:\n",
        "    print('дата введена корректно') \n",
        "  else:\n",
        "    print('дата введена НЕ корректно') \n",
        "\n",
        "\n",
        "\n"
      ],
      "execution_count": 33,
      "outputs": [
        {
          "output_type": "stream",
          "name": "stdout",
          "text": [
            "год введен корректно\n",
            "месяц введен корректно\n",
            "дата введена корректно\n"
          ]
        }
      ]
    },
    {
      "cell_type": "markdown",
      "metadata": {
        "id": "TEwFvLmZv3Of"
      },
      "source": [
        "**Задача-6**"
      ]
    },
    {
      "cell_type": "code",
      "metadata": {
        "colab": {
          "base_uri": "https://localhost:8080/"
        },
        "id": "Myjv6-OXxyR6",
        "outputId": "16c7af33-c993-42a8-a1cb-b467b5ac3613"
      },
      "source": [
        "#Точка А1:\n",
        "x1 = -2\n",
        "y1 = 3\n",
        "#Точка А2:\n",
        "x2 = 6\n",
        "y2 = 4\n",
        "#Точка А3:\n",
        "x3 = 5\n",
        "y3 = -3\n",
        "#Точка А4:\n",
        "x4 = -3\n",
        "y4 = -4\n",
        "\n",
        "#Стороны:\n",
        "A1A2 = ((x2-x1)+(y2-y1))**0.5\n",
        "A3A4 = ((x3-x4)+(y3-y4))**0.5\n",
        "A2A3 = ((x2-x3)+(y2-y3))**0.5\n",
        "A4A1 = ((x1-x4)+(y1-y4))**0.5\n",
        "#print(A1A2)\n",
        "#print(A3A4)\n",
        "#print(A2A3)\n",
        "#print(A4A1)\n",
        "\n",
        "#проверка:\n",
        "if A1A2 == A3A4 and A2A3==A4A1:\n",
        "  print('Координаты являются вешинами параллелограмма')\n",
        "else:\n",
        "  print('Координаты НЕ являются вешинами параллелограмма')"
      ],
      "execution_count": 199,
      "outputs": [
        {
          "output_type": "stream",
          "name": "stdout",
          "text": [
            "Координаты являются вешинами параллелограмма\n"
          ]
        }
      ]
    },
    {
      "cell_type": "markdown",
      "metadata": {
        "id": "NS1Ww7H-v5R3"
      },
      "source": [
        "**Задача-7**"
      ]
    },
    {
      "cell_type": "code",
      "metadata": {
        "colab": {
          "base_uri": "https://localhost:8080/"
        },
        "id": "5TfRdgP6yrDV",
        "outputId": "f346dba0-1d6e-4c75-c99a-5412eb00eebc"
      },
      "source": [
        "bilet = 256652\n",
        "\n",
        "bilet = str(bilet)\n",
        "a = (int(bilet[0])+int(bilet[1])+int(bilet[2]))\n",
        "b = (int(bilet[3])+int(bilet[4])+int(bilet[5]))\n",
        "\n",
        "if a==b:\n",
        "  print('Поздравляем! У Вас \"счастливый\" билет')\n",
        "else:\n",
        "  print('Это \"не счастливый\" билет')"
      ],
      "execution_count": 89,
      "outputs": [
        {
          "output_type": "stream",
          "name": "stdout",
          "text": [
            "Поздравляем! У Вас \"счастливый\" билет\n"
          ]
        }
      ]
    },
    {
      "cell_type": "markdown",
      "metadata": {
        "id": "5lahnRUPv7If"
      },
      "source": [
        "**Задача-8**"
      ]
    },
    {
      "cell_type": "code",
      "metadata": {
        "colab": {
          "base_uri": "https://localhost:8080/"
        },
        "id": "QcGKvd-3-V0w",
        "outputId": "3b559265-3703-4c8e-fc24-1fc7cbce1a78"
      },
      "source": [
        "# Дата:\n",
        "dat = '31.07.2021'\n",
        "\n",
        "d = int(dat[0:2])\n",
        "m = int(dat[3:5])\n",
        "y = int(dat[6:10])\n",
        "\n",
        "# Словари:\n",
        "day={1:'первое',\n",
        "     2: 'второе',\n",
        "     3: 'третье',\n",
        "     4: 'четвертое',\n",
        "     5: 'пятое',\n",
        "     6: 'шестое',\n",
        "     7: 'седьмое',\n",
        "     8: 'восьмое',\n",
        "     9: 'девятое',\n",
        "     10: 'десятое',\n",
        "     11: 'одиннадцатое',\n",
        "     12: 'двенадцатое',\n",
        "     13: 'тринадцатое',\n",
        "     14: 'четырнадцатое',\n",
        "     15: 'пятнадцатое',\n",
        "     16: 'шестнадцатое',\n",
        "     17: 'семнадцатое',\n",
        "     18: 'восемнадцатое',\n",
        "     19: 'девятнадцатое',\n",
        "     20: 'двадцатое',\n",
        "     21: 'двадцать первое',\n",
        "     22: 'двадцать второе',\n",
        "     23: 'двадцать третье',\n",
        "     24: 'двадцать четвертое',\n",
        "     25: 'двадцать пятое',\n",
        "     26: 'двадцать шестое',\n",
        "     27: 'двадцать седьмое',\n",
        "     28: 'двадцать восьмое',\n",
        "     29: 'двадцать девятое',\n",
        "     30: 'тридцатое',\n",
        "     31: 'тридцать первое'}   \n",
        "\n",
        "month={1: 'января',\n",
        "      2:'февраля',\n",
        "      3:'марта',\n",
        "      4:'апреля',\n",
        "      5:'мая',\n",
        "      6:'июня',\n",
        "      7:'июля',\n",
        "      8:'августа',\n",
        "      9:'сентября',\n",
        "      10:'октября',\n",
        "      11:'ноября',\n",
        "      12:'декабря'}\n",
        "     \n",
        "#вывод даты:\n",
        "\n",
        "print(day[d],month[m], y,'г.' )\n",
        "\n"
      ],
      "execution_count": 131,
      "outputs": [
        {
          "output_type": "stream",
          "name": "stdout",
          "text": [
            "тридцать первое июля 2021 г.\n"
          ]
        }
      ]
    },
    {
      "cell_type": "markdown",
      "metadata": {
        "id": "IkV9zjgVv8df"
      },
      "source": [
        "**Задача-9**"
      ]
    },
    {
      "cell_type": "code",
      "metadata": {
        "colab": {
          "base_uri": "https://localhost:8080/"
        },
        "id": "SbBUe_5zHVGa",
        "outputId": "1522492c-5c3e-4d95-f98f-ae80eb2d0b12"
      },
      "source": [
        "#не уверен что правильно понял суть задания))\n",
        "\n",
        "equation = 'y= -12x + 11111140.2121'\n",
        "x = float(2.5)\n",
        "list1=list(equation.split('x + ' ))\n",
        "k = list1[0]\n",
        "b = list1[1]\n",
        "k=list(k.split('y= ' ))\n",
        "k.pop(0)\n",
        "k=k[0]\n",
        "k=float(k)\n",
        "b=float(b)\n",
        "\n",
        "#решение:\n",
        "y=k*x + b\n",
        "print(y)\n"
      ],
      "execution_count": 187,
      "outputs": [
        {
          "output_type": "stream",
          "name": "stdout",
          "text": [
            "11111110.2121\n"
          ]
        }
      ]
    },
    {
      "cell_type": "markdown",
      "metadata": {
        "id": "IOZb70s0v9qX"
      },
      "source": [
        "**Задача-10**"
      ]
    },
    {
      "cell_type": "code",
      "metadata": {
        "colab": {
          "base_uri": "https://localhost:8080/"
        },
        "id": "RpNKhkOoxw-Z",
        "outputId": "7e9a00b6-7e7a-48cc-ffd5-33bb2580fcc5"
      },
      "source": [
        "# Переменная а - это любое значение, большее чем 999999\n",
        "\n",
        "a=1000000\n",
        "a==a**2\n",
        "a==a*2\n",
        "a>999999"
      ],
      "execution_count": 139,
      "outputs": [
        {
          "output_type": "execute_result",
          "data": {
            "text/plain": [
              "True"
            ]
          },
          "metadata": {},
          "execution_count": 139
        }
      ]
    }
  ]
}