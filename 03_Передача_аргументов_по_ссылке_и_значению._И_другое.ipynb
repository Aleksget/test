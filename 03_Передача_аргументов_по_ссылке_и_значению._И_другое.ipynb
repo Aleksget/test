{
 "cells": [
  {
   "cell_type": "markdown",
   "metadata": {},
   "source": [
    " # Занятие 3. Передача аргументов по ссылке и значению. Генераторы списков. Регулярные выражения. Работа с файлами. Модули. Обработка ошибок."
   ]
  },
  {
   "cell_type": "markdown",
   "metadata": {},
   "source": [
    "## 1. Передача аргументов по ссылке и значению."
   ]
  },
  {
   "cell_type": "markdown",
   "metadata": {},
   "source": [
    "Как передаются переменные по ссылке или значению определяется в зависимости от передаваемого типа данных.\n",
    "\n",
    "В Python существует два типа объектов: "
   ]
  },
  {
   "cell_type": "markdown",
   "metadata": {},
   "source": [
    "### Неизменяемые (immutable)\n",
    "\n",
    "Неизменяемые объекты передаются _по значению_. \n",
    "\n",
    "Это значит, что при изменении значения переменной будет создан новый объект. К этому типу относятся: \n",
    "- числовые данные (int, float, complex) \n",
    "- символьные строки (str) \n",
    "- кортежи (tuple) \n",
    "\n",
    "Вы не можете изменить сам объект, т.е. когда вы присвоите переменной новое значение, интерпретатор создаст новый объект (если до этого этот объект был создан, то переменная просто получит ссылку), а первоначальный объект удалится из памяти сбощиком мусора, если ссылок на него больше нет."
   ]
  },
  {
   "cell_type": "code",
   "execution_count": null,
   "metadata": {
    "scrolled": true
   },
   "outputs": [],
   "source": [
    "n1 = 2\n",
    "n2 = n1\n",
    "n2 = 4\n",
    "print(n1, n2)"
   ]
  },
  {
   "cell_type": "markdown",
   "metadata": {},
   "source": [
    "### Изменяемые (mutable)\n",
    "\n",
    "Изменяемые объекты передаются _по ссылке_. Это значит, что при изменении значения переменной объект будет изменен. К этому типу относятся: \n",
    "- списки (list) \n",
    "- множества (set) \n",
    "- словари (dict)"
   ]
  },
  {
   "cell_type": "code",
   "execution_count": null,
   "metadata": {
    "scrolled": true
   },
   "outputs": [],
   "source": [
    "sp1 = [1,2,3]\n",
    "sp2 = sp1\n",
    "sp2.append(4)\n",
    "print(sp1)"
   ]
  },
  {
   "cell_type": "markdown",
   "metadata": {},
   "source": [
    "###  Подводные камни"
   ]
  },
  {
   "cell_type": "code",
   "execution_count": null,
   "metadata": {},
   "outputs": [],
   "source": [
    "print(id(n1))\n",
    "print(id(n2))"
   ]
  },
  {
   "cell_type": "code",
   "execution_count": null,
   "metadata": {
    "scrolled": true
   },
   "outputs": [],
   "source": [
    "print(id(sp1))\n",
    "print(id(sp2))"
   ]
  },
  {
   "cell_type": "code",
   "execution_count": null,
   "metadata": {},
   "outputs": [],
   "source": [
    "def modify(lst):\n",
    "    \"\"\"\n",
    "    Добавляет к передаваемому аргументу элемент 'new',\n",
    "    lst - список, передаваемый на вход функции\n",
    "    \"\"\"\n",
    "    lst.append('new')\n",
    "    return lst"
   ]
  },
  {
   "cell_type": "code",
   "execution_count": null,
   "metadata": {},
   "outputs": [],
   "source": [
    "?modify"
   ]
  },
  {
   "cell_type": "code",
   "execution_count": null,
   "metadata": {},
   "outputs": [],
   "source": [
    "my_list = [1,2,3]\n",
    "mod_list = modify(my_list)\n",
    "print(mod_list)\n",
    "print(my_list)"
   ]
  },
  {
   "cell_type": "code",
   "execution_count": null,
   "metadata": {
    "scrolled": false
   },
   "outputs": [],
   "source": [
    "my_list = [1,2,3]\n",
    "mod_list = modify(my_list[:])\n",
    "print(mod_list)\n",
    "print(my_list)"
   ]
  },
  {
   "cell_type": "code",
   "execution_count": null,
   "metadata": {},
   "outputs": [],
   "source": [
    "temp = [1, 3, 5]"
   ]
  },
  {
   "cell_type": "code",
   "execution_count": null,
   "metadata": {},
   "outputs": [],
   "source": [
    "temp[:]"
   ]
  },
  {
   "cell_type": "code",
   "execution_count": null,
   "metadata": {},
   "outputs": [],
   "source": [
    "print(id(temp[:]))\n",
    "print(id(temp))"
   ]
  },
  {
   "cell_type": "markdown",
   "metadata": {},
   "source": [
    "## 2. Генераторы списков."
   ]
  },
  {
   "cell_type": "code",
   "execution_count": null,
   "metadata": {},
   "outputs": [],
   "source": [
    "import random\n",
    "lst = []\n",
    "for i in range(10):\n",
    "    lst.append(random.randint(-10,10))\n",
    "print(lst)"
   ]
  },
  {
   "cell_type": "code",
   "execution_count": null,
   "metadata": {},
   "outputs": [],
   "source": [
    "[random.randint(-10,10) for i in range(10)]"
   ]
  },
  {
   "cell_type": "code",
   "execution_count": null,
   "metadata": {},
   "outputs": [],
   "source": [
    "lst_g = [i**2 for i in range(10)]\n",
    "lst_g"
   ]
  },
  {
   "cell_type": "code",
   "execution_count": null,
   "metadata": {},
   "outputs": [],
   "source": [
    "only_positive = [i for i in lst if i >= 0]\n",
    "only_positive"
   ]
  },
  {
   "cell_type": "markdown",
   "metadata": {},
   "source": [
    "<font color='blue'>**Задание 1.**</font>\n",
    "\n",
    "Создайте список четных чисел от 0 до 10, к каждому значению прибавьте 14"
   ]
  },
  {
   "cell_type": "markdown",
   "metadata": {},
   "source": [
    "## 3. Регулярные выражения."
   ]
  },
  {
   "cell_type": "markdown",
   "metadata": {},
   "source": [
    "**Регулярное выражение** — это строка, задающая шаблон поиска подстрок в тексте.\n",
    "\n",
    "Чаще всего регулярные выражения используются для:\n",
    "- поиска в строке\n",
    "- разбиения строки на подстроки\n",
    "- замены части строки"
   ]
  },
  {
   "cell_type": "markdown",
   "metadata": {},
   "source": [
    "В Python для работы с регулярными выражениями есть модуль re:"
   ]
  },
  {
   "cell_type": "code",
   "execution_count": null,
   "metadata": {},
   "outputs": [],
   "source": [
    "import re"
   ]
  },
  {
   "cell_type": "markdown",
   "metadata": {},
   "source": [
    "### Поиск в строке"
   ]
  },
  {
   "cell_type": "code",
   "execution_count": null,
   "metadata": {},
   "outputs": [],
   "source": [
    "# Строка, в которой будет осуществлен поиск:\n",
    "string = 'ДРП: Объем данной нефтебазы ДРП1234567 составляет 12000 тонн'"
   ]
  },
  {
   "cell_type": "markdown",
   "metadata": {},
   "source": [
    "Метод _match()_ ищет по заданному шаблону в начале строки:"
   ]
  },
  {
   "cell_type": "code",
   "execution_count": null,
   "metadata": {
    "scrolled": true
   },
   "outputs": [],
   "source": [
    "print(re.match('ДРП', string)) # Шаблон найден в строке\n",
    "print(re.match('тонн', string)) # Шаблон не найден в строке"
   ]
  },
  {
   "cell_type": "markdown",
   "metadata": {},
   "source": [
    "Метод _search()_ ищет по всей строке, но возвращает только первое найденное совпадение:"
   ]
  },
  {
   "cell_type": "code",
   "execution_count": null,
   "metadata": {
    "scrolled": true
   },
   "outputs": [],
   "source": [
    "print(re.search('тонн', string)) # Шаблон найден в строке\n",
    "print(re.search('тоннн', string)) # Шаблон не найден в строке"
   ]
  },
  {
   "cell_type": "code",
   "execution_count": null,
   "metadata": {
    "scrolled": true
   },
   "outputs": [],
   "source": [
    "print(re.match('ДРП', string).group()) # Вывод содержимого исходной строки\n",
    "print(re.search('тонн', string).group()) # Вывод содержимого исходной строки"
   ]
  },
  {
   "cell_type": "markdown",
   "metadata": {},
   "source": [
    "Метод _findall()_ этот метод возвращает список всех найденных совпадений:"
   ]
  },
  {
   "cell_type": "code",
   "execution_count": null,
   "metadata": {
    "scrolled": false
   },
   "outputs": [],
   "source": [
    "print(re.findall('ДРП', string))\n",
    "print(re.findall('Привет', string))"
   ]
  },
  {
   "cell_type": "markdown",
   "metadata": {},
   "source": [
    "###  Разбиение строки"
   ]
  },
  {
   "cell_type": "code",
   "execution_count": null,
   "metadata": {},
   "outputs": [],
   "source": [
    "string # Вспомним какая у нас задана строка"
   ]
  },
  {
   "cell_type": "markdown",
   "metadata": {},
   "source": [
    "Метод _split()_ разделяет строку по заданному шаблону:"
   ]
  },
  {
   "cell_type": "code",
   "execution_count": null,
   "metadata": {},
   "outputs": [],
   "source": [
    "re.split(' ', string)"
   ]
  },
  {
   "cell_type": "code",
   "execution_count": null,
   "metadata": {
    "scrolled": true
   },
   "outputs": [],
   "source": [
    "re.split(' ', string, maxsplit = 1)"
   ]
  },
  {
   "cell_type": "markdown",
   "metadata": {},
   "source": [
    "###  Замена части строки"
   ]
  },
  {
   "cell_type": "markdown",
   "metadata": {},
   "source": [
    "Метод _sub()_ ищет шаблон в строке и заменяет его на указанную подстроку, если шаблон не найден, строка остается неизменной:"
   ]
  },
  {
   "cell_type": "code",
   "execution_count": null,
   "metadata": {
    "scrolled": true
   },
   "outputs": [],
   "source": [
    "re.sub('ДРП', 'DRP', string)"
   ]
  },
  {
   "cell_type": "markdown",
   "metadata": {},
   "source": [
    "### Операторы"
   ]
  },
  {
   "cell_type": "markdown",
   "metadata": {},
   "source": [
    "Мы рассмотрели поиск определенной последовательности символов. Но часто случается так, что нет определенного шаблона, и нам надо вернуть набор символов из строки, отвечающий определенным правилам. Такая задача часто стоит при извлечении информации из строк. Это можно сделать, написав выражение с использованием специальных символов. Вот наиболее часто используемые из них:"
   ]
  },
  {
   "cell_type": "markdown",
   "metadata": {},
   "source": [
    "Оператор | Значение\n",
    "------|----------\n",
    ".     | Один любой символ, кроме новой строки \\n.\n",
    "?     | 0 или 1 вхождение шаблона слева (указывает число повторений)\n",
    "+     | 1 и более вхождений шаблона слева (указывает число повторений)\n",
    "*     | 0 и более вхождений шаблона слева (указывает число повторений)\n",
    "\\w     | Любая цифра или буква\n",
    "\\W     | Все, кроме буквы или цифры\n",
    "\\d     | Любая цифра\n",
    "\\D     | Все, кроме цифры\n",
    "\\s     | Любой пробельный символ\n",
    "\\S     | Любой непробельный символ\n",
    "\\b     | Граница слова\n",
    "[..]     | Один из символов в скобках\n",
    "[^..]     | Любой символ, кроме тех, что в скобках\n",
    "\\     | Экранирование специальных символов (\\\\. означает точку или \\\\+ — знак «плюс»)\n",
    "^ и $     | Начало и конец строки соответственно\n",
    "{n,m} | От n до m вхождений ({,m} — от 0 до m)\n",
    "a\\|b | Соответствует a или b\n",
    "() | Группирует выражение и возвращает найденный текст\n",
    "\\t, \\n, \\r | Символ табуляции, новой строки и возврата каретки соответственно"
   ]
  },
  {
   "cell_type": "code",
   "execution_count": null,
   "metadata": {},
   "outputs": [],
   "source": [
    "pattern = '[0-9]'\n",
    "string = 'Объем данной нефтебазы ДРП1234557 составляет 12000 тонн'\n",
    "print(re.findall(pattern, string))"
   ]
  },
  {
   "cell_type": "code",
   "execution_count": null,
   "metadata": {},
   "outputs": [],
   "source": [
    "pattern = '\\d+'\n",
    "string = 'Объем данной нефтебазы ДРП1234557 составляет 12000 тонн'\n",
    "print(re.findall(pattern, string))"
   ]
  },
  {
   "cell_type": "code",
   "execution_count": null,
   "metadata": {
    "scrolled": true
   },
   "outputs": [],
   "source": [
    "pattern = ' ([0-9]+)'\n",
    "string = 'Объем данной нефтебазы ДРП1234557 составляет 12000 тонн'\n",
    "print(re.findall(pattern, string))"
   ]
  },
  {
   "cell_type": "code",
   "execution_count": null,
   "metadata": {},
   "outputs": [],
   "source": [
    "pattern = 'тонн$'\n",
    "string = 'Объем данной нефтебазы ДРП1234557 составляет 12000 тонн'\n",
    "print(re.findall(pattern, string))"
   ]
  },
  {
   "cell_type": "code",
   "execution_count": null,
   "metadata": {
    "scrolled": false
   },
   "outputs": [],
   "source": [
    "pattern = '^тонн'\n",
    "string = 'Объем данной нефтебазы ДРП1234557 составляет 12000 тонн'\n",
    "print(re.findall(pattern, string))"
   ]
  },
  {
   "cell_type": "markdown",
   "metadata": {},
   "source": [
    "Методом compile() можно собрать регулярное выражение в отдельный объект, который может быть использован для поиска. Это также избавляет от переписывания одного и того же выражения."
   ]
  },
  {
   "cell_type": "code",
   "execution_count": null,
   "metadata": {
    "scrolled": true
   },
   "outputs": [],
   "source": [
    "log = [\n",
    "    'Данные собраны в [DATAMARTS.dbo.FULL_CENTER_REALIZACIYA]'\n",
    "    'АЗС=1 Площадь=120 Время простоя=3 чaca',\n",
    "    'Данные собраны в [DATAMARTS.dbo.FULL_CENTER_REALIZACIYA]'\n",
    "    'АЗС=2 Площадь=64 Время простоя=24 чaca',\n",
    "    'Данные собраны в [DATAMARTS.dbo.FULL_CENTER_REALIZACIYA]'\n",
    "    'АЗС=3 Площадь=130 Время простоя=56 часов',\n",
    "    'Данные собраны в [DATAMARTS.dbo.FULL_CENTER_REALIZACIYA]'\n",
    "    'АЗС=4 Площадь=84 Время простоя=13 часов']\n",
    "pattern = re.compile('(АЗС=\\d).*(Время простоя=\\d+ [час]\\w+)')\n",
    "result = []\n",
    "for line in log:\n",
    "    result.append(pattern.search(line).groups())\n",
    "print(result)"
   ]
  },
  {
   "cell_type": "code",
   "execution_count": null,
   "metadata": {},
   "outputs": [],
   "source": [
    "#'(АЗС=[\\d]).*(Время простоя=[\\d]+ [час]\\w+)'\n",
    "# () - извлекаем то, что в скобках\n",
    "# [] - один из символов\n",
    "# \\d - любая цифра\n",
    "# \\w - любая цифра или буква\n",
    "# \\S - любой не пробельный символ\n",
    "# . - любой символ\n",
    "# * - любая последовательность символов начиная с 0\n",
    "# + - любая последовательность символов начиная с 1"
   ]
  },
  {
   "cell_type": "markdown",
   "metadata": {},
   "source": [
    "<font color='blue'>**Задание 2.**</font>\n",
    "\n",
    "Вывести кортеж с текстом (\"Реализовано клиенту = ...\", \"в объеме = ... тонн\")"
   ]
  },
  {
   "cell_type": "code",
   "execution_count": null,
   "metadata": {},
   "outputs": [],
   "source": [
    "Data_fuel = [\n",
    "    'Реализовано клиенту = Лукойл, топлива типа = АИ-92, по ж/д, в объеме = 3200 тонн',\n",
    "    'Реализовано клиенту = Роснефть, топлива типа = АИ-95, по ж/д, в объеме = 2200 тонн',\n",
    "    'Реализовано клиенту = Транснефть, топлива типа = АИ-95, по ж/д, в объеме = 1200 тонн',\n",
    "    'Реализовано клиенту = ИП_Кудряшов, топлива типа = ДТ Летнее, автотранспортом, в объеме = 800 тонн',\n",
    "    ]"
   ]
  },
  {
   "cell_type": "markdown",
   "metadata": {},
   "source": [
    "### Отключение экранирования"
   ]
  },
  {
   "cell_type": "markdown",
   "metadata": {},
   "source": [
    "Символ 'r' (в любом регистре), отключает механизм экранирования. <br>\n",
    "Экранированные последовательности - служебные символы. <br>\n",
    "Экранированные последовательности позволяют вставить символы, которые сложно ввести с клавиатуры, например перевод строки (аналог Enter в текстовых редакторах, это /n)<br>\n",
    "<br>\n",
    "**Пример:**"
   ]
  },
  {
   "cell_type": "code",
   "execution_count": null,
   "metadata": {},
   "outputs": [],
   "source": [
    "print('Привет,\\nКак дела?')"
   ]
  },
  {
   "cell_type": "code",
   "execution_count": null,
   "metadata": {
    "scrolled": true
   },
   "outputs": [],
   "source": [
    "print(r'Привет,\\nКак дела?')"
   ]
  },
  {
   "cell_type": "markdown",
   "metadata": {},
   "source": [
    "Про экранированные последовательности можно почитать, например, здесь: https://pyprog.pro/python/py/str/esqape_sec.html"
   ]
  },
  {
   "cell_type": "markdown",
   "metadata": {},
   "source": [
    "<font color='blue'>**Задание 3.**</font>\n",
    "\n",
    "Придумайте шаблон для решения следущих задач:\n",
    "1. Вернуть первое слово из строки:"
   ]
  },
  {
   "cell_type": "code",
   "execution_count": null,
   "metadata": {},
   "outputs": [],
   "source": [
    "string = 'ДРП: Объем данной нефтебазы ДРП1234567 составляет 12000 тонн'"
   ]
  },
  {
   "cell_type": "code",
   "execution_count": null,
   "metadata": {},
   "outputs": [],
   "source": [
    "# pattern = ?\n",
    "# re.findall(pattern, string)"
   ]
  },
  {
   "cell_type": "markdown",
   "metadata": {},
   "source": [
    "2. Вернуть первые два символа каждого слова:"
   ]
  },
  {
   "cell_type": "code",
   "execution_count": null,
   "metadata": {},
   "outputs": [],
   "source": [
    "# pattern = ?\n",
    "# re.findall(pattern, string)"
   ]
  },
  {
   "cell_type": "markdown",
   "metadata": {},
   "source": [
    "3. Вернуть список доменов из списка адресов электронной почты:\n",
    "    * только @gmail и пр.\n",
    "    * только gmail и пр.\n",
    "    * только @gmail.com и пр.\n",
    "    * только com и пр."
   ]
  },
  {
   "cell_type": "code",
   "execution_count": null,
   "metadata": {},
   "outputs": [],
   "source": [
    "string = 'abc.test@gmail.com, xyz@test.ru, test.first@analyticsvidhya.com, qwerty.test@rest.ru'"
   ]
  },
  {
   "cell_type": "code",
   "execution_count": null,
   "metadata": {},
   "outputs": [],
   "source": [
    "# pattern = ?\n",
    "# re.findall(pattern, string)"
   ]
  },
  {
   "cell_type": "markdown",
   "metadata": {},
   "source": [
    "4. Извлечь из строки:\n",
    "    * Дату\n",
    "    * Год"
   ]
  },
  {
   "cell_type": "code",
   "execution_count": null,
   "metadata": {},
   "outputs": [],
   "source": [
    "string = 'Amit 34-3456 12-05-2007, XYZ 56-4532 11-11-2011, ABC 67-8945 12-01-2009'"
   ]
  },
  {
   "cell_type": "code",
   "execution_count": null,
   "metadata": {},
   "outputs": [],
   "source": [
    "# pattern = ?\n",
    "# re.findall(pattern, string)"
   ]
  },
  {
   "cell_type": "markdown",
   "metadata": {},
   "source": [
    "5. Проверить телефонный номер (длина 10 знаков и начинается на 8 или 9):"
   ]
  },
  {
   "cell_type": "code",
   "execution_count": null,
   "metadata": {},
   "outputs": [],
   "source": [
    "string = ['9999999999', '999999-999', '9887t9999', '898765453']"
   ]
  },
  {
   "cell_type": "code",
   "execution_count": null,
   "metadata": {},
   "outputs": [],
   "source": [
    "# pattern = ?\n",
    "\n",
    "# for number in string:\n",
    "#     if re.findall(pattern, number):\n",
    "#         print('Yes')\n",
    "#     else:\n",
    "#         print ('No')"
   ]
  },
  {
   "cell_type": "markdown",
   "metadata": {},
   "source": [
    "## 4. Работа с файлами."
   ]
  },
  {
   "cell_type": "markdown",
   "metadata": {},
   "source": [
    "Прежде, чем работать с файлом, его надо открыть. С этим справится встроенная функция open():"
   ]
  },
  {
   "cell_type": "code",
   "execution_count": null,
   "metadata": {},
   "outputs": [],
   "source": [
    "f = open('requirements.txt', 'r', encoding = 'UTF-8') # Cодержит 3 аргумента"
   ]
  },
  {
   "cell_type": "markdown",
   "metadata": {},
   "source": [
    "Обозначения режимов открытия файла:\n",
    "- 'r'\tоткрытие на чтение (является значением по умолчанию).\n",
    "- 'w'\tоткрытие на запись, содержимое файла удаляется, если файла не существует, создается новый.\n",
    "- 'x'\tоткрытие на запись, если файла не существует, иначе исключение.\n",
    "- 'a'\tоткрытие на дозапись, информация добавляется в конец файла.\n",
    "- 'b'\tоткрытие в двоичном режиме.\n",
    "- 't'\tоткрытие в текстовом режиме (является значением по умолчанию).\n",
    "- '+'\tоткрытие на чтение и запись"
   ]
  },
  {
   "cell_type": "markdown",
   "metadata": {},
   "source": [
    "Когда мы открыли файл,мы хотим прочитать из него информацию. Для этого есть два основных способа:\n",
    "\n",
    "- Первый - метод read, читающий весь файл целиком, если был вызван без аргументов, и n символов, если был вызван с аргументом (целым числом n)."
   ]
  },
  {
   "cell_type": "code",
   "execution_count": null,
   "metadata": {
    "scrolled": false
   },
   "outputs": [],
   "source": [
    "f = open('requirements.txt', 'r', encoding = 'UTF-8')\n",
    "f.read() # Читаем все, что есть в файле"
   ]
  },
  {
   "cell_type": "code",
   "execution_count": null,
   "metadata": {},
   "outputs": [],
   "source": [
    "f = open('requirements.txt', 'r', encoding = 'UTF-8')\n",
    "f.read(13) #Читаем первые 13 символов"
   ]
  },
  {
   "cell_type": "markdown",
   "metadata": {},
   "source": [
    "- Второй способ - прочитать файл построчно, воспользовавшись циклом for:"
   ]
  },
  {
   "cell_type": "code",
   "execution_count": null,
   "metadata": {
    "scrolled": false
   },
   "outputs": [],
   "source": [
    "f = open('requirements.txt', 'r', encoding = 'UTF-8')\n",
    "for line in f:\n",
    "    print(line, end = '')"
   ]
  },
  {
   "cell_type": "markdown",
   "metadata": {},
   "source": [
    "Модуль os предоставляет множество функций для работы с операционной системой, причём их поведение, как правило, не зависит от ОС, поэтому программы остаются переносимыми."
   ]
  },
  {
   "cell_type": "code",
   "execution_count": null,
   "metadata": {},
   "outputs": [],
   "source": [
    "import os"
   ]
  },
  {
   "cell_type": "code",
   "execution_count": null,
   "metadata": {},
   "outputs": [],
   "source": [
    "os.name # Имя операционной системы, доступные варианты: 'posix', 'nt', 'java'"
   ]
  },
  {
   "cell_type": "code",
   "execution_count": null,
   "metadata": {},
   "outputs": [],
   "source": [
    "os.getcwd() # Текущая рабочая директория"
   ]
  },
  {
   "cell_type": "code",
   "execution_count": null,
   "metadata": {},
   "outputs": [],
   "source": [
    "# os.chdir(path) - Смена текущей директории"
   ]
  },
  {
   "cell_type": "code",
   "execution_count": null,
   "metadata": {},
   "outputs": [],
   "source": [
    "# os.path - Позволяет работать с путями к файлам и папкам"
   ]
  },
  {
   "cell_type": "code",
   "execution_count": null,
   "metadata": {
    "scrolled": true
   },
   "outputs": [],
   "source": [
    "# Не самый хороший способ задания пути:\n",
    "path = 'requirements.txt'\n",
    "# Хороший кроссплатформенный метод указания пути:\n",
    "path = os.path.join('requirements.txt')"
   ]
  },
  {
   "cell_type": "code",
   "execution_count": null,
   "metadata": {},
   "outputs": [],
   "source": [
    "dir_path = os.path.join(os.getcwd(), 'NewDir')\n",
    "os.mkdir(dir_path) # Создаёт директорию"
   ]
  },
  {
   "cell_type": "code",
   "execution_count": null,
   "metadata": {},
   "outputs": [],
   "source": [
    "f = open(path, 'r', encoding = 'UTF-8')\n",
    "for line in f:\n",
    "    print(line)"
   ]
  },
  {
   "cell_type": "code",
   "execution_count": null,
   "metadata": {
    "scrolled": true
   },
   "outputs": [],
   "source": [
    "path = os.path.join('requirements.txt')\n",
    "f = open(path, 'r', encoding = 'UTF-8')\n",
    "symbol = 'numpy'\n",
    "for line in f:\n",
    "# Считываем файл построчно\n",
    "    if symbol in line: # Пока не найдем нужную информацию\n",
    "        print(line)\n",
    "        break"
   ]
  },
  {
   "cell_type": "markdown",
   "metadata": {},
   "source": [
    "Запись в файл осуществляется с помощью метода write:"
   ]
  },
  {
   "cell_type": "code",
   "execution_count": null,
   "metadata": {},
   "outputs": [],
   "source": [
    "my_file = open('some.txt', 'a')\n",
    "my_file.write('Python is a very interesting programming language! \\nI like it!\\n')\n",
    "my_file.close()"
   ]
  },
  {
   "cell_type": "code",
   "execution_count": null,
   "metadata": {},
   "outputs": [],
   "source": [
    "with open('requirements.txt') as file_in:\n",
    "    text = file_in.read()\n",
    "\n",
    "text = text.replace('tensorflow_gpu', 'Unknown package')\n",
    "\n",
    "with open('test.txt', 'w') as file_out:\n",
    "    file_out.write(text)"
   ]
  },
  {
   "cell_type": "markdown",
   "metadata": {},
   "source": [
    "<font color='blue'>**Задание 4.**</font>\n",
    "\n",
    "1. Прочитайте построчно и выведите информацию из файла \"test.txt\"\n",
    "2. Убедитесь, что замена из предыдущей ячейки была произведена корректно"
   ]
  },
  {
   "cell_type": "markdown",
   "metadata": {},
   "source": [
    "## 5. Модули."
   ]
  },
  {
   "cell_type": "markdown",
   "metadata": {},
   "source": [
    "### Подключение модуля"
   ]
  },
  {
   "cell_type": "code",
   "execution_count": null,
   "metadata": {},
   "outputs": [],
   "source": [
    "16 ** 0.5"
   ]
  },
  {
   "cell_type": "code",
   "execution_count": null,
   "metadata": {
    "scrolled": true
   },
   "outputs": [],
   "source": [
    "sqrt(16)"
   ]
  },
  {
   "cell_type": "code",
   "execution_count": null,
   "metadata": {},
   "outputs": [],
   "source": [
    "import math\n",
    "math.sqrt(16)"
   ]
  },
  {
   "cell_type": "code",
   "execution_count": null,
   "metadata": {},
   "outputs": [],
   "source": [
    "sqrt(16)"
   ]
  },
  {
   "cell_type": "code",
   "execution_count": null,
   "metadata": {},
   "outputs": [],
   "source": [
    "from math import sqrt\n",
    "sqrt(37)"
   ]
  },
  {
   "cell_type": "code",
   "execution_count": null,
   "metadata": {},
   "outputs": [],
   "source": [
    "from math import sqrt, sin, cos\n",
    "print(sin(0.4))\n",
    "print(cos(0.4))"
   ]
  },
  {
   "cell_type": "markdown",
   "metadata": {},
   "source": [
    "### Разделение пространства имен"
   ]
  },
  {
   "cell_type": "code",
   "execution_count": null,
   "metadata": {},
   "outputs": [],
   "source": [
    "from math import * # Импортируем все имена из данного модуля"
   ]
  },
  {
   "cell_type": "markdown",
   "metadata": {},
   "source": [
    "Возможно, у вас возникнет соблазн использовать этот метод, поскольку он позволяет вам напрямую использовать функцию без добавления имени модуля в качестве префикса. Тем не менее, он очень подвержен ошибкам, и вы также теряете возможность сказать, какой модуль фактически импортировал функцию"
   ]
  },
  {
   "cell_type": "code",
   "execution_count": null,
   "metadata": {
    "scrolled": false
   },
   "outputs": [],
   "source": [
    "from math import *\n",
    "log10(125)"
   ]
  },
  {
   "cell_type": "code",
   "execution_count": null,
   "metadata": {},
   "outputs": [],
   "source": [
    "from cmath import *\n",
    "log10(125)"
   ]
  },
  {
   "cell_type": "code",
   "execution_count": null,
   "metadata": {},
   "outputs": [],
   "source": [
    "log10(125)"
   ]
  },
  {
   "cell_type": "code",
   "execution_count": null,
   "metadata": {},
   "outputs": [],
   "source": [
    "math.log10(125)"
   ]
  },
  {
   "cell_type": "markdown",
   "metadata": {},
   "source": [
    "### Создание собственных модулей"
   ]
  },
  {
   "cell_type": "code",
   "execution_count": null,
   "metadata": {},
   "outputs": [],
   "source": [
    "import lib.lib1 as lib1\n",
    "print(lib1.do_something())\n",
    "print(lib1.more(8))"
   ]
  },
  {
   "cell_type": "code",
   "execution_count": null,
   "metadata": {},
   "outputs": [],
   "source": [
    "# def do_something():\n",
    "#     return 'Hello'\n",
    "# def more(num):\n",
    "#     return num > 1"
   ]
  },
  {
   "cell_type": "markdown",
   "metadata": {},
   "source": [
    "<font color='blue'>**Задание 5.**</font>\n",
    "\n",
    "1. Создайте папку moduls\n",
    "2. В папке moduls создать модуль на вход которому подается любая строка, а алгоритм возвращает список, в котором будут все большие буквы из входящей строки. Вызвать модуль.\n",
    "3. В папке moduls создать модуль, в котором должен быть следующий алгоритм: на вход модуля подается число, на выходе получаем список со случайно сгенерированными положительными числами от 1 до 10, длина которого равна входящему числу. Вызвать модуль.\n",
    "4. В папке moduls создать модуль на вход которому подается любая строка, а алгоритм возвращает словарь, в котором ключами являются буквы, а значениями количество этих букв в строке. Вызвать модуль."
   ]
  },
  {
   "cell_type": "code",
   "execution_count": null,
   "metadata": {},
   "outputs": [],
   "source": [
    "# Подсказка к пункту 3, можно использовать метод .count()\n",
    "'abfdvdwedaa'.count('a')"
   ]
  },
  {
   "cell_type": "markdown",
   "metadata": {},
   "source": [
    "## 6. Обработка ошибок."
   ]
  },
  {
   "cell_type": "code",
   "execution_count": null,
   "metadata": {
    "scrolled": true
   },
   "outputs": [],
   "source": [
    "100/0\n",
    "2 + 2"
   ]
  },
  {
   "cell_type": "code",
   "execution_count": null,
   "metadata": {},
   "outputs": [],
   "source": [
    "int('Hello')"
   ]
  },
  {
   "cell_type": "code",
   "execution_count": null,
   "metadata": {},
   "outputs": [],
   "source": [
    "n = '10'\n",
    "# n = 'Hello'\n",
    "try:\n",
    "    n = int(n)\n",
    "    print('n успешно преобразована к типу Int')\n",
    "except ValueError: # Тип ошибки\n",
    "    print('значение n невозможно преобразовать к типу int')"
   ]
  },
  {
   "cell_type": "code",
   "execution_count": null,
   "metadata": {
    "scrolled": true
   },
   "outputs": [],
   "source": [
    "f = 'asdf'\n",
    "# f = 2\n",
    "try:\n",
    "    f + 1\n",
    "except Exception:\n",
    "    print('Это что ещё такое?')\n",
    "else:\n",
    "    print('Всё хорошо.')\n",
    "finally:\n",
    "    print('Я закрыл файл.')\n",
    "# Именно в таком порядке: try, except, затем else, и только потом finally."
   ]
  },
  {
   "cell_type": "code",
   "execution_count": null,
   "metadata": {},
   "outputs": [],
   "source": [
    "# %load hw03.py"
   ]
  }
 ],
 "metadata": {
  "kernelspec": {
   "display_name": "Python 3",
   "language": "python",
   "name": "python3"
  },
  "language_info": {
   "codemirror_mode": {
    "name": "ipython",
    "version": 3
   },
   "file_extension": ".py",
   "mimetype": "text/x-python",
   "name": "python",
   "nbconvert_exporter": "python",
   "pygments_lexer": "ipython3",
   "version": "3.7.6"
  }
 },
 "nbformat": 4,
 "nbformat_minor": 2
}
